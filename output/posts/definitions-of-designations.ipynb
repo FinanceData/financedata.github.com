{
 "cells": [
  {
   "cell_type": "markdown",
   "metadata": {
    "deletable": true,
    "editable": true
   },
   "source": [
    "# 프로젝트 관계자의 호칭 정의\n",
    "\n",
    "<img width=\"300\" src=\"http://i.imgur.com/K0LtStP.jpg\" >\n",
    "\n",
    "* **프로젝트 매니저(PM)**: 여자 아홉명이 한 달만에 아이를 낳을 수 있다는 사람\n",
    "* **개발자**: 애 낳는데 18개월이 걸린다는 사람  <!-- TEASER_END -->\n",
    "* **기획자**: 임신 중에 아이 성별을 바꾸고 싶다는 사람\n",
    "* **온사이트 코디네이터**: 여자 한 명이 한 달만에 애를 아홉명 낳을 수 있다는 사람\n",
    "* **고객**: 자기가 왜 애를 원하는지 모르는 사람\n",
    "* **마케팅 담당자**: 인간 여자 남자가 없어도 자기가 애를 만들 수 있다는 사람\n",
    "* **리소스 관리자**: 인간 여자 남자 그 외 아무 재료 없이 애를 생산할 수 있다는 사람\n",
    "* **문서화 담당자**: 애가 나오던지 말던지 9개월동안의 과정을 문서화 하면 된다는 사람\n",
    "* **품질 관리자**: 애 낳는 프로세스가 맘에 드는 게 하나도 없는 사람\n",
    "* **테스터**: 내가 원한 아이는 이 아이가 아니라고 계속 와이프에게 말하는 사람\n",
    "* **인사 담당자**: 당나귀라도 어쨌든 9개월 시간만 주면 사람 아이를 낳을 수 있다고 믿는 사람\n",
    "\n",
    "원문: \"Definitions of Designations\" https://www.jitbit.com/alexblog/217-it-designation-definitions/"
   ]
  },
  {
   "cell_type": "markdown",
   "metadata": {
    "deletable": true,
    "editable": true
   },
   "source": [
    "#### 2017 [facebook.com/financedata](https://facebook.com/financedata)"
   ]
  }
 ],
 "metadata": {
  "kernelspec": {
   "display_name": "Python 3",
   "language": "python",
   "name": "python3"
  },
  "language_info": {
   "codemirror_mode": {
    "name": "ipython",
    "version": 3
   },
   "file_extension": ".py",
   "mimetype": "text/x-python",
   "name": "python",
   "nbconvert_exporter": "python",
   "pygments_lexer": "ipython3",
   "version": "3.5.2"
  },
  "nikola": {
   "category": "",
   "date": "2017-02-08 17:55:23 UTC+09:00",
   "description": "프로젝트 관계자의 호칭 정의",
   "link": "",
   "slug": "definitions-of-designations",
   "tags": "project, management",
   "title": "프로젝트 관계자의 호칭 정의",
   "type": "text"
  }
 },
 "nbformat": 4,
 "nbformat_minor": 2
}
