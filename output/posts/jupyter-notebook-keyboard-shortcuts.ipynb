{
 "cells": [
  {
   "cell_type": "markdown",
   "metadata": {
    "deletable": true,
    "editable": true
   },
   "source": [
    "# Jupyter Notebook 키보드 바로가기\n",
    "#### Jupyter Notebook의 몇가지 키보드 바로가기 조합을 익혀 두면 훨씬 빠르게 그리고 편리하게 사용할 수 있다.\n",
    "\n",
    "<img width=\"320\" src=\"http://i.imgur.com/AWtjxpH.jpg\" >"
   ]
  },
  {
   "cell_type": "markdown",
   "metadata": {
    "deletable": true,
    "editable": true
   },
   "source": [
    "# 명령모드와 편집모드\n",
    "\n",
    "Jupyter Notebook 키보드 입력에는 두 가지 모드가 있다.\n",
    "* 명령모드(Command mode): 노트북의 셀을 편집 (셀에 회색 테두리)\n",
    "* 편집모드(Edit mode): 셀에 있는 텍스트나 코드를 편집 (셀에 녹색 테두리)\n",
    "\n",
    "Esc키를 누르면 명령모드로, Enter를 누르면 편집모드로 상호전환 된다. 명령모드에서 j,k 키로 아래/위로 이동 할 수 있다 (페이스북, 트위터, Google+ 같은 SNS 서비스에서도 j,k 키를 써서 아래/위로 이동할 수 있다. 의외로 편리하다). \n",
    "\n",
    "처음 접했다면 명령모드와 편집모드를 나누는 것이 다소 불편해 볼 수 있으나 손에 익으면 훨씬 조작이 빠르다. 마우스나 화살표키로 손을 이동하지 않아도 되기 때문이다. <strike>유닉스 vi (혹은 GNU vim) 에디터에 익숙한 사람들은 바로 이해할 수 있을 것이다.</strike>\n",
    "<!-- TEASER_END -->\n"
   ]
  },
  {
   "cell_type": "markdown",
   "metadata": {},
   "source": [
    "# 자주 사용하는 조합 키들\n",
    "\n",
    "명령모드에서 h 키를 누르면 아래와 같은 키보드 바로가기 도움말이 표시된다.\n",
    "\n",
    "도움말의 키보드를 모드 기억하는 것보다 자주 사용되는 몇 가지 조합을 알아두면 훨씬 능숙하게 사용할 수 있다.\n",
    "<strike>자주 사용된다는 것의 근거는? 짧은 경험을 근거로 한 개인적인 의견이다.</strike>"
   ]
  },
  {
   "cell_type": "markdown",
   "metadata": {
    "collapsed": false,
    "deletable": true,
    "editable": true
   },
   "source": [
    "# 실행과 저장(명령모드, 편집모드 공통)\n",
    "\n",
    "* Shift-Enter: 셀 실행 + 아래로 이동 \n",
    "* Ctrl-s: 노트북 저장 "
   ]
  },
  {
   "cell_type": "markdown",
   "metadata": {},
   "source": [
    "# (Esc를 눌러) 명령모드 \n",
    "화살키로 아래위 셀로 이동할 수 있다\n",
    "* <code>y</code>: 코드로 전환, <code>m</code>: 마크다운으로 전환 \n",
    "* <code>a</code>: 위에 셀 추가, <code>b</code>: 아래에 셀 추가\n",
    "* <code>c</code>: 셀 복사, <code>v</code>: 아래에 셀 붙여넣기\n",
    "* <code>x</code>: 셀 삭제\n",
    "* <code>Shift + m</code>: 셀 아래 병합 \n",
    "* <code>Shift + 화살키</code>: 여러 셀을 한꺼번에 선택"
   ]
  },
  {
   "cell_type": "markdown",
   "metadata": {
    "deletable": true,
    "editable": true
   },
   "source": [
    "# (Enter를 눌러) 편집모드\n",
    "* <code>Ctrl+Shift -- </code>: 셀 분할 (커서를 기준으로 셀을 둘로 나눈다)\n",
    "*  <code>Esc + F </code>: 찾기, 바꾸기\n",
    "* <code>Ctrl + →</code>: 단어 단위 왼쪽으로, <code>Ctrl + ←</code> 단어 단위 오른쪽으로 (빠르게 이동)"
   ]
  },
  {
   "cell_type": "markdown",
   "metadata": {},
   "source": [
    "예를 들어, (모드에 관계 없이) 아래에 빈 셀을 추가하고 싶다면 Esc, b 를 차례로 누른다. <strike>마치 스트리트 파이터에서 콤보 공격을 구사하는 것 처럼</strike> 키보드 바로가기(short cut)에 있는 모든 기능은 메뉴에도 있기 때문에, 메뉴를 통해서도 충분히 쓸 수 있지만, 알아두면 훨씬 빠르게 그리고 편리하게 사용할 수 있다."
   ]
  },
  {
   "cell_type": "markdown",
   "metadata": {
    "deletable": true,
    "editable": true
   },
   "source": [
    "#### 2017 [facebook.com/financedata](https://facebook.com/financedata)"
   ]
  }
 ],
 "metadata": {
  "kernelspec": {
   "display_name": "Python 3",
   "language": "python",
   "name": "python3"
  },
  "language_info": {
   "codemirror_mode": {
    "name": "ipython",
    "version": 3
   },
   "file_extension": ".py",
   "mimetype": "text/x-python",
   "name": "python",
   "nbconvert_exporter": "python",
   "pygments_lexer": "ipython3",
   "version": "3.5.2"
  },
  "nikola": {
   "category": "dev",
   "date": "2017-02-09 11:41:16 UTC+09:00",
   "description": "Jupyter Notebook의 몇가지 키보드 바로가기 조합을 익혀 두면 훨씬 빠르게 그리고 편리하게 사용할 수 있다",
   "link": "",
   "slug": "jupyter-notebook-keyboard-shortcuts",
   "tags": "jupyter, notebook, keyboard",
   "title": "Jupyter Notebook 키보드 바로가기",
   "type": "text"
  }
 },
 "nbformat": 4,
 "nbformat_minor": 2
}
