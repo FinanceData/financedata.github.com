{
 "cells": [
  {
   "cell_type": "markdown",
   "metadata": {
    "deletable": true,
    "editable": true
   },
   "source": [
    "### (파이썬 데이터 사이언스 입문자를 위한)\n",
    "# 무료 추천 온라인 강좌\n",
    "\n",
    "<img width=\"320\" src=\"http://i.imgur.com/ClIQff8.jpg\" >\n",
    "\n",
    "\n",
    "# 파이썬\n",
    "* https://codecademy.com/ko/tracks/python-ko 코드카데미 파이썬(한국어)\n",
    " * [Codeademy python jupyter notebook](https://financedata.github.io/posts/codeademy_python_jupyter_notebook.html) 코드카데미 파이썬(한국어) 강좌 Jupyter Notebook 으로 정리한 문서 <!-- TEASER_END -->\n",
    "* https://goo.gl/wnMDvJ [인프런] Python(파이썬) 프로그래밍 입문부터 활용까지\n",
    "* https://nolboo.kim/blog/2014/08/10/the-best-way-to-learn-python/ 파이썬을 배우는 최고의 방법\n",
    " * \"[The Best Way to Learn Python](https://code.tutsplus.com/articles/the-best-way-to-learn-python--net-26288)\" 요약 번역한 문서\n",
    "\n",
    "# 리눅스\n",
    "* https://opentutorials.org/course/2598 [생활코딩] 리눅스\n",
    "\n",
    "\n",
    "# 웹 크롤링\n",
    "* https://opentutorials.org/course/2039 [생활코딩] HTML 수업\n",
    "* https://opentutorials.org/course/580 [생활코딩] 크롬 개발자 도구\n",
    "* https://goo.gl/uT66z7 [인프런] 파이썬을 이용한 웹 크롤링(Web Crawling) 어플리케이션 만들기\n",
    "\n",
    "\n",
    "# 데이터베이스\n",
    "* https://opentutorials.org/course/195 [생활코딩] MySQL 강좌"
   ]
  },
  {
   "cell_type": "markdown",
   "metadata": {
    "deletable": true,
    "editable": true
   },
   "source": [
    "#### 2016, 2017 [facebook.com/financedata](https://facebook.com/financedata)"
   ]
  }
 ],
 "metadata": {
  "kernelspec": {
   "display_name": "Python 3",
   "language": "python",
   "name": "python3"
  },
  "language_info": {
   "codemirror_mode": {
    "name": "ipython",
    "version": 3
   },
   "file_extension": ".py",
   "mimetype": "text/x-python",
   "name": "python",
   "nbconvert_exporter": "python",
   "pygments_lexer": "ipython3",
   "version": "3.5.2"
  },
  "nikola": {
   "category": "dev",
   "date": "2017-02-09 04:45:16 UTC+09:00",
   "description": "파이썬 데이터 사이언스 입문자를 위한 추천 무료 온라인 강좌",
   "link": "",
   "slug": "recommended-free-online-courses",
   "tags": "python, free, online, course",
   "title": "추천 무료 온라인 강좌",
   "type": "text"
  }
 },
 "nbformat": 4,
 "nbformat_minor": 2
}
