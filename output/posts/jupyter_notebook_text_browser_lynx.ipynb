{
 "cells": [
  {
   "cell_type": "markdown",
   "metadata": {
    "deletable": true,
    "editable": true
   },
   "source": [
    "# [FAQ] Jupyter notebook 실행시 텍스트 브라우저 화면\n",
    "\n",
    "* Q: Jupyter notebook 실행했을 때, 이상한 텍스트 화면이 표시 됩니다\n",
    "* A: Jupyter notebook 실행시 --no-browser 옵션을 추가하세요"
   ]
  },
  {
   "cell_type": "markdown",
   "metadata": {
    "deletable": true,
    "editable": true
   },
   "source": [
    "다음과 같이 명령하여 jupyter notebook 을 실행했을 때,\n",
    "\n",
    "```bash\n",
    "$ jupyter notebook --ip=0.0.0.0 --port=8080\n",
    "```\n",
    "\n",
    "다음과 같은 화면이 표시된다면.... 이 화면은 링크스(Lynx)라는 텍스트 브라우저 화면이다. \n",
    "기본 브라우저를 지정하지 않았을 경우 디폴트로 텍스트 브라우저인 lynx 가 실행된다.\n",
    "\n",
    "<img src=\"http://i.imgur.com/P6eTyDc.png\" >\n",
    "\n",
    "이 Lynx 브라우저 종료 하려면  q, y 를 차례로 눌러준다."
   ]
  },
  {
   "cell_type": "markdown",
   "metadata": {
    "deletable": true,
    "editable": true
   },
   "source": [
    "로컬 PC가 아닌 jupyter notebook을 서버로 띄우거나 클라우드 IDE에서 실행하는 경우는 --no-browser 옵션을 사용한다.\n",
    "\n",
    "```bash\n",
    "$ jupyter notebook --ip=0.0.0.0 --port=8080 --no-browser\n",
    "```"
   ]
  },
  {
   "cell_type": "markdown",
   "metadata": {
    "deletable": true,
    "editable": true
   },
   "source": [
    "#### 2016, 2017 [facebook.com/financedata](https://facebook.com/financedata)"
   ]
  }
 ],
 "metadata": {
  "kernelspec": {
   "display_name": "Python 3",
   "language": "python",
   "name": "python3"
  },
  "language_info": {
   "codemirror_mode": {
    "name": "ipython",
    "version": 3
   },
   "file_extension": ".py",
   "mimetype": "text/x-python",
   "name": "python",
   "nbconvert_exporter": "python",
   "pygments_lexer": "ipython3",
   "version": "3.5.2"
  },
  "nikola": {
   "category": "faq",
   "date": "2016-06-28 20:30:10 UTC+09:00",
   "description": "[FAQ] Jupyter notebook 실행시 기본 브라우저를 사용하지 않기",
   "link": "",
   "slug": "jupyter_notebook_text_browser_lynx",
   "tags": "faq, jupyter notebook, lynx",
   "title": "[FAQ] Jupyter notebook 텍스트 화면",
   "type": "text"
  }
 },
 "nbformat": 4,
 "nbformat_minor": 0
}
