{
 "cells": [
  {
   "cell_type": "markdown",
   "metadata": {
    "slideshow": {
     "slide_type": "slide"
    }
   },
   "source": [
    "# matplotlib + 한글 (Ubuntu Linux)\n",
    "\n",
    "* 사용가능한 폰트 확인, TTF 폰트 설치 방법\n",
    "* matplotlib 텍스트 출력시 폰트 특성을 지정 (FontProperties)\n",
    "* matplotlib 전역으로 한글 글꼴 지정(rcParams)\n",
    "\n",
    "<img width=\"50%\" src=\"http://matplotlib.org/_static/logo2.svg\">\n",
    "\n",
    "### 2017 FinanceData http://facebook.com/financedata\n",
    "<!-- TEASER_END -->"
   ]
  },
  {
   "cell_type": "code",
   "execution_count": 34,
   "metadata": {
    "collapsed": true
   },
   "outputs": [],
   "source": [
    "%matplotlib inline"
   ]
  },
  {
   "cell_type": "markdown",
   "metadata": {},
   "source": [
    "# 기본정보 확인"
   ]
  },
  {
   "cell_type": "code",
   "execution_count": 35,
   "metadata": {},
   "outputs": [
    {
     "data": {
      "text/plain": [
       "'Linux-4.9.17-c9-x86_64-with-Ubuntu-14.04-trusty'"
      ]
     },
     "execution_count": 35,
     "metadata": {},
     "output_type": "execute_result"
    }
   ],
   "source": [
    "# 실행중인 운영체제 확인\n",
    "\n",
    "import platform\n",
    "platform.platform()"
   ]
  },
  {
   "cell_type": "code",
   "execution_count": 36,
   "metadata": {},
   "outputs": [
    {
     "data": {
      "text/plain": [
       "sys.version_info(major=3, minor=4, micro=3, releaselevel='final', serial=0)"
      ]
     },
     "execution_count": 36,
     "metadata": {},
     "output_type": "execute_result"
    }
   ],
   "source": [
    "# 파이썬 버전\n",
    "\n",
    "import sys\n",
    "sys.version_info"
   ]
  },
  {
   "cell_type": "code",
   "execution_count": 37,
   "metadata": {},
   "outputs": [
    {
     "name": "stdout",
     "output_type": "stream",
     "text": [
      "버전:  2.0.2\n",
      "설치위치:  /usr/local/lib/python3.4/dist-packages/matplotlib/__init__.py\n",
      "설정:  /home/ubuntu/.config/matplotlib\n",
      "캐시:  /home/ubuntu/.cache/matplotlib\n"
     ]
    }
   ],
   "source": [
    "# matplotlib 주요 설치 정보\n",
    "\n",
    "import matplotlib\n",
    "\n",
    "print ('버전: ', matplotlib.__version__)\n",
    "print ('설치위치: ', matplotlib.__file__)\n",
    "print ('설정: ', matplotlib.get_configdir())\n",
    "print ('캐시: ', matplotlib.get_cachedir())"
   ]
  },
  {
   "cell_type": "markdown",
   "metadata": {},
   "source": [
    "# 한글이 포함된 간단한 차트"
   ]
  },
  {
   "cell_type": "code",
   "execution_count": 38,
   "metadata": {},
   "outputs": [
    {
     "data": {
      "text/plain": [
       "array([ -29, -112, -160, -192, -170,  -80,  -50,  -19,  -30,   32,  -68,\n",
       "       -134, -229, -261, -229, -291, -324, -227, -308, -274, -287, -200,\n",
       "       -264, -182, -125,  -82,  -26,  -32,   42,  -18,  -60,   -5,  -22,\n",
       "         54,   81,   71,  101,  141,  149,  246,  311,  366,  388,  446,\n",
       "        367,  426,  365,  295,  368,  444])"
      ]
     },
     "execution_count": 38,
     "metadata": {},
     "output_type": "execute_result"
    }
   ],
   "source": [
    "import numpy as np\n",
    "\n",
    "data = np.random.randint(-100, 100, 50).cumsum()\n",
    "data"
   ]
  },
  {
   "cell_type": "code",
   "execution_count": 39,
   "metadata": {},
   "outputs": [
    {
     "data": {
      "image/png": "[encoded data removed]",
      "text/plain": [
       "<matplotlib.figure.Figure at 0x7fd160f33eb8>"
      ]
     },
     "metadata": {},
     "output_type": "display_data"
    }
   ],
   "source": [
    "import matplotlib.pyplot as plt\n",
    "\n",
    "plt.plot(range(50), data, 'r')\n",
    "plt.title('가격변동 추이')\n",
    "plt.ylabel('가격')\n",
    "plt.show()"
   ]
  },
  {
   "cell_type": "markdown",
   "metadata": {},
   "source": [
    "한글이 제대로 표시되지 않는다. 한글 폰트가 설치되어 있지 않거나, 한글 폰트를 사용하도록 설정되어 있지 않은 경우이다.\n",
    "\n",
    "우분투에 폰트는 /usr/share/fonts/ 디렉토리에 있다."
   ]
  },
  {
   "cell_type": "code",
   "execution_count": 7,
   "metadata": {},
   "outputs": [
    {
     "name": "stdout",
     "output_type": "stream",
     "text": [
      "total 12\r\n",
      "drwxr-xr-x 2 root root 4096 Nov  1  2016 \u001b[0m\u001b[01;34mcmap\u001b[0m/\r\n",
      "drwxr-xr-x 3 root root 4096 Aug  7 05:12 \u001b[01;34mtruetype\u001b[0m/\r\n",
      "drwxr-xr-x 3 root root 4096 Nov  1  2016 \u001b[01;34mtype1\u001b[0m/\r\n"
     ]
    }
   ],
   "source": [
    "ls -l /usr/share/fonts/"
   ]
  },
  {
   "cell_type": "code",
   "execution_count": 8,
   "metadata": {},
   "outputs": [
    {
     "name": "stdout",
     "output_type": "stream",
     "text": [
      "total 4\r\n",
      "drwxr-xr-x 2 root root 4096 Nov  1  2016 \u001b[0m\u001b[01;34mdejavu\u001b[0m/\r\n"
     ]
    }
   ],
   "source": [
    "ls -l /usr/share/fonts/truetype/"
   ]
  },
  {
   "cell_type": "markdown",
   "metadata": {},
   "source": [
    "# 글꼴 설치\n",
    "\n",
    "2012년 부터 우분투에는 나눔글꼴이 기본 포함되어 있다. \n",
    "\n",
    "만일, 나눔 글꼴이 설치되어 있지 않다면 다음과 같이 설치할 수 있으며, 다른 ttf 폰트도 /usr/share/fonts/ 폴더에 복사하여 사용할 수 있다.\n",
    "\n",
    "### 나눔 글꼴 설치\n",
    "apt-get  명령으로 나눔글꼴(fonts-nanum)을 설치하고, fc-cache 명령으로 폰트 캐시 삭제\n",
    "```bash\n",
    "$ sudo apt-get install fonts-nanum*\n",
    "$ sudo fc-cache -fv\n",
    "```\n",
    "\n",
    "만일 다른 ttf 폰트를 가져왔다면 다음과 같이 복사하고, fc-cache 명령으로 폰트 캐시 삭제\n",
    "```bash\n",
    "$ sudo cp new_font.ttf /usr/share/fonts/\n",
    "$ sudo fc-cache -fv\n",
    "```\n",
    "\n",
    "### matplotlib 나눔 글꼴을 추가\n",
    "나눔 글꼴을 matplotlib 에 복사하고, matplotlib의 폰트 캐시를 삭제 \n",
    "```bash\n",
    "$ sudo cp /usr/share/fonts/truetype/nanum/Nanum* /usr/local/lib/python3.4/dist-packages/matplotlib/mpl-data/fonts/ttf/\n",
    "$ rm -rf /home/ubuntu/.cache/matplotlib/*\n",
    "```"
   ]
  },
  {
   "cell_type": "markdown",
   "metadata": {},
   "source": [
    "나눔(nanum) 글꼴이 설치된 것을 확인"
   ]
  },
  {
   "cell_type": "code",
   "execution_count": 15,
   "metadata": {},
   "outputs": [
    {
     "name": "stdout",
     "output_type": "stream",
     "text": [
      "total 12\r\n",
      "drwxr-xr-x 2 root root 4096 Nov  1  2016 \u001b[0m\u001b[01;34mdejavu\u001b[0m/\r\n",
      "drwxr-xr-x 2 root root 4096 Aug  7 05:17 \u001b[01;34mnanum\u001b[0m/\r\n",
      "drwxr-xr-x 2 root root 4096 Aug  7 05:17 \u001b[01;34mnanum-eco\u001b[0m/\r\n"
     ]
    }
   ],
   "source": [
    "ls -l /usr/share/fonts/truetype/"
   ]
  },
  {
   "cell_type": "code",
   "execution_count": 16,
   "metadata": {},
   "outputs": [
    {
     "name": "stdout",
     "output_type": "stream",
     "text": [
      "total 46880\r\n",
      "-rw-r--r-- 1 root root 4186072 Dec 28  2013 NanumBarunGothic.ttf\r\n",
      "-rw-r--r-- 1 root root 4415956 Dec 28  2013 NanumBarunGothicBold.ttf\r\n",
      "-rw-r--r-- 1 root root 3745376 Dec 28  2013 NanumBrush.ttf\r\n",
      "-rw-r--r-- 1 root root 4343844 Dec 28  2013 NanumGothic.ttf\r\n",
      "-rw-r--r-- 1 root root 4288380 Dec 28  2013 NanumGothicBold.ttf\r\n",
      "-rw-r--r-- 1 root root 4171172 Dec 28  2013 NanumGothicExtraBold.ttf\r\n",
      "-rw-r--r-- 1 root root 1523188 Dec 28  2013 NanumGothicLight.ttf\r\n",
      "-rw-r--r-- 1 root root 2315924 May  5  2010 NanumGothic_Coding.ttf\r\n",
      "-rw-r--r-- 1 root root 2246240 May  5  2010 NanumGothic_Coding_Bold.ttf\r\n",
      "-rw-r--r-- 1 root root 3808496 Dec 28  2013 NanumMyeongjo.ttf\r\n",
      "-rw-r--r-- 1 root root 4638736 Dec 28  2013 NanumMyeongjoBold.ttf\r\n",
      "-rw-r--r-- 1 root root 4748088 Dec 28  2013 NanumMyeongjoExtraBold.ttf\r\n",
      "-rw-r--r-- 1 root root 3548656 Dec 28  2013 NanumPen.ttf\r\n"
     ]
    }
   ],
   "source": [
    "ls -l /usr/share/fonts/truetype/nanum/"
   ]
  },
  {
   "cell_type": "markdown",
   "metadata": {},
   "source": [
    "# 사용 가능한 ttf 폰트 목록\n",
    "\n",
    "사용가능한 ttf(true type font)폰트 목록은 다음 리스트로 간단하게 얻을 수 있다\n",
    "\n",
    "```\n",
    "matplotlib.font_manager.fontManager.ttflist\n",
    "```"
   ]
  },
  {
   "cell_type": "code",
   "execution_count": 17,
   "metadata": {},
   "outputs": [
    {
     "data": {
      "text/plain": [
       "['/usr/local/lib/python3.4/dist-packages/matplotlib/mpl-data/fonts/ttf/DejaVuSansMono-Bold.ttf',\n",
       " '/usr/local/lib/python3.4/dist-packages/matplotlib/mpl-data/fonts/ttf/cmex10.ttf',\n",
       " '/usr/local/lib/python3.4/dist-packages/matplotlib/mpl-data/fonts/ttf/cmr10.ttf',\n",
       " '/usr/local/lib/python3.4/dist-packages/matplotlib/mpl-data/fonts/ttf/STIXSizFiveSymReg.ttf',\n",
       " '/usr/local/lib/python3.4/dist-packages/matplotlib/mpl-data/fonts/ttf/DejaVuSerif-Bold.ttf',\n",
       " '/usr/local/lib/python3.4/dist-packages/matplotlib/mpl-data/fonts/ttf/STIXSizOneSymBol.ttf',\n",
       " '/usr/local/lib/python3.4/dist-packages/matplotlib/mpl-data/fonts/ttf/DejaVuSerif-Italic.ttf',\n",
       " '/usr/local/lib/python3.4/dist-packages/matplotlib/mpl-data/fonts/ttf/STIXNonUniBol.ttf',\n",
       " '/usr/local/lib/python3.4/dist-packages/matplotlib/mpl-data/fonts/ttf/STIXSizFourSymBol.ttf',\n",
       " '/usr/local/lib/python3.4/dist-packages/matplotlib/mpl-data/fonts/ttf/STIXGeneralBol.ttf',\n",
       " '/usr/local/lib/python3.4/dist-packages/matplotlib/mpl-data/fonts/ttf/STIXSizThreeSymReg.ttf',\n",
       " '/usr/local/lib/python3.4/dist-packages/matplotlib/mpl-data/fonts/ttf/STIXNonUniBolIta.ttf',\n",
       " '/usr/local/lib/python3.4/dist-packages/matplotlib/mpl-data/fonts/ttf/STIXSizTwoSymReg.ttf',\n",
       " '/usr/local/lib/python3.4/dist-packages/matplotlib/mpl-data/fonts/ttf/STIXGeneralBolIta.ttf',\n",
       " '/usr/local/lib/python3.4/dist-packages/matplotlib/mpl-data/fonts/ttf/cmss10.ttf',\n",
       " '/usr/local/lib/python3.4/dist-packages/matplotlib/mpl-data/fonts/ttf/DejaVuSans-Bold.ttf',\n",
       " '/usr/local/lib/python3.4/dist-packages/matplotlib/mpl-data/fonts/ttf/STIXSizThreeSymBol.ttf',\n",
       " '/usr/local/lib/python3.4/dist-packages/matplotlib/mpl-data/fonts/ttf/DejaVuSansMono.ttf',\n",
       " '/usr/local/lib/python3.4/dist-packages/matplotlib/mpl-data/fonts/ttf/DejaVuSerifDisplay.ttf',\n",
       " '/usr/local/lib/python3.4/dist-packages/matplotlib/mpl-data/fonts/ttf/STIXGeneralItalic.ttf',\n",
       " '/usr/local/lib/python3.4/dist-packages/matplotlib/mpl-data/fonts/ttf/cmb10.ttf',\n",
       " '/usr/local/lib/python3.4/dist-packages/matplotlib/mpl-data/fonts/ttf/DejaVuSans.ttf',\n",
       " '/usr/local/lib/python3.4/dist-packages/matplotlib/mpl-data/fonts/ttf/STIXNonUniIta.ttf',\n",
       " '/usr/local/lib/python3.4/dist-packages/matplotlib/mpl-data/fonts/ttf/STIXGeneral.ttf',\n",
       " '/usr/local/lib/python3.4/dist-packages/matplotlib/mpl-data/fonts/ttf/STIXSizFourSymReg.ttf',\n",
       " '/usr/local/lib/python3.4/dist-packages/matplotlib/mpl-data/fonts/ttf/DejaVuSansDisplay.ttf',\n",
       " '/usr/local/lib/python3.4/dist-packages/matplotlib/mpl-data/fonts/ttf/cmmi10.ttf',\n",
       " '/usr/local/lib/python3.4/dist-packages/matplotlib/mpl-data/fonts/ttf/DejaVuSerif.ttf',\n",
       " '/usr/local/lib/python3.4/dist-packages/matplotlib/mpl-data/fonts/ttf/cmsy10.ttf',\n",
       " '/usr/local/lib/python3.4/dist-packages/matplotlib/mpl-data/fonts/ttf/DejaVuSans-BoldOblique.ttf',\n",
       " '/usr/local/lib/python3.4/dist-packages/matplotlib/mpl-data/fonts/ttf/DejaVuSansMono-Oblique.ttf',\n",
       " '/usr/local/lib/python3.4/dist-packages/matplotlib/mpl-data/fonts/ttf/DejaVuSansMono-BoldOblique.ttf',\n",
       " '/usr/local/lib/python3.4/dist-packages/matplotlib/mpl-data/fonts/ttf/cmtt10.ttf',\n",
       " '/usr/local/lib/python3.4/dist-packages/matplotlib/mpl-data/fonts/ttf/STIXNonUni.ttf',\n",
       " '/usr/local/lib/python3.4/dist-packages/matplotlib/mpl-data/fonts/ttf/DejaVuSerif-BoldItalic.ttf',\n",
       " '/usr/local/lib/python3.4/dist-packages/matplotlib/mpl-data/fonts/ttf/STIXSizOneSymReg.ttf',\n",
       " '/usr/local/lib/python3.4/dist-packages/matplotlib/mpl-data/fonts/ttf/STIXSizTwoSymBol.ttf',\n",
       " '/usr/local/lib/python3.4/dist-packages/matplotlib/mpl-data/fonts/ttf/DejaVuSans-Oblique.ttf',\n",
       " '/usr/share/fonts/truetype/dejavu/DejaVuSerifCondensed-BoldItalic.ttf',\n",
       " '/usr/share/fonts/truetype/nanum/NanumGothic_Coding.ttf',\n",
       " '/usr/share/fonts/truetype/nanum/NanumMyeongjoBold.ttf',\n",
       " '/usr/share/fonts/truetype/nanum/NanumBarunGothicBold.ttf',\n",
       " '/usr/share/fonts/truetype/nanum/NanumBarunGothic.ttf',\n",
       " '/usr/share/fonts/truetype/nanum/NanumGothicLight.ttf',\n",
       " '/usr/share/fonts/truetype/dejavu/DejaVuSansCondensed-Bold.ttf',\n",
       " '/usr/share/fonts/truetype/nanum/NanumGothicBold.ttf',\n",
       " '/usr/share/fonts/truetype/dejavu/DejaVuSansCondensed-Oblique.ttf',\n",
       " '/usr/share/fonts/truetype/dejavu/DejaVuSerifCondensed-Italic.ttf',\n",
       " '/usr/share/fonts/truetype/nanum-eco/NanumMyeongjoEcoBold.ttf',\n",
       " '/usr/share/fonts/truetype/nanum/NanumMyeongjo.ttf',\n",
       " '/usr/share/fonts/truetype/dejavu/DejaVuSerifCondensed-Bold.ttf',\n",
       " '/usr/share/fonts/truetype/nanum-eco/NanumGothicEcoExtraBold.ttf',\n",
       " '/usr/share/fonts/truetype/nanum/NanumPen.ttf',\n",
       " '/usr/share/fonts/truetype/nanum/NanumGothicExtraBold.ttf',\n",
       " '/usr/share/fonts/truetype/nanum-eco/NanumGothicEcoBold.ttf',\n",
       " '/usr/share/fonts/truetype/dejavu/DejaVuSansCondensed-BoldOblique.ttf',\n",
       " '/usr/share/fonts/truetype/dejavu/DejaVuSansCondensed.ttf',\n",
       " '/usr/share/fonts/truetype/dejavu/DejaVuSans-ExtraLight.ttf',\n",
       " '/usr/share/fonts/truetype/nanum/NanumBrush.ttf',\n",
       " '/usr/share/fonts/truetype/nanum-eco/NanumMyeongjoEco.ttf',\n",
       " '/usr/share/fonts/truetype/nanum/NanumMyeongjoExtraBold.ttf',\n",
       " '/usr/share/fonts/truetype/nanum-eco/NanumMyeongjoEcoExtraBold.ttf',\n",
       " '/usr/share/fonts/truetype/nanum/NanumGothic.ttf',\n",
       " '/usr/share/fonts/truetype/nanum/NanumGothic_Coding_Bold.ttf',\n",
       " '/usr/share/fonts/truetype/nanum-eco/NanumGothicEco.ttf',\n",
       " '/usr/share/fonts/truetype/dejavu/DejaVuSerifCondensed.ttf']"
      ]
     },
     "execution_count": 17,
     "metadata": {},
     "output_type": "execute_result"
    }
   ],
   "source": [
    "import matplotlib\n",
    "import matplotlib.font_manager\n",
    "\n",
    "[f.fname for f in matplotlib.font_manager.fontManager.ttflist]"
   ]
  },
  {
   "cell_type": "markdown",
   "metadata": {},
   "source": [
    "사용가능한 폰트 목록 중 나눔글꼴(이름에 'Nanum'이 포함된) 폰트 목록만 추출"
   ]
  },
  {
   "cell_type": "code",
   "execution_count": 18,
   "metadata": {},
   "outputs": [
    {
     "data": {
      "text/plain": [
       "['NanumGothicCoding',\n",
       " 'NanumMyeongjo',\n",
       " 'NanumBarunGothic',\n",
       " 'NanumBarunGothic',\n",
       " 'NanumGothic',\n",
       " 'NanumGothic',\n",
       " 'NanumMyeongjo Eco',\n",
       " 'NanumMyeongjo',\n",
       " 'NanumGothic Eco',\n",
       " 'Nanum Pen Script',\n",
       " 'NanumGothic',\n",
       " 'NanumGothic Eco',\n",
       " 'Nanum Brush Script',\n",
       " 'NanumMyeongjo Eco',\n",
       " 'NanumMyeongjo',\n",
       " 'NanumMyeongjo Eco',\n",
       " 'NanumGothic',\n",
       " 'NanumGothicCoding',\n",
       " 'NanumGothic Eco']"
      ]
     },
     "execution_count": 18,
     "metadata": {},
     "output_type": "execute_result"
    }
   ],
   "source": [
    "import matplotlib\n",
    "import matplotlib.font_manager\n",
    "\n",
    "[f.name for f in matplotlib.font_manager.fontManager.ttflist if 'Nanum' in f.name]"
   ]
  },
  {
   "cell_type": "code",
   "execution_count": 19,
   "metadata": {},
   "outputs": [
    {
     "data": {
      "text/plain": [
       "[('NanumGothicCoding',\n",
       "  '/usr/share/fonts/truetype/nanum/NanumGothic_Coding.ttf'),\n",
       " ('NanumMyeongjo', '/usr/share/fonts/truetype/nanum/NanumMyeongjoBold.ttf'),\n",
       " ('NanumBarunGothic',\n",
       "  '/usr/share/fonts/truetype/nanum/NanumBarunGothicBold.ttf'),\n",
       " ('NanumBarunGothic', '/usr/share/fonts/truetype/nanum/NanumBarunGothic.ttf'),\n",
       " ('NanumGothic', '/usr/share/fonts/truetype/nanum/NanumGothicLight.ttf'),\n",
       " ('NanumGothic', '/usr/share/fonts/truetype/nanum/NanumGothicBold.ttf'),\n",
       " ('NanumMyeongjo Eco',\n",
       "  '/usr/share/fonts/truetype/nanum-eco/NanumMyeongjoEcoBold.ttf'),\n",
       " ('NanumMyeongjo', '/usr/share/fonts/truetype/nanum/NanumMyeongjo.ttf'),\n",
       " ('NanumGothic Eco',\n",
       "  '/usr/share/fonts/truetype/nanum-eco/NanumGothicEcoExtraBold.ttf'),\n",
       " ('Nanum Pen Script', '/usr/share/fonts/truetype/nanum/NanumPen.ttf'),\n",
       " ('NanumGothic', '/usr/share/fonts/truetype/nanum/NanumGothicExtraBold.ttf'),\n",
       " ('NanumGothic Eco',\n",
       "  '/usr/share/fonts/truetype/nanum-eco/NanumGothicEcoBold.ttf'),\n",
       " ('Nanum Brush Script', '/usr/share/fonts/truetype/nanum/NanumBrush.ttf'),\n",
       " ('NanumMyeongjo Eco',\n",
       "  '/usr/share/fonts/truetype/nanum-eco/NanumMyeongjoEco.ttf'),\n",
       " ('NanumMyeongjo',\n",
       "  '/usr/share/fonts/truetype/nanum/NanumMyeongjoExtraBold.ttf'),\n",
       " ('NanumMyeongjo Eco',\n",
       "  '/usr/share/fonts/truetype/nanum-eco/NanumMyeongjoEcoExtraBold.ttf'),\n",
       " ('NanumGothic', '/usr/share/fonts/truetype/nanum/NanumGothic.ttf'),\n",
       " ('NanumGothicCoding',\n",
       "  '/usr/share/fonts/truetype/nanum/NanumGothic_Coding_Bold.ttf'),\n",
       " ('NanumGothic Eco', '/usr/share/fonts/truetype/nanum-eco/NanumGothicEco.ttf')]"
      ]
     },
     "execution_count": 19,
     "metadata": {},
     "output_type": "execute_result"
    }
   ],
   "source": [
    "[(f.name, f.fname) for f in matplotlib.font_manager.fontManager.ttflist if 'Nanum' in f.name]"
   ]
  },
  {
   "cell_type": "markdown",
   "metadata": {},
   "source": [
    "# 폰트를 지정하는 두가지 방법"
   ]
  },
  {
   "cell_type": "markdown",
   "metadata": {},
   "source": [
    "matplotlib에서 폰트를 지정하여 출력하는 하는 대표적인 방법은 크기 두 가지이다.\n",
    "\n",
    "1. 텍스트 출력시 폰트 특성을 지정: FontProperties 속성으로 폰트 속성을 지정\n",
    "1. 전역으로 지정: rcParams 을 사용하여 전역으로 설정값을 지정\n",
    "\n"
   ]
  },
  {
   "cell_type": "markdown",
   "metadata": {},
   "source": [
    "# 텍스트 출력시 폰트 특성을 지정\n",
    "\n",
    "텍스트를 출력하는 다음 함수들을 사용할 때, fontproperties 인자에 폰트를 지정할 수 있다.\n",
    "\n",
    "matplotlib.pyplot\n",
    "* title()\n",
    "* xlabel()\n",
    "* ylabel()\n",
    "* legend()\n",
    "* text()\n",
    "\n",
    "matplotlib.axes \n",
    "* set_title()\n",
    "\n",
    "예를 들어, 다음과 같이 텍스트와 폰트를 지정하여 출력할 수 있다.\n",
    "* plt.text(0, 0, \"Sample Text\", fontproperties=fontprop)"
   ]
  },
  {
   "cell_type": "code",
   "execution_count": 40,
   "metadata": {},
   "outputs": [
    {
     "data": {
      "image/png": "[encoded data removed]",
      "text/plain": [
       "<matplotlib.figure.Figure at 0x7fd160f45d68>"
      ]
     },
     "metadata": {},
     "output_type": "display_data"
    }
   ],
   "source": [
    "import matplotlib.pyplot as plt\n",
    "import matplotlib.font_manager as fm\n",
    "\n",
    "path = '/usr/share/fonts/truetype/nanum/NanumMyeongjo.ttf'\n",
    "fontprop = fm.FontProperties(fname=path, size=18)\n",
    "\n",
    "plt.plot(range(50), data, 'r')\n",
    "plt.title('가격변동 추이', fontproperties=fontprop)\n",
    "plt.ylabel('가격', fontproperties=fontprop)\n",
    "plt.show()"
   ]
  },
  {
   "cell_type": "code",
   "execution_count": 41,
   "metadata": {},
   "outputs": [
    {
     "data": {
      "image/png": "[encoded data removed]",
      "text/plain": [
       "<matplotlib.figure.Figure at 0x7fd161058978>"
      ]
     },
     "metadata": {},
     "output_type": "display_data"
    }
   ],
   "source": [
    "# TTF폰트 파일을 직접 지정하는 방법 (나눔 펜 글씨)\n",
    "\n",
    "import matplotlib.pyplot as plt\n",
    "import matplotlib.font_manager as fm\n",
    "\n",
    "path_gothic = '/usr/share/fonts/truetype/nanum/NanumGothic.ttf'\n",
    "fontprop1 = fm.FontProperties(fname=path_gothic, size=20)\n",
    "\n",
    "path_pen = '/usr/share/fonts/truetype/nanum/NanumPen.ttf'\n",
    "fontprop2 = fm.FontProperties(fname=path_pen, size=34)\n",
    "\n",
    "plt.plot(range(50), data, 'r')\n",
    "plt.ylabel('가격', fontproperties=fontprop1)\n",
    "plt.title('가격변동 추이', fontproperties=fontprop2)\n",
    "plt.show()"
   ]
  },
  {
   "cell_type": "code",
   "execution_count": 42,
   "metadata": {},
   "outputs": [
    {
     "data": {
      "image/png": "[encoded data removed]",
      "text/plain": [
       "<matplotlib.figure.Figure at 0x7fd1618fdba8>"
      ]
     },
     "metadata": {},
     "output_type": "display_data"
    }
   ],
   "source": [
    "path = '/usr/share/fonts/truetype/nanum/NanumGothic_Coding.ttf'\n",
    "prop = fm.FontProperties(fname=path, size=18)\n",
    "\n",
    "fig, ax = plt.subplots()\n",
    "ax.plot(data)\n",
    "ax.set_title('가격 변화 (나눔고딕코딩)', fontproperties=prop)\n",
    "\n",
    "plt.show()"
   ]
  },
  {
   "cell_type": "markdown",
   "metadata": {},
   "source": [
    "폰트가 항상 '/usr/share/fonts'에 있어야 하는 것은 아니다.\n",
    "\n",
    "ttf 폰트 파일을 복사해서 바로 사용할 수 도 있다. 현재 디렉토리에 MalgunGothic.ttf 파일을 복사하여 다음과 같이 ttf 파일을 지정하여 사용할  수 있다."
   ]
  },
  {
   "cell_type": "code",
   "execution_count": 43,
   "metadata": {},
   "outputs": [
    {
     "name": "stdout",
     "output_type": "stream",
     "text": [
      "-rw-r--r-- 1 ubuntu 3997212 Aug  7 04:22 MalgunGothic.ttf\r\n"
     ]
    }
   ],
   "source": [
    "ll MalgunGothic.ttf"
   ]
  },
  {
   "cell_type": "code",
   "execution_count": 44,
   "metadata": {},
   "outputs": [
    {
     "data": {
      "image/png": "[encoded data removed]",
      "text/plain": [
       "<matplotlib.figure.Figure at 0x7fd13c4f7a90>"
      ]
     },
     "metadata": {},
     "output_type": "display_data"
    }
   ],
   "source": [
    "import matplotlib.font_manager as fm\n",
    "\n",
    "fontprop = fm.FontProperties(fname=\"./MalgunGothic.ttf\", size=24)\n",
    "\n",
    "plt.title('맑은고딕 제목', fontproperties=fontprop)\n",
    "plt.plot(data)\n",
    "plt.show()"
   ]
  },
  {
   "cell_type": "markdown",
   "metadata": {},
   "source": [
    "# 전역 글꼴 설정: matplotlib.rcParams[]\n",
    "\n",
    "matplotlib.rcParams을 통해 matplotlib의 다양한 설정값을 읽거나 지정할 수 있다.\n",
    "\n",
    "https://matplotlib.org/users/customizing.html"
   ]
  },
  {
   "cell_type": "code",
   "execution_count": 45,
   "metadata": {},
   "outputs": [
    {
     "name": "stdout",
     "output_type": "stream",
     "text": [
      "10.0\n",
      "['NanumGothicCoding']\n"
     ]
    }
   ],
   "source": [
    "# 기본 설정 읽기\n",
    "import matplotlib.pyplot as plt\n",
    "\n",
    "# size, family\n",
    "print (plt.rcParams['font.size'] ) \n",
    "print (plt.rcParams['font.family'] )"
   ]
  },
  {
   "cell_type": "code",
   "execution_count": 46,
   "metadata": {},
   "outputs": [
    {
     "name": "stdout",
     "output_type": "stream",
     "text": [
      "['DejaVu Serif', 'Bitstream Vera Serif', 'Computer Modern Roman', 'New Century Schoolbook', 'Century Schoolbook L', 'Utopia', 'ITC Bookman', 'Bookman', 'Nimbus Roman No9 L', 'Times New Roman', 'Times', 'Palatino', 'Charter', 'serif']\n",
      "['DejaVu Sans', 'Bitstream Vera Sans', 'Computer Modern Sans Serif', 'Lucida Grande', 'Verdana', 'Geneva', 'Lucid', 'Arial', 'Helvetica', 'Avant Garde', 'sans-serif']\n",
      "['DejaVu Sans Mono', 'Bitstream Vera Sans Mono', 'Computer Modern Typewriter', 'Andale Mono', 'Nimbus Mono L', 'Courier New', 'Courier', 'Fixed', 'Terminal', 'monospace']\n"
     ]
    }
   ],
   "source": [
    "# serif, sans-serif, monospace\n",
    "print (plt.rcParams['font.serif']) \n",
    "print (plt.rcParams['font.sans-serif']) \n",
    "print (plt.rcParams['font.monospace']) "
   ]
  },
  {
   "cell_type": "markdown",
   "metadata": {},
   "source": [
    "폰트의 기본값들을 다음과 같이 설정할 수 있다"
   ]
  },
  {
   "cell_type": "code",
   "execution_count": 47,
   "metadata": {},
   "outputs": [
    {
     "data": {
      "image/png": "[encoded data removed]",
      "text/plain": [
       "<matplotlib.figure.Figure at 0x7fd13c569128>"
      ]
     },
     "metadata": {},
     "output_type": "display_data"
    }
   ],
   "source": [
    "import matplotlib.pyplot as plt\n",
    "\n",
    "plt.rcParams[\"font.family\"] = 'NanumGothicCoding'\n",
    "plt.rcParams['font.size'] = 12.\n",
    "plt.rcParams['xtick.labelsize'] = 24.\n",
    "plt.rcParams['ytick.labelsize'] = 24.\n",
    "plt.rcParams['axes.labelsize'] = 20.\n",
    "\n",
    "plt.title('가격의 변화')\n",
    "plt.plot(range(50), data, 'r')\n",
    "plt.show()"
   ]
  },
  {
   "cell_type": "code",
   "execution_count": 48,
   "metadata": {},
   "outputs": [
    {
     "data": {
      "image/png": "[encoded data removed]",
      "text/plain": [
       "<matplotlib.figure.Figure at 0x7fd13c573390>"
      ]
     },
     "metadata": {},
     "output_type": "display_data"
    }
   ],
   "source": [
    "import matplotlib.pyplot as plt\n",
    "\n",
    "plt.rcParams[\"font.family\"] = 'NanumGothicCoding'\n",
    "plt.rcParams[\"font.size\"] = 12\n",
    "plt.rcParams[\"figure.figsize\"] = (14,4)\n",
    "\n",
    "plt.title('가격의 변화')\n",
    "plt.plot(range(50), data, 'r')\n",
    "plt.show()"
   ]
  },
  {
   "cell_type": "markdown",
   "metadata": {},
   "source": [
    "레이블에 '-'가 있는 경우 유니코드의 '-'문자를 그대로 출력하면 '-' 부호만 깨져 보인다. 이를 방지하기 위해 'axes.unicode_minus' 옵션을 False로 지정한다."
   ]
  },
  {
   "cell_type": "code",
   "execution_count": 49,
   "metadata": {},
   "outputs": [
    {
     "data": {
      "image/png": "[encoded data removed]",
      "text/plain": [
       "<matplotlib.figure.Figure at 0x7fd160fe1e10>"
      ]
     },
     "metadata": {},
     "output_type": "display_data"
    }
   ],
   "source": [
    "import matplotlib.pyplot as plt\n",
    "\n",
    "plt.rcParams[\"font.family\"] = 'NanumGothicCoding'\n",
    "plt.rcParams[\"font.size\"] = 12\n",
    "plt.rcParams['xtick.labelsize'] = 12.\n",
    "plt.rcParams['ytick.labelsize'] = 12.\n",
    "plt.rcParams[\"figure.figsize\"] = (14,4)\n",
    "plt.rcParams['axes.grid'] = True \n",
    "plt.rcParams['axes.unicode_minus'] = False\n",
    "\n",
    "plt.title('가격의 변화')\n",
    "plt.plot(range(50), data, 'r')\n",
    "plt.show()"
   ]
  },
  {
   "cell_type": "markdown",
   "metadata": {},
   "source": [
    "# ttf 파일에서 폰트 이름 얻어 전역 설정\n",
    "\"font.family\"에 지정할 이름을 .ttf 파일로 부터 얻을 수 있다"
   ]
  },
  {
   "cell_type": "code",
   "execution_count": 50,
   "metadata": {},
   "outputs": [
    {
     "name": "stdout",
     "output_type": "stream",
     "text": [
      "NanumGothic\n"
     ]
    }
   ],
   "source": [
    "from matplotlib import font_manager, rc\n",
    "\n",
    "font_fname = '/usr/share/fonts/truetype/nanum/NanumGothic.ttf'\n",
    "font_name = font_manager.FontProperties(fname=font_fname).get_name()\n",
    "\n",
    "rc('font', family=font_name)\n",
    "print(font_name)"
   ]
  },
  {
   "cell_type": "markdown",
   "metadata": {},
   "source": [
    "# (참고) 시스템에 설치된 글꼴 확인\n",
    "\n",
    "우분투에 설치되어 있는 글꼴 목록은 fc-list  명령어로 볼 수 있다."
   ]
  },
  {
   "cell_type": "code",
   "execution_count": 51,
   "metadata": {},
   "outputs": [
    {
     "name": "stdout",
     "output_type": "stream",
     "text": [
      "Fontconfig warning: ignoring C.UTF-8: not a valid language tag\r\n",
      "/usr/share/fonts/truetype/dejavu/DejaVuSerif-Bold.ttf: DejaVu Serif:style=Bold\r\n",
      "/usr/share/fonts/truetype/dejavu/DejaVuSansMono.ttf: DejaVu Sans Mono:style=Book\r\n",
      "/usr/share/fonts/truetype/nanum/NanumGothic_Coding.ttf: NanumGothicCoding,나눔고딕코딩:style=Regular\r\n",
      "/usr/share/fonts/truetype/dejavu/DejaVuSansCondensed-Oblique.ttf: DejaVu Sans,DejaVu Sans Condensed:style=Condensed Oblique,Oblique\r\n",
      "/usr/share/fonts/truetype/nanum/NanumGothicExtraBold.ttf: NanumGothic,나눔고딕,NanumGothicExtraBold,나눔고딕 ExtraBold:style=ExtraBold,Regular,Bold\r\n",
      "/usr/share/fonts/truetype/nanum-eco/NanumMyeongjoEco.ttf: NanumMyeongjo Eco,나눔명조 에코:style=Regular\r\n",
      "/usr/share/fonts/truetype/nanum-eco/NanumGothicEcoBold.ttf: NanumGothic Eco,나눔고딕 에코:style=Bold\r\n",
      "/usr/share/fonts/truetype/dejavu/DejaVuSerifCondensed-BoldItalic.ttf: DejaVu Serif,DejaVu Serif Condensed:style=Condensed Bold Italic,Bold Italic\r\n",
      "/usr/share/fonts/truetype/dejavu/DejaVuSans-ExtraLight.ttf: DejaVu Sans,DejaVu Sans Light:style=ExtraLight\r\n",
      "/usr/share/fonts/type1/gsfonts/n021024l.pfb: Nimbus Roman No9 L:style=Medium Italic\r\n"
     ]
    }
   ],
   "source": [
    "# 전체 글꼴(460여개)중 처음 10개만 출력\n",
    "\n",
    "! fc-list | head -10 "
   ]
  },
  {
   "cell_type": "code",
   "execution_count": 52,
   "metadata": {},
   "outputs": [
    {
     "name": "stdout",
     "output_type": "stream",
     "text": [
      "Fontconfig warning: ignoring C.UTF-8: not a valid language tag\r\n",
      "/usr/share/fonts/truetype/nanum/NanumGothic_Coding.ttf: NanumGothicCoding,나눔고딕코딩:style=Regular\r\n",
      "/usr/share/fonts/truetype/nanum/NanumGothicExtraBold.ttf: NanumGothic,나눔고딕,NanumGothicExtraBold,나눔고딕 ExtraBold:style=ExtraBold,Regular,Bold\r\n",
      "/usr/share/fonts/truetype/nanum-eco/NanumMyeongjoEco.ttf: NanumMyeongjo Eco,나눔명조 에코:style=Regular\r\n",
      "/usr/share/fonts/truetype/nanum-eco/NanumGothicEcoBold.ttf: NanumGothic Eco,나눔고딕 에코:style=Bold\r\n",
      "/usr/share/fonts/truetype/nanum/NanumGothicLight.ttf: NanumGothic,나눔고딕,NanumGothic Light,나눔고딕 Light:style=Light,Regular\r\n",
      "/usr/share/fonts/truetype/nanum/NanumBrush.ttf: Nanum Brush Script,나눔손글씨 붓:style=Regular\r\n",
      "/usr/share/fonts/truetype/nanum/NanumBarunGothic.ttf: NanumBarunGothic,나눔바른고딕:style=Regular\r\n",
      "/usr/share/fonts/truetype/nanum/NanumGothic.ttf: NanumGothic,나눔고딕:style=Regular\r\n",
      "/usr/share/fonts/truetype/nanum-eco/NanumGothicEcoExtraBold.ttf: NanumGothic Eco,나눔고딕 에코,NanumGothic Eco ExtraBold,나눔고딕 에코 ExtraBold:style=ExtraBold,Regular\r\n",
      "/usr/share/fonts/truetype/nanum/NanumBarunGothicBold.ttf: NanumBarunGothic,나눔바른고딕:style=Bold\r\n",
      "/usr/share/fonts/truetype/nanum/NanumPen.ttf: Nanum Pen Script,나눔손글씨 펜:style=Regular\r\n",
      "/usr/share/fonts/truetype/nanum/NanumGothicBold.ttf: NanumGothic,나눔고딕:style=Bold\r\n",
      "/usr/share/fonts/truetype/nanum-eco/NanumGothicEco.ttf: NanumGothic Eco,나눔고딕 에코:style=Regular\r\n",
      "/usr/share/fonts/truetype/nanum/NanumMyeongjoExtraBold.ttf: NanumMyeongjo,나눔명조,NanumMyeongjoExtraBold,나눔명조 ExtraBold:style=ExtraBold,Regular\r\n",
      "/usr/share/fonts/truetype/nanum-eco/NanumMyeongjoEcoBold.ttf: NanumMyeongjo Eco,나눔명조 에코:style=Bold\r\n",
      "/usr/share/fonts/truetype/nanum-eco/NanumMyeongjoEcoExtraBold.ttf: NanumMyeongjo Eco,나눔명조 에코,NanumMyeongjo Eco ExtraBold,나눔명조 에코 ExtraBold:style=ExtraBold,Regular\r\n",
      "/usr/share/fonts/truetype/nanum/NanumGothic_Coding_Bold.ttf: NanumGothicCoding,나눔고딕코딩:style=Bold\r\n",
      "/usr/share/fonts/truetype/nanum/NanumMyeongjo.ttf: NanumMyeongjo,나눔명조:style=Regular\r\n",
      "/usr/share/fonts/truetype/nanum/NanumMyeongjoBold.ttf: NanumMyeongjo,나눔명조:style=Bold\r\n"
     ]
    }
   ],
   "source": [
    "# 한글 글꼴만 보려면 ':lang=ko' 옵션을 지정\n",
    "# 한글 글꼴 전체(약 50여개)에서 .ttf 만 출력\n",
    "\n",
    "! fc-list :lang=ko | grep ttf"
   ]
  },
  {
   "cell_type": "markdown",
   "metadata": {},
   "source": [
    "# 참고"
   ]
  },
  {
   "cell_type": "code",
   "execution_count": 53,
   "metadata": {},
   "outputs": [
    {
     "name": "stdout",
     "output_type": "stream",
     "text": [
      "40\n"
     ]
    },
    {
     "data": {
      "text/plain": [
       "['/usr/share/fonts/truetype/dejavu/DejaVuSansMono-Bold.ttf',\n",
       " '/usr/share/fonts/truetype/dejavu/DejaVuSansCondensed.ttf',\n",
       " '/usr/share/fonts/truetype/dejavu/DejaVuSans-Oblique.ttf',\n",
       " '/usr/share/fonts/truetype/nanum/NanumMyeongjoExtraBold.ttf',\n",
       " '/usr/share/fonts/truetype/nanum-eco/NanumGothicEcoBold.ttf',\n",
       " '/usr/share/fonts/truetype/nanum/NanumGothic_Coding_Bold.ttf',\n",
       " '/usr/share/fonts/truetype/nanum-eco/NanumMyeongjoEcoExtraBold.ttf',\n",
       " '/usr/share/fonts/truetype/dejavu/DejaVuSansCondensed-Bold.ttf',\n",
       " '/usr/share/fonts/truetype/dejavu/DejaVuSerifCondensed.ttf',\n",
       " '/usr/share/fonts/truetype/nanum-eco/NanumMyeongjoEco.ttf',\n",
       " '/usr/share/fonts/truetype/nanum-eco/NanumGothicEco.ttf',\n",
       " '/usr/share/fonts/truetype/nanum/NanumMyeongjoBold.ttf',\n",
       " '/usr/share/fonts/truetype/dejavu/DejaVuSans-Bold.ttf',\n",
       " '/usr/share/fonts/truetype/dejavu/DejaVuSansMono-Oblique.ttf',\n",
       " '/usr/share/fonts/truetype/nanum/NanumGothicBold.ttf',\n",
       " '/usr/share/fonts/truetype/dejavu/DejaVuSerifCondensed-Bold.ttf',\n",
       " '/usr/share/fonts/truetype/dejavu/DejaVuSerif.ttf',\n",
       " '/usr/share/fonts/truetype/dejavu/DejaVuSerif-BoldItalic.ttf',\n",
       " '/usr/share/fonts/truetype/dejavu/DejaVuSansCondensed-Oblique.ttf',\n",
       " '/usr/share/fonts/truetype/dejavu/DejaVuSerif-Italic.ttf',\n",
       " '/usr/share/fonts/truetype/dejavu/DejaVuSerifCondensed-BoldItalic.ttf',\n",
       " '/usr/share/fonts/truetype/nanum/NanumBarunGothicBold.ttf',\n",
       " '/usr/share/fonts/truetype/nanum/NanumGothicExtraBold.ttf',\n",
       " '/usr/share/fonts/truetype/nanum/NanumGothic_Coding.ttf',\n",
       " '/usr/share/fonts/truetype/dejavu/DejaVuSans-ExtraLight.ttf',\n",
       " '/usr/share/fonts/truetype/nanum/NanumBarunGothic.ttf',\n",
       " '/usr/share/fonts/truetype/dejavu/DejaVuSans-BoldOblique.ttf',\n",
       " '/usr/share/fonts/truetype/nanum/NanumPen.ttf',\n",
       " '/usr/share/fonts/truetype/dejavu/DejaVuSansMono-BoldOblique.ttf',\n",
       " '/usr/share/fonts/truetype/dejavu/DejaVuSans.ttf',\n",
       " '/usr/share/fonts/truetype/nanum/NanumMyeongjo.ttf',\n",
       " '/usr/share/fonts/truetype/nanum-eco/NanumGothicEcoExtraBold.ttf',\n",
       " '/usr/share/fonts/truetype/dejavu/DejaVuSerifCondensed-Italic.ttf',\n",
       " '/usr/share/fonts/truetype/dejavu/DejaVuSansCondensed-BoldOblique.ttf',\n",
       " '/usr/share/fonts/truetype/nanum/NanumGothicLight.ttf',\n",
       " '/usr/share/fonts/truetype/nanum-eco/NanumMyeongjoEcoBold.ttf',\n",
       " '/usr/share/fonts/truetype/dejavu/DejaVuSerif-Bold.ttf',\n",
       " '/usr/share/fonts/truetype/nanum/NanumGothic.ttf',\n",
       " '/usr/share/fonts/truetype/dejavu/DejaVuSansMono.ttf',\n",
       " '/usr/share/fonts/truetype/nanum/NanumBrush.ttf']"
      ]
     },
     "execution_count": 53,
     "metadata": {},
     "output_type": "execute_result"
    }
   ],
   "source": [
    "# 사용가능한 시스템의 TTF 폰트 목록\n",
    "import matplotlib.font_manager as font_manager\n",
    "\n",
    "font_list = font_manager.findSystemFonts(fontpaths=None, fontext='ttf')\n",
    "print(len(font_list))\n",
    "font_list"
   ]
  },
  {
   "cell_type": "code",
   "execution_count": 54,
   "metadata": {},
   "outputs": [
    {
     "data": {
      "text/plain": [
       "'/usr/local/lib/python3.4/dist-packages/matplotlib/mpl-data/matplotlibrc'"
      ]
     },
     "execution_count": 54,
     "metadata": {},
     "output_type": "execute_result"
    }
   ],
   "source": [
    "# matplotlib 설정 파일의 위치\n",
    "\n",
    "matplotlib.matplotlib_fname()"
   ]
  },
  {
   "cell_type": "code",
   "execution_count": 55,
   "metadata": {},
   "outputs": [
    {
     "data": {
      "text/plain": [
       "'/home/ubuntu/.cache/matplotlib'"
      ]
     },
     "execution_count": 55,
     "metadata": {},
     "output_type": "execute_result"
    }
   ],
   "source": [
    "# 캐쉬 디렉토리\n",
    "\n",
    "matplotlib.get_cachedir()"
   ]
  },
  {
   "cell_type": "markdown",
   "metadata": {},
   "source": [
    "----\n",
    "### 2017 FinanceData http://financedata.github.com , http://fb.com/financedata"
   ]
  }
 ],
 "metadata": {
  "kernelspec": {
   "display_name": "Python 3",
   "language": "python",
   "name": "python3"
  },
  "language_info": {
   "codemirror_mode": {
    "name": "ipython",
    "version": 3
   },
   "file_extension": ".py",
   "mimetype": "text/x-python",
   "name": "python",
   "nbconvert_exporter": "python",
   "pygments_lexer": "ipython3",
   "version": "3.5.2"
  },
  "nikola": {
   "category": "dev",
   "date": "2017-08-07 10:45:10 UTC+09:00",
   "description": "matplotlib 에서 한글 (Ubuntu Linux)",
   "link": "",
   "slug": "matplotlib-hangul-for-ubuntu-linux",
   "tags": "matplotlib, 한글, 리눅스, ubuntu, linux",
   "title": "matplotlib + 한글 (Ubuntu Linux)",
   "type": "text"
  }
 },
 "nbformat": 4,
 "nbformat_minor": 1
}
