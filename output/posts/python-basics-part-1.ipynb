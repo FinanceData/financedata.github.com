{
 "cells": [
  {
   "cell_type": "markdown",
   "metadata": {
    "slideshow": {
     "slide_type": "slide"
    }
   },
   "source": [
    "# Python Basics for Data Science - PART 1\n",
    "(파이낸스 데이터 사이언스를 위한 파이썬 언어 기초)\n",
    "### 주석, 변수와 값, 기본 데이터 타입, 타입 전환, print() 출력\n",
    "\n",
    "<img width=\"300\" src=\"http://i.imgur.com/tHmNhjm.png\" >\n",
    "\n",
    "\n",
    "#### 2017 FinanceData http://fb.com/financedata\n",
    "<!-- TEASER_END -->"
   ]
  },
  {
   "cell_type": "markdown",
   "metadata": {
    "slideshow": {
     "slide_type": "slide"
    }
   },
   "source": [
    "# Hello, Python!"
   ]
  },
  {
   "cell_type": "code",
   "execution_count": 1,
   "metadata": {
    "slideshow": {
     "slide_type": "-"
    }
   },
   "outputs": [
    {
     "name": "stdout",
     "output_type": "stream",
     "text": [
      "Hello, World!\n"
     ]
    }
   ],
   "source": [
    "print(\"Hello, World!\")"
   ]
  },
  {
   "cell_type": "markdown",
   "metadata": {
    "slideshow": {
     "slide_type": "slide"
    }
   },
   "source": [
    "# 주석 (comment)\n",
    "실행하지 않는 내용으로 주로 코드에 대한 설명을 위해 사용"
   ]
  },
  {
   "cell_type": "code",
   "execution_count": 2,
   "metadata": {
    "collapsed": true,
    "slideshow": {
     "slide_type": "-"
    }
   },
   "outputs": [],
   "source": [
    "# 한 줄짜리 주석"
   ]
  },
  {
   "cell_type": "code",
   "execution_count": 18,
   "metadata": {
    "slideshow": {
     "slide_type": "-"
    }
   },
   "outputs": [
    {
     "data": {
      "text/plain": [
       "'\\n여러 줄에 \\n걸친 \\n문자열 \\n입니다\\n'"
      ]
     },
     "execution_count": 18,
     "metadata": {},
     "output_type": "execute_result"
    }
   ],
   "source": [
    "s = \"\"\"\n",
    "여러 줄에 \n",
    "걸친 \n",
    "문자열 \n",
    "입니다\n",
    "\"\"\"\n",
    "\n",
    "s"
   ]
  },
  {
   "cell_type": "code",
   "execution_count": 19,
   "metadata": {
    "slideshow": {
     "slide_type": "-"
    }
   },
   "outputs": [
    {
     "data": {
      "text/plain": [
       "'\\n여러 줄의\\n주석을 만드는데도 사용하죠\\n'"
      ]
     },
     "execution_count": 19,
     "metadata": {},
     "output_type": "execute_result"
    }
   ],
   "source": [
    "\"\"\"\n",
    "여러 줄의\n",
    "주석을 만드는데도 사용하죠\n",
    "\"\"\""
   ]
  },
  {
   "cell_type": "markdown",
   "metadata": {
    "slideshow": {
     "slide_type": "slide"
    }
   },
   "source": [
    "# 변수와 값\n",
    "\n",
    "변수(variable)에 값(value)을 할당(assign)"
   ]
  },
  {
   "cell_type": "code",
   "execution_count": 5,
   "metadata": {
    "slideshow": {
     "slide_type": "-"
    }
   },
   "outputs": [
    {
     "name": "stdout",
     "output_type": "stream",
     "text": [
      "10\n"
     ]
    }
   ],
   "source": [
    "# = 는 변수(my_var)에 값(10)을 할당(assign)하는 연산자(operator)\n",
    "my_var = 10\n",
    "print (my_var)"
   ]
  },
  {
   "cell_type": "markdown",
   "metadata": {
    "slideshow": {
     "slide_type": "slide"
    }
   },
   "source": [
    "# 기본 데이터 타입\n",
    "\n",
    "엑셀의 데이터 타입(type)에는 숫자값과 텍스트(문자열)이 있으며, 덧붙여 논리값이 있다. 파이썬에서 주로 사용하는 데이터 타입도 비숫하다. 다만 숫자값을 정수(int)와 실수(float)를 구분한다. \n",
    "\n",
    "주로 사용하는 파이썬의 데이터 타입에는,\n",
    "* 정수(int): 0, 10, 20\n",
    "* 실수(float): 0.1, 3.14, .015\n",
    "* 불린(bool): True, False\n",
    "* 문자열(str): 'Hello', \"World\""
   ]
  },
  {
   "cell_type": "code",
   "execution_count": 20,
   "metadata": {
    "slideshow": {
     "slide_type": "-"
    }
   },
   "outputs": [
    {
     "data": {
      "text/plain": [
       "(7, 1.23, True, '문자열')"
      ]
     },
     "execution_count": 20,
     "metadata": {},
     "output_type": "execute_result"
    }
   ],
   "source": [
    "a = 7\n",
    "b = 1.23\n",
    "c = True\n",
    "d = '문자열'\n",
    "\n",
    "a, b, c, d"
   ]
  },
  {
   "cell_type": "code",
   "execution_count": 21,
   "metadata": {
    "slideshow": {
     "slide_type": "-"
    }
   },
   "outputs": [
    {
     "data": {
      "text/plain": [
       "(int, float, bool, str)"
      ]
     },
     "execution_count": 21,
     "metadata": {},
     "output_type": "execute_result"
    }
   ],
   "source": [
    "type(a), type(b), type(c), type(d)"
   ]
  },
  {
   "cell_type": "code",
   "execution_count": 8,
   "metadata": {
    "slideshow": {
     "slide_type": "slide"
    }
   },
   "outputs": [
    {
     "name": "stdout",
     "output_type": "stream",
     "text": [
      "<class 'int'>\n",
      "<class 'float'>\n",
      "<class 'str'>\n",
      "<class 'str'>\n",
      "<class 'builtin_function_or_method'>\n"
     ]
    }
   ],
   "source": [
    "# 데이터 타입\n",
    "\n",
    "print( type(1) )\n",
    "print( type(1.) )\n",
    "print( type(\"hello\") )\n",
    "print( type(str(1.)) )\n",
    "print( type(print) )"
   ]
  },
  {
   "cell_type": "markdown",
   "metadata": {
    "slideshow": {
     "slide_type": "-"
    }
   },
   "source": [
    "파이썬에는 복소수(complex)  타입등 더 다양한 타입들이 있지만,  우선은 문자열(str), 정수(int), 실수(float), 불린(bool) 4가지 정도의 타입만 알아도 파이썬을 충분히 활용할 수 있다."
   ]
  },
  {
   "cell_type": "markdown",
   "metadata": {
    "slideshow": {
     "slide_type": "slide"
    }
   },
   "source": [
    "# 타입 변환\n",
    "\n",
    "우리가 처리하는 데이터들은 숫자가 많지만, 대부분 원천 데이터는 문자열 형태로 저장되어 있다. 문자열(str)을 수치형 타입(int, float)로 바꾸거나 출력이나 포맷팅을 위해 수치를 문자열로 바꾸는 경우들도 있다. 이처럼 서로 다른 데이터 타입을 바꾸어는 작업을 타입 변환(type conversion)이라고 한다."
   ]
  },
  {
   "cell_type": "code",
   "execution_count": 9,
   "metadata": {
    "slideshow": {
     "slide_type": "-"
    }
   },
   "outputs": [
    {
     "name": "stdout",
     "output_type": "stream",
     "text": [
      "<class 'str'>\n",
      "9.14\n"
     ]
    }
   ],
   "source": [
    "s ='9.14'\n",
    "print(type(s))\n",
    "\n",
    "f = float(s)\n",
    "print(f)"
   ]
  },
  {
   "cell_type": "markdown",
   "metadata": {
    "slideshow": {
     "slide_type": "slide"
    }
   },
   "source": [
    "부동소수점(float)을 정수(int)로 바꾸면 소수점 이하 자리가 버림(floor)된다."
   ]
  },
  {
   "cell_type": "code",
   "execution_count": 10,
   "metadata": {
    "slideshow": {
     "slide_type": "-"
    }
   },
   "outputs": [
    {
     "name": "stdout",
     "output_type": "stream",
     "text": [
      "3.6\n",
      "<class 'float'>\n",
      "3\n"
     ]
    }
   ],
   "source": [
    "x = 3.6\n",
    "print(x)\n",
    "print(type(x))\n",
    "print(int(x))"
   ]
  },
  {
   "cell_type": "markdown",
   "metadata": {
    "slideshow": {
     "slide_type": "slide"
    }
   },
   "source": [
    "문자열과 문자열에 + 연산이 가능하지만, 문자열과 수치값에 + 연산을 할 수 없다. 연산이 가능하도록 타입을 맞추기 위해 타입 전환을 사용하기도 한다.\n",
    "\n",
    "```python\n",
    "\"The value of pi is around \" + 3.14 # 에러\n",
    "```"
   ]
  },
  {
   "cell_type": "code",
   "execution_count": 11,
   "metadata": {
    "slideshow": {
     "slide_type": "-"
    }
   },
   "outputs": [
    {
     "data": {
      "text/plain": [
       "'The value of pi is around 3.14'"
      ]
     },
     "execution_count": 11,
     "metadata": {},
     "output_type": "execute_result"
    }
   ],
   "source": [
    "\"The value of pi is around \" + str(3.14)"
   ]
  },
  {
   "cell_type": "markdown",
   "metadata": {
    "slideshow": {
     "slide_type": "slide"
    }
   },
   "source": [
    "# 간단한 출력"
   ]
  },
  {
   "cell_type": "code",
   "execution_count": 12,
   "metadata": {
    "slideshow": {
     "slide_type": "-"
    }
   },
   "outputs": [
    {
     "name": "stdout",
     "output_type": "stream",
     "text": [
      "Hello, python\n",
      "Hello, python 3.14\n",
      "Hello, python 1267650600228229401496703205376\n"
     ]
    }
   ],
   "source": [
    "print (\"Hello, python\")\n",
    "print (\"Hello, python\", 3.14)\n",
    "print (\"Hello, python\", 1024 ** 10)"
   ]
  },
  {
   "cell_type": "markdown",
   "metadata": {
    "slideshow": {
     "slide_type": "slide"
    }
   },
   "source": [
    "# 다양한 출력\n",
    "\n",
    "* %f - float\n",
    "* %d - decimal (int)\n",
    "* %s - str"
   ]
  },
  {
   "cell_type": "code",
   "execution_count": 13,
   "metadata": {
    "slideshow": {
     "slide_type": "-"
    }
   },
   "outputs": [
    {
     "name": "stdout",
     "output_type": "stream",
     "text": [
      "Life is short, You need 파이썬!\n",
      "Today is Pi (3.14) day  !\n"
     ]
    }
   ],
   "source": [
    "# 포맷 출력\n",
    "\n",
    "print (\"%s is short, You need %s!\" % (\"Life\", \"파이썬\"))\n",
    "print (\"Today is Pi (%.2f) day  !\" % (3.1415926535))"
   ]
  },
  {
   "cell_type": "code",
   "execution_count": 14,
   "metadata": {
    "slideshow": {
     "slide_type": "-"
    }
   },
   "outputs": [
    {
     "name": "stdout",
     "output_type": "stream",
     "text": [
      "x = 3.14, y = 2, z = 0.015\n"
     ]
    }
   ],
   "source": [
    "# 포맷 문자열 생성\n",
    "\n",
    "print(\"x = %.2f, y = %d, z = %.3f\" % (3.1415, 2.8, 0.0150))"
   ]
  },
  {
   "cell_type": "code",
   "execution_count": 15,
   "metadata": {
    "slideshow": {
     "slide_type": "slide"
    }
   },
   "outputs": [
    {
     "name": "stdout",
     "output_type": "stream",
     "text": [
      "x = 3.14, y = 2.8, z = 0.015\n",
      "x = 3.14, y = 2.8, z = 0.015\n",
      "x = 3.14, y = 2.8, z = 0.015\n"
     ]
    }
   ],
   "source": [
    "# 포맷 문자열 생성 (Python3 스타일)\n",
    "print(\"x = {:.2f}, y = {}, z = {}\".format(3.1415, 2.8, 0.015))\n",
    "print(\"x = {0:.2f}, y = {1}, z = {2}\".format(3.1415, 2.8, 0.015))\n",
    "print(\"x = {x:.2f}, y = {y}, z = {z}\".format(x=3.1415, y=2.8, z=0.015))"
   ]
  },
  {
   "cell_type": "markdown",
   "metadata": {
    "slideshow": {
     "slide_type": "notes"
    }
   },
   "source": [
    "----\n",
    "#### 2017 FinanceData http://financedata.github.com , http://fb.com/financedata"
   ]
  }
 ],
 "metadata": {
  "celltoolbar": "Slideshow",
  "kernelspec": {
   "display_name": "Python 3",
   "language": "python",
   "name": "python3"
  },
  "language_info": {
   "codemirror_mode": {
    "name": "ipython",
    "version": 3
   },
   "file_extension": ".py",
   "mimetype": "text/x-python",
   "name": "python",
   "nbconvert_exporter": "python",
   "pygments_lexer": "ipython3",
   "version": "3.5.2"
  },
  "nikola": {
   "category": "dev",
   "date": "2017-06-16 04:45:10 UTC+09:00",
   "description": "주석, 변수와 값, 기본 데이터 타입, 타입 전환, print() 출력",
   "link": "",
   "slug": "python-basics-part-1",
   "tags": "python, basic, variable, value, type, print",
   "title": "Python Basics for Data Science - PART 1",
   "type": "text"
  }
 },
 "nbformat": 4,
 "nbformat_minor": 2
}
