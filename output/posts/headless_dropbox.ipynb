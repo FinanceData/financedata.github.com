{
 "cells": [
  {
   "cell_type": "markdown",
   "metadata": {
    "deletable": true,
    "editable": true,
    "slideshow": {
     "slide_type": "slide"
    }
   },
   "source": [
    "# 헤드리스 Dropbox\n",
    "\n",
    "<img width=\"480\" src=\"https://cf.dropboxstatic.com/static/images/brand/logotype-vflHjIsop.svg\" />\n",
    "\n",
    "Dropbox는 우분투에서도 잘 수행 된다. 하지만, 다수의 서버를 운영하거나 클라우드의 우부투 박스를 활용하는 경우 GUI가 없는 상황에서도 Dropbox와 같은 클라우드 동기화 서비스를 활용할 수 있다면 편리한 점이 많다. 백업을 자동화 할 수 있고, 서버간의 동기화도 Dropbox를 이용해 해결할 수 있다.\n",
    "GUI나 콘솔 없이 터미널로만 접근해서 사용해야 하는 소프트웨어 혹은 시스템을 헤드리스(headless) 소프트웨어 혹은 헤드리스 시스템이라고 한다.\n",
    "물론 리눅스에 Rsync와 같은 좋은 동기화 솔루션이 있지만, 데스크탑과 함께 사용하는 편의성을 따지자면 Dropbox 만큼 간편하고 편리한 것은 드물다."
   ]
  },
  {
   "cell_type": "markdown",
   "metadata": {
    "deletable": true,
    "editable": true,
    "slideshow": {
     "slide_type": "slide"
    }
   },
   "source": [
    "# 설치\n",
    "\n",
    "홈 디렉토리에서 작업을 시작\n",
    "\n",
    "```bash\n",
    "$ cd ~\n",
    "```\n",
    "\n",
    "아래와 같이 wget 명령으로 설치한다\n",
    "\n",
    "```bash\n",
    "$ wget -O - \"https://www.dropbox.com/download?plat=lnx.x86_64\" | tar xzf -\n",
    "```"
   ]
  },
  {
   "cell_type": "markdown",
   "metadata": {
    "deletable": true,
    "editable": true,
    "slideshow": {
     "slide_type": "slide"
    }
   },
   "source": [
    "# 데몬 실행 + 계정연결\n",
    "\n",
    "```bash\n",
    "$ .dropbox-dist/dropboxd\n",
    "\n",
    "This computer isn''t linked to any Dropbox account...\n",
    "Please visit https://www.dropbox.com/cli_link_no... to link this device.\n",
    "This computer isn''t linked to any Dropbox account...\n",
    "\n",
    "(위 링크를 브라우저에서 열고, 접근을 허용한다)\n",
    "\n",
    "Please visit https://www.dropbox.com/cli_link_no... to link this device.\n",
    "This computer is now linked to Dropbox. Welcome seung-june\n",
    "```"
   ]
  },
  {
   "cell_type": "markdown",
   "metadata": {
    "deletable": true,
    "editable": true,
    "slideshow": {
     "slide_type": "slide"
    }
   },
   "source": [
    "# dropbox.py\n",
    "데몬을 실행하면, 명령라인에 링크가 표시된다. 이 링크를 브라우저 주소창에 복사넣고 열면 Dropbox 사이트로 연결되며, Dropbox에 로그인하면 연결된다.\n",
    "제어를 위해 \"dropbox.py\"라는 파이썬 스크립트 파일이 필요하다. 아래와 같이 \"dropbox.py\"를 다운로드하고 실행 모드를 부여한다. \n",
    "\n",
    "```bash\n",
    "$ wget -O ~/dropbox.py \"https://www.dropbox.com/download?dl=packages/dropbox.py\"\n",
    "$ chmod +x ~/dropbox.py\n",
    "```"
   ]
  },
  {
   "cell_type": "markdown",
   "metadata": {
    "deletable": true,
    "editable": true,
    "slideshow": {
     "slide_type": "slide"
    }
   },
   "source": [
    "# 동기화 시작\n",
    "\n",
    "```bash\n",
    "$ ~/dropbox.py start\n",
    "```\n",
    "\n",
    "시스템 전체에서 Python3를 기본으로 사용하고 있다면, ~/dropbox.py 파일의 첫 줄을 다음과 같이 수정한다. (현재 dropbox.py 스크립트는 Python2 용으로 만들어져 있어서, Python3이 기본인 경우 문법 에러가 난다)\n",
    "\n",
    "```bash\n",
    "#!/usr/bin/python      # 수정전\n",
    "#!/usr/bin/python2    # 수정후\n",
    "```"
   ]
  },
  {
   "cell_type": "markdown",
   "metadata": {
    "deletable": true,
    "editable": true,
    "slideshow": {
     "slide_type": "slide"
    }
   },
   "source": [
    "# 실행\n",
    "\n",
    "```bash\n",
    "$ ~/dropbox.py start\n",
    "Starting Dropbox...Done!\n",
    "$ ~/dropbox.py status\n",
    "Starting...\n",
    "```\n",
    "\n",
    "```bash\n",
    "$ ~/dropbox.py status\n",
    "Downloading file list...\n",
    "Syncing (6,719 files remaining, 1 min left)\n",
    "Downloading 6,719 files (0.6 KB/sec, 1 min left)\n",
    "```"
   ]
  },
  {
   "cell_type": "markdown",
   "metadata": {
    "deletable": true,
    "editable": true,
    "slideshow": {
     "slide_type": "slide"
    }
   },
   "source": [
    "# 유용한 명령\n",
    "\n",
    "```bash\n",
    "~/dropbox.py help                               # 도움말\n",
    "~/dropbox.py start                               # 시작\n",
    "~/dropbox.py autostart y                      # 로그인시 dropbox 자동실행 설정\n",
    "~/dropbox.py exclude add backup dev  # 지정한 backup dev 두 개 폴더를 동기화 대상에서 제외\n",
    "~/dropbox.py exclude list                     # 동기화 제외 목록 확인\n",
    "```"
   ]
  },
  {
   "cell_type": "markdown",
   "metadata": {
    "deletable": true,
    "editable": true,
    "slideshow": {
     "slide_type": "slide"
    }
   },
   "source": [
    "# 설명\n",
    "\n",
    "대부분의 설명은 아래 링크에 자세하게 설명되어 있다.\n",
    "* https://www.dropbox.com/install?os=lnx\n",
    "* http://goo.gl/jaxOXq Using the Official Dropbox Command Line Interface (CLI)"
   ]
  },
  {
   "cell_type": "markdown",
   "metadata": {
    "slideshow": {
     "slide_type": "notes"
    }
   },
   "source": [
    "#### 2016, 2017 [facebook.com/financedata](https://facebook.com/financedata)"
   ]
  }
 ],
 "metadata": {
  "celltoolbar": "Slideshow",
  "kernelspec": {
   "display_name": "Python 3",
   "language": "python",
   "name": "python3"
  },
  "language_info": {
   "codemirror_mode": {
    "name": "ipython",
    "version": 3
   },
   "file_extension": ".py",
   "mimetype": "text/x-python",
   "name": "python",
   "nbconvert_exporter": "python",
   "pygments_lexer": "ipython3",
   "version": "3.5.2"
  },
  "nikola": {
   "category": "dev",
   "date": "2016-06-23 21:30:10 UTC+09:00",
   "description": "헤드리스 Dropbox: 리눅스에서 Dropbox 활용 하기",
   "link": "",
   "slug": "headless_dropbox",
   "tags": "dropbox, headless",
   "title": "헤드리스 Dropbox",
   "type": "text"
  }
 },
 "nbformat": 4,
 "nbformat_minor": 0
}
