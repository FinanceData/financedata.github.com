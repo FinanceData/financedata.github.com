{
 "cells": [
  {
   "cell_type": "markdown",
   "metadata": {
    "deletable": true,
    "editable": true,
    "slideshow": {
     "slide_type": "slide"
    }
   },
   "source": [
    "# 전화번호부 사이트 크롤링\n",
    "\n",
    "<img src=\"http://www.isuperpage.co.kr/image/logo.png\" >\n",
    "\n",
    "* Q: 전화번호부 사이트를 검색하여 목록을 추출하고자 하는데, 데이터 전달이 되지 않습니다.\n",
    "* A: 데이터를 인코딩 해주세요. 국내 사이트의 경우 종종 EUC-KR로 인코딩된 데이터만 수용하도록 설계된 경우가 있습니다.\n",
    "\n",
    "#### http://fb.com/financedata"
   ]
  },
  {
   "cell_type": "markdown",
   "metadata": {
    "deletable": true,
    "editable": true,
    "slideshow": {
     "slide_type": "slide"
    }
   },
   "source": [
    "# 전화번호부 사이트\n",
    "http://www.isuperpage.co.kr\n",
    "\n",
    "지역과 범주를 입력하고 검색하면,\n",
    "<img src=\"http://i.imgur.com/jMesQJZ.png\">\n",
    "\n",
    "<!-- TEASER_END -->"
   ]
  },
  {
   "cell_type": "markdown",
   "metadata": {
    "deletable": true,
    "editable": true,
    "slideshow": {
     "slide_type": "-"
    }
   },
   "source": [
    "다음과 같은 검색 결과를 얻을 수 있다. (특정 지역 + 휴일진료하는 의료기관을 알 수 있다면 좋은 정보가 될 수 도 있을 듯)\n",
    "<img src=\"http://i.imgur.com/sI1CjcV.png\" >"
   ]
  },
  {
   "cell_type": "markdown",
   "metadata": {
    "deletable": true,
    "editable": true,
    "slideshow": {
     "slide_type": "slide"
    }
   },
   "source": [
    "# euc-kr 인코딩 문제\n",
    "다른 크롤링 방법과 크게 다르지 않다. 다만, 폼 데이터(requests.post()의 data 인자)로 서버에 전달해야 하는 값이 유니코드가 아니라 \"euc-kr\"이라는 점이 차이가 있다. (국내 사이트의 상당수가 이런 인코딩 이슈를 안고 있다)\n",
    "\n",
    "<img src=\"http://i.imgur.com/V8mi5Ww.png\" >\n",
    "\n",
    "빨간색 테두리 부분을 살펴보자.\n",
    "FormData 부분을 보면 이상한 문자열로 데이터가 구성되는 것을 볼 수 있는데. 16진수 데이터들이 URL인코딩된 데이터이다."
   ]
  },
  {
   "cell_type": "code",
   "execution_count": 1,
   "metadata": {
    "collapsed": false,
    "deletable": true,
    "editable": true
   },
   "outputs": [
    {
     "name": "stdout",
     "output_type": "stream",
     "text": [
      "휴일진료\n",
      "서울\n",
      "서울+중구\n"
     ]
    }
   ],
   "source": [
    "# searchWord:%C8%DE%C0%CF%C1%F8%B7%E1\n",
    "# x:37.5640907\n",
    "# y:126.9979403\n",
    "# dong:\n",
    "# city:%BC%AD%BF%EF\n",
    "# gu:%C1%DF%B1%B8\n",
    "# addr4:\n",
    "# addr:%BC%AD%BF%EF+%C1%DF%B1%B8\n",
    "\n",
    "from urllib.parse import quote, unquote\n",
    "\n",
    "u = '%C8%DE%C0%CF%C1%F8%B7%E1'\n",
    "print (unquote(u, encoding='euc-kr'))\n",
    "\n",
    "u = '%BC%AD%BF%EF'\n",
    "print (unquote(u, encoding='euc-kr'))\n",
    "\n",
    "u = '%BC%AD%BF%EF+%C1%DF%B1%B8'\n",
    "print (unquote(u, encoding='euc-kr'))"
   ]
  },
  {
   "cell_type": "markdown",
   "metadata": {
    "slideshow": {
     "slide_type": "slide"
    }
   },
   "source": [
    "# str(유니코드) → bytes(EUC-KR) → URL Quot"
   ]
  },
  {
   "cell_type": "code",
   "execution_count": 2,
   "metadata": {
    "collapsed": false,
    "deletable": true,
    "editable": true,
    "slideshow": {
     "slide_type": "-"
    }
   },
   "outputs": [
    {
     "name": "stdout",
     "output_type": "stream",
     "text": [
      "<class 'bytes'>\n",
      "%C8%DE%C0%CF%C1%F8%B7%E1\n"
     ]
    }
   ],
   "source": [
    "b = '휴일진료'.encode('euc-kr')\n",
    "print( type(b) )\n",
    "print( quote(b) )"
   ]
  },
  {
   "cell_type": "markdown",
   "metadata": {},
   "source": [
    "# URL Quot (EUC-KR) → str(유니코드)"
   ]
  },
  {
   "cell_type": "code",
   "execution_count": 3,
   "metadata": {
    "collapsed": false,
    "deletable": true,
    "editable": true,
    "slideshow": {
     "slide_type": "slide"
    }
   },
   "outputs": [
    {
     "name": "stdout",
     "output_type": "stream",
     "text": [
      "<class 'str'>\n",
      "휴일진료\n"
     ]
    }
   ],
   "source": [
    "u = '%C8%DE%C0%CF%C1%F8%B7%E1'\n",
    "s = unquote(u, encoding='euc-kr')\n",
    "print(type(s))\n",
    "print(s)"
   ]
  },
  {
   "cell_type": "markdown",
   "metadata": {
    "deletable": true,
    "editable": true,
    "slideshow": {
     "slide_type": "slide"
    }
   },
   "source": [
    "# 해결책\n",
    "해결책은 무척 간단하다. str(유니코드)를 EUC-KR로 인코딩을 해주면 된다.\n",
    "\n",
    "```python\n",
    "str.encode('euc-kr')\n",
    "```\n",
    "\n",
    "크롤링과 한글 인코딩에 대한 조금 더 상세한 내용은 아래 포스팅을 참조하자.\n",
    "\n",
    "* [[FAQ] 크롤링 데이터의 한글이 깨져요](https://financedata.github.io/posts/faq_crawling_data_encoding.html)"
   ]
  },
  {
   "cell_type": "code",
   "execution_count": 4,
   "metadata": {
    "collapsed": false,
    "deletable": true,
    "editable": true,
    "slideshow": {
     "slide_type": "slide"
    }
   },
   "outputs": [
    {
     "data": {
      "text/plain": [
       "'\\r\\n<!DOCTYPE html>\\r\\n<html lang=\"ko\">\\r\\n<head>\\r\\n<meta charset=\"euc-kr\">\\r\\n<meta http-equiv=\"X-UA-Compatible\" content=\"IE=edge\" />\\r\\n<title>:: 대한민국 모든 전화번호 검색은 한국전화번호부 ::</title>\\r\\n<link rel=\"stylesheet\" type=\\'text/css\\' href=\"/css3/base_n.css\"/>\\r\\n<link href=\"/css3/dcaccordion.css\" rel=\"stylesheet\" type=\"text/css\" />\\r\\n<link href=\"/jqy/jquery-ui.css\" rel=\"stylesheet\" type=\"text/css\" />\\r\\n<script type=\"text/javascript\" src=\"/jqy/jquery-1.11.2.min.js\"></script>\\r\\n<script src=\"/jqy/jquery-ui-1.10.3.custom.min.js\"></script>\\r\\n<script src=\"/jqy/jquery.ba-dotimeout.min.js\"></script>\\r\\n<script src=\"/jqy/common_web.js\"></script>\\r\\n<script src=\"/jqy/placeholders.min.js\"></script>\\r\\n\\r\\n  \\r\\n\\r\\n\\r\\n<script language=\"javascript\">\\r\\n\\r\\n\\r\\n$(function() {\\r\\n\\t$(\"img.lmimg\").mouseover(function() {\\r\\n\\t\\r\\n\\t\\t$(this).attr(\"src\",$(this).attr(\"src\").replace(\"off\",\"on\"));\\r\\n\\t});\\r\\n  $(\"img.lmimg\").mouseout(function() {\\r\\n        $(this).css(\"display\",\"\");\\r\\n\\t\\t$(this).attr(\"src\",$(this).attr(\"src\").replace(\"on\",\"off\"));\\r\\n\\t});\\t\\r\\n\\t\\r\\n});\\r\\n\\r\\nf'"
      ]
     },
     "execution_count": 4,
     "metadata": {},
     "output_type": "execute_result"
    }
   ],
   "source": [
    "import requests\n",
    "\n",
    "url = 'http://www.isuperpage.co.kr/search.asp'\n",
    "\n",
    "data = {\n",
    "    'searchWord': '휴일진료'.encode('euc-kr'),\n",
    "    'dong':''.encode('euc-kr'),\n",
    "    'city': '서울'.encode('euc-kr'),\n",
    "    'gu': '중구'.encode('euc-kr'),\n",
    "}\n",
    "\n",
    "r = requests.post(url, data=data)\n",
    "r.text[:1000]"
   ]
  },
  {
   "cell_type": "code",
   "execution_count": 5,
   "metadata": {
    "collapsed": true,
    "deletable": true,
    "editable": true,
    "slideshow": {
     "slide_type": "slide"
    }
   },
   "outputs": [],
   "source": [
    "from bs4 import  BeautifulSoup\n",
    "\n",
    "soup = BeautifulSoup(r.text, 'lxml')\n",
    "search_result = soup.find('div', {'id':'search_result'})"
   ]
  },
  {
   "cell_type": "code",
   "execution_count": 6,
   "metadata": {
    "collapsed": false,
    "deletable": true,
    "editable": true,
    "slideshow": {
     "slide_type": "-"
    }
   },
   "outputs": [
    {
     "name": "stdout",
     "output_type": "stream",
     "text": [
      "중정한의원, 휴일진료병원, 02-3789-7017, 서울 중구 명동1가 7-1, 서울 중구 명동길 55\n",
      "신농백초한의원, 휴일진료병원, 02-736-4644, 서울 중구 정동 1-48, 서울 중구 세종대로21길 53\n",
      "서울백병원, 휴일진료병원, 02-2270-0119, 서울 중구 저동 2가 85, 서울 중구 \n",
      "서울내과의원, 휴일진료병원, 02-2256-7575, 서울 중구 신당6동 294-13, 서울 중구 \n",
      "반도병원, 휴일진료병원, 02-2252-0202, 서울 중구 신당2동 422-4, 서울 중구 \n",
      "하버드마취통증의학과의원, 휴일진료병원, 02-2236-8188, 서울 중구 무학동 1, 서울 중구 다산로 245\n",
      "청구경희한의원, 휴일진료병원, 02-2236-1075, 서울 중구 신당4동 309-8, 서울 중구 \n",
      "유태석내과의원, 휴일진료병원, 02-2233-7076, 서울 중구 신당3동 373-3, 서울 중구 \n",
      "명동밀리오레산부인과의원, 휴일진료병원, 02-2124-0330, 서울 중구 충무로1가 24-1, 서울 중구 퇴계로 115\n",
      "장충동자생한의원, 휴일진료병원, 02-2234-0700, 서울 중구 장충동2가 202, 서울 중구 동호로 249\n"
     ]
    }
   ],
   "source": [
    "lis = search_result.find_all('li')[2:]\n",
    "for li in lis:\n",
    "    divs = li.find_all('div')\n",
    "\n",
    "    # div[0]\n",
    "    title = divs[0].a.text # 상호\n",
    "    spans = divs[0].find_all('span')\n",
    "    search = spans[1].text # 검색어\n",
    "\n",
    "    # div[1]\n",
    "    spans = divs[1].find_all('span') \n",
    "    phone = spans[0].text # 전화번호\n",
    "    addr = spans[1].text  # 주소\n",
    "    addr_road = spans[2]['title']  # 도로명 주소\n",
    "    \n",
    "    print( \"%s, %s, %s, %s, %s\" % (title, search, phone, addr, addr_road) )\n"
   ]
  },
  {
   "cell_type": "markdown",
   "metadata": {
    "deletable": true,
    "editable": true,
    "slideshow": {
     "slide_type": "notes"
    }
   },
   "source": [
    "#### 2017 http://fb.com/financedata"
   ]
  }
 ],
 "metadata": {
  "celltoolbar": "Slideshow",
  "kernelspec": {
   "display_name": "Python 3",
   "language": "python",
   "name": "python3"
  },
  "language_info": {
   "codemirror_mode": {
    "name": "ipython",
    "version": 3
   },
   "file_extension": ".py",
   "mimetype": "text/x-python",
   "name": "python",
   "nbconvert_exporter": "python",
   "pygments_lexer": "ipython3",
   "version": "3.5.2"
  },
  "nikola": {
   "category": "faq",
   "date": "2017-03-02 13:00:16 UTC+09:00",
   "description": "전화번호부 사이트 크롤링에서 인코딩 이슈",
   "link": "",
   "slug": "phone-numbser-site-crawling",
   "tags": "phone, numbser, crawling, encoding, python",
   "title": "[FAQ] 전화번호부 사이트 크롤링",
   "type": "text"
  }
 },
 "nbformat": 4,
 "nbformat_minor": 2
}
