{
 "cells": [
  {
   "cell_type": "markdown",
   "metadata": {
    "deletable": true,
    "editable": true
   },
   "source": [
    "# [FAQ] pip3 list, AssertionError 에러\n",
    "\n",
    "* Q: pip3 list 명령에서 아래와 같이 AssertionError 에러가 납니다.\n",
    "* A: pip3 를 업그레이드 하세요.\n",
    "\n",
    "<img src=\"http://i.imgur.com/5zFdnEA.png\" >"
   ]
  },
  {
   "cell_type": "markdown",
   "metadata": {
    "deletable": true,
    "editable": true
   },
   "source": [
    "pip3 list 명령에서 아래와 같이 AssertionError 에러가 난다면,"
   ]
  },
  {
   "cell_type": "markdown",
   "metadata": {
    "deletable": true,
    "editable": true
   },
   "source": [
    "<HTML>\n",
    "\n",
    "<!-- HTML generated using hilite.me --><div style=\"background: #ffffff; overflow:auto;width:auto;border:solid gray;border-width:.1em .1em .1em .8em;padding:.2em .6em;\"><pre style=\"margin: 0; line-height: 125%\"><span style=\"color: #996633\">$ </span>pip3 list\n",
    "backports-abc <span style=\"color: #333333\">(</span>0.4<span style=\"color: #333333\">)</span>\n",
    "beautifulsoup4 <span style=\"color: #333333\">(</span>4.4.1<span style=\"color: #333333\">)</span>\n",
    "\n",
    "...(중략)...\n",
    "\n",
    "Exception:\n",
    "Traceback <span style=\"color: #333333\">(</span>most recent call last<span style=\"color: #333333\">)</span>:\n",
    "  File <span style=\"background-color: #fff0f0\">&quot;/usr/lib/python3/dist-packages/pip/basecommand.py&quot;</span>, line 122, in main\n",
    "    <span style=\"color: #996633\">status</span> <span style=\"color: #333333\">=</span> self.run<span style=\"color: #333333\">(</span>options, args<span style=\"color: #333333\">)</span>\n",
    "  File <span style=\"background-color: #fff0f0\">&quot;/usr/lib/python3/dist-packages/pip/commands/list.py&quot;</span>, line 80, in run\n",
    "    self.run_listing<span style=\"color: #333333\">(</span>options<span style=\"color: #333333\">)</span>\n",
    "  File <span style=\"background-color: #fff0f0\">&quot;/usr/lib/python3/dist-packages/pip/commands/list.py&quot;</span>, line 142, in run_listing\n",
    "    self.output_package_listing<span style=\"color: #333333\">(</span>installed_packages<span style=\"color: #333333\">)</span>\n",
    "  File <span style=\"background-color: #fff0f0\">&quot;/usr/lib/python3/dist-packages/pip/commands/list.py&quot;</span>, line 151, in output_package_listing\n",
    "    <span style=\"color: #008800; font-weight: bold\">if </span>dist_is_editable<span style=\"color: #333333\">(</span>dist<span style=\"color: #333333\">)</span>:\n",
    "  File <span style=\"background-color: #fff0f0\">&quot;/usr/lib/python3/dist-packages/pip/util.py&quot;</span>, line 366, in dist_is_editable\n",
    "    <span style=\"color: #996633\">req</span> <span style=\"color: #333333\">=</span> FrozenRequirement.from_dist<span style=\"color: #333333\">(</span>dist, <span style=\"color: #333333\">[])</span>\n",
    "  File <span style=\"background-color: #fff0f0\">&quot;/usr/lib/python3/dist-packages/pip/__init__.py&quot;</span>, line 286, in from_dist\n",
    "    assert len<span style=\"color: #333333\">(</span>specs<span style=\"color: #333333\">)</span> <span style=\"color: #333333\">==</span> 1 and specs<span style=\"color: #333333\">[</span>0<span style=\"color: #333333\">][</span>0<span style=\"color: #333333\">]</span> <span style=\"color: #333333\">==</span> <span style=\"background-color: #fff0f0\">&#39;==&#39;</span>\n",
    "AssertionError\n",
    "\n",
    "Storing debug log <span style=\"color: #008800; font-weight: bold\">for </span>failure in /home/ubuntu/.pip/pip.log\n",
    "</pre></div>\n",
    "\n",
    "\n",
    "</HTML>"
   ]
  },
  {
   "cell_type": "markdown",
   "metadata": {
    "deletable": true,
    "editable": true
   },
   "source": [
    "다음과 같이 명령하여 update 하고, 다시 터미널을 실행한다. (pip를 최신버전으로 업데이트)\n",
    "\n",
    "```bash\n",
    "$ sudo pip3 install -U setuptools\n",
    "$ sudo pip3 install -U pip\n",
    "```"
   ]
  },
  {
   "cell_type": "markdown",
   "metadata": {
    "deletable": true,
    "editable": true
   },
   "source": [
    "#### 2016, 2017 [facebook.com/financedata](https://facebook.com/financedata)"
   ]
  }
 ],
 "metadata": {
  "kernelspec": {
   "display_name": "Python 3",
   "language": "python",
   "name": "python3"
  },
  "language_info": {
   "codemirror_mode": {
    "name": "ipython",
    "version": 3
   },
   "file_extension": ".py",
   "mimetype": "text/x-python",
   "name": "python",
   "nbconvert_exporter": "python",
   "pygments_lexer": "ipython3",
   "version": "3.5.2"
  },
  "nikola": {
   "category": "faq",
   "date": "2016-06-29 21:30:10 UTC+09:00",
   "description": "pip list 명령에서 AssertionError",
   "link": "",
   "slug": "fqa_pip_list_assertion_error",
   "tags": "faq, pip, list, AssertionError",
   "title": " [FAQ] pip list 명령에서 AssertionError",
   "type": "text"
  }
 },
 "nbformat": 4,
 "nbformat_minor": 0
}
