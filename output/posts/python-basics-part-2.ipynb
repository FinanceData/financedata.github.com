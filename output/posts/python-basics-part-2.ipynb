{
 "cells": [
  {
   "cell_type": "markdown",
   "metadata": {
    "slideshow": {
     "slide_type": "slide"
    }
   },
   "source": [
    "# Python Basics for Data Science - PART 2\n",
    "( 파이낸스 데이터 사이언스를 위한 파이썬 언어 기초 )\n",
    "### 연산자, 문자열, 흐름 제어(if, for, while) \n",
    "\n",
    "<img width=\"300\" src=\"http://i.imgur.com/tHmNhjm.png\" >\n",
    "\n",
    "\n",
    "#### 2017 FinanceData http://fb.com/financedata\n",
    "<!-- TEASER_END -->"
   ]
  },
  {
   "cell_type": "markdown",
   "metadata": {
    "slideshow": {
     "slide_type": "slide"
    }
   },
   "source": [
    "# 산술 연산자\n",
    "산술 연산자(arithmetic operator)는 사칙연산, 나머지, 제곱 등의 연산을 수행한다.\n",
    "\n",
    "* +, -, \\*, / (사칙연산)\n",
    "* % (나머지)\n",
    "* // (정수 나눗셈)\n",
    "* \\*\\* (제곱) "
   ]
  },
  {
   "cell_type": "code",
   "execution_count": 1,
   "metadata": {
    "slideshow": {
     "slide_type": "-"
    }
   },
   "outputs": [
    {
     "data": {
      "text/plain": [
       "(19, 11, 60, 3.75)"
      ]
     },
     "execution_count": 1,
     "metadata": {},
     "output_type": "execute_result"
    }
   ],
   "source": [
    "a = 15\n",
    "b = 4\n",
    "\n",
    "a + b, a - b, a * b, a / b"
   ]
  },
  {
   "cell_type": "code",
   "execution_count": 2,
   "metadata": {
    "slideshow": {
     "slide_type": "-"
    }
   },
   "outputs": [
    {
     "data": {
      "text/plain": [
       "3"
      ]
     },
     "execution_count": 2,
     "metadata": {},
     "output_type": "execute_result"
    }
   ],
   "source": [
    "# a를 b로 나눈 나머지\n",
    "\n",
    "a % b"
   ]
  },
  {
   "cell_type": "code",
   "execution_count": 3,
   "metadata": {
    "slideshow": {
     "slide_type": "-"
    }
   },
   "outputs": [
    {
     "data": {
      "text/plain": [
       "3.0"
      ]
     },
     "execution_count": 3,
     "metadata": {},
     "output_type": "execute_result"
    }
   ],
   "source": [
    "10.5 // 3.5"
   ]
  },
  {
   "cell_type": "code",
   "execution_count": 4,
   "metadata": {
    "slideshow": {
     "slide_type": "-"
    }
   },
   "outputs": [
    {
     "data": {
      "text/plain": [
       "1024"
      ]
     },
     "execution_count": 4,
     "metadata": {},
     "output_type": "execute_result"
    }
   ],
   "source": [
    "2 ** 10"
   ]
  },
  {
   "cell_type": "markdown",
   "metadata": {
    "slideshow": {
     "slide_type": "slide"
    }
   },
   "source": [
    "# 부울 연산자\n",
    "부울 연산자 (boolean operator 혹은 논리 연산)는 and, or, not 연산을 수행한다. 결과는 항상 True 혹은 False 이다.\n",
    "\n",
    "* and, or, not"
   ]
  },
  {
   "cell_type": "code",
   "execution_count": 5,
   "metadata": {
    "slideshow": {
     "slide_type": "-"
    }
   },
   "outputs": [
    {
     "data": {
      "text/plain": [
       "False"
      ]
     },
     "execution_count": 5,
     "metadata": {},
     "output_type": "execute_result"
    }
   ],
   "source": [
    "True and False"
   ]
  },
  {
   "cell_type": "code",
   "execution_count": 6,
   "metadata": {
    "slideshow": {
     "slide_type": "-"
    }
   },
   "outputs": [
    {
     "data": {
      "text/plain": [
       "True"
      ]
     },
     "execution_count": 6,
     "metadata": {},
     "output_type": "execute_result"
    }
   ],
   "source": [
    "not False"
   ]
  },
  {
   "cell_type": "markdown",
   "metadata": {
    "slideshow": {
     "slide_type": "slide"
    }
   },
   "source": [
    "# 비교 연산자\n",
    "비교 연산자 (Comparison operators)는 두 대상의 대소비교 혹은 같은지 여부를 비교한다. 연산의 결과는 항상 True 혹은 False 이다\n",
    "\n",
    "*  `>` (크다), `<` (작다), `>=` (크거나 같다), `<=` (작거나 같다)\n",
    "*  `!=` (다르다), `==` (같은 값인가), `is` (같은 객체인가)"
   ]
  },
  {
   "cell_type": "code",
   "execution_count": 7,
   "metadata": {
    "slideshow": {
     "slide_type": "-"
    }
   },
   "outputs": [
    {
     "data": {
      "text/plain": [
       "False"
      ]
     },
     "execution_count": 7,
     "metadata": {},
     "output_type": "execute_result"
    }
   ],
   "source": [
    "1 > 2"
   ]
  },
  {
   "cell_type": "code",
   "execution_count": 8,
   "metadata": {
    "slideshow": {
     "slide_type": "-"
    }
   },
   "outputs": [
    {
     "name": "stdout",
     "output_type": "stream",
     "text": [
      "True\n",
      "False\n",
      "True\n"
     ]
    }
   ],
   "source": [
    "print( 10 > 3 )\n",
    "print( 20 != 20 )\n",
    "print( 17 < (118 %100) )"
   ]
  },
  {
   "cell_type": "markdown",
   "metadata": {
    "slideshow": {
     "slide_type": "slide"
    }
   },
   "source": [
    "`==` 연산자는 값을 비교, `is` 연산자 동일한 객체인지 비교한다."
   ]
  },
  {
   "cell_type": "code",
   "execution_count": 9,
   "metadata": {
    "slideshow": {
     "slide_type": "-"
    }
   },
   "outputs": [
    {
     "name": "stdout",
     "output_type": "stream",
     "text": [
      "True\n",
      "False\n"
     ]
    }
   ],
   "source": [
    "print( [10, 20] == [10, 20] )\n",
    "print( [10, 20] is [10, 20] )"
   ]
  },
  {
   "cell_type": "markdown",
   "metadata": {
    "slideshow": {
     "slide_type": "slide"
    }
   },
   "source": [
    "# 문자열\n",
    "작은 따옴표(' single quote) 혹은 큰 따옴표(\" double quote)로 표현"
   ]
  },
  {
   "cell_type": "code",
   "execution_count": 10,
   "metadata": {
    "slideshow": {
     "slide_type": "-"
    }
   },
   "outputs": [
    {
     "data": {
      "text/plain": [
       "str"
      ]
     },
     "execution_count": 10,
     "metadata": {},
     "output_type": "execute_result"
    }
   ],
   "source": [
    "s = 'Hello, Python!'\n",
    "type(s)"
   ]
  },
  {
   "cell_type": "code",
   "execution_count": 11,
   "metadata": {
    "slideshow": {
     "slide_type": "-"
    }
   },
   "outputs": [
    {
     "name": "stdout",
     "output_type": "stream",
     "text": [
      "Hello, 'Python'!\n",
      "Hello, \"Python\"!\n"
     ]
    }
   ],
   "source": [
    "\n",
    "\n",
    "print(\"Hello, 'Python'!\")\n",
    "print('Hello, \"Python\"!')"
   ]
  },
  {
   "cell_type": "markdown",
   "metadata": {
    "slideshow": {
     "slide_type": "slide"
    }
   },
   "source": [
    "탭 문자(\\t), 리턴 문자(\\n) 등 타이핑해서 입력할 수 없는 특수 문자들을 역슬래시(\\\\)문자와 함께 표시하여 사용할 수 있다. 이를 이스케이프 문자열(escape sequence)라고 한다."
   ]
  },
  {
   "cell_type": "code",
   "execution_count": 12,
   "metadata": {
    "slideshow": {
     "slide_type": "-"
    }
   },
   "outputs": [
    {
     "name": "stdout",
     "output_type": "stream",
     "text": [
      "Hello, \n",
      "Python!\n"
     ]
    }
   ],
   "source": [
    "# new line(\\n) 문자\n",
    "s = \"Hello, \\nPython!\"\n",
    "print(s)"
   ]
  },
  {
   "cell_type": "code",
   "execution_count": 13,
   "metadata": {
    "slideshow": {
     "slide_type": "slide"
    }
   },
   "outputs": [
    {
     "name": "stdout",
     "output_type": "stream",
     "text": [
      "Hello, World\n",
      "Hello, World\n"
     ]
    }
   ],
   "source": [
    "# 문자열 연결(덧셈)\n",
    "s = \"Hello\" + \", World\"\n",
    "print(s)\n",
    "\n",
    "s = \"Hello\"\n",
    "s += \", World\"\n",
    "print(s)"
   ]
  },
  {
   "cell_type": "code",
   "execution_count": 14,
   "metadata": {
    "slideshow": {
     "slide_type": "-"
    }
   },
   "outputs": [
    {
     "data": {
      "text/plain": [
       "14"
      ]
     },
     "execution_count": 14,
     "metadata": {},
     "output_type": "execute_result"
    }
   ],
   "source": [
    "# 문자열의 길이\n",
    "s = \"Hello, Python!\"\n",
    "len(s)"
   ]
  },
  {
   "cell_type": "markdown",
   "metadata": {
    "slideshow": {
     "slide_type": "slide"
    }
   },
   "source": [
    "# 문자열 슬라이스\n",
    "\n",
    "* 문자열중의 부분을 지정하기 위해 s[인덱스] 형식으로 사용할 수 있으며, \"인덱스\"는 0부터 시작한다.\n",
    "* s[시작:끝]으로 문자열을 잘라(slice)낼 수 있다. \"끝\"은 포함되지 않는다.\n",
    "* s[시작:끝] 형식을 사용할 때 시작, 끝을 지정하지 않을 수도 있다. \"시작\"을 지정하지 않으면 '처음부터', \"끝\"을 지정하지 않으면 '끝까지'라는 의미가 된다."
   ]
  },
  {
   "cell_type": "code",
   "execution_count": 15,
   "metadata": {
    "slideshow": {
     "slide_type": "-"
    }
   },
   "outputs": [
    {
     "name": "stdout",
     "output_type": "stream",
     "text": [
      "H\n",
      "o\n",
      "Hello, Python!\n",
      "Hello\n",
      "Py\n",
      "!\n",
      "thon\n"
     ]
    }
   ],
   "source": [
    "s = \"Hello, Python!\"\n",
    "\n",
    "print(s[0])\n",
    "print(s[4])\n",
    "print(s[:])\n",
    "print(s[0:5])\n",
    "print(s[7:9])\n",
    "print(s[-1])\n",
    "print(s[-5:-1])"
   ]
  },
  {
   "cell_type": "markdown",
   "metadata": {
    "slideshow": {
     "slide_type": "slide"
    }
   },
   "source": [
    "# 문자열 자르기와 바꾸기\n",
    "\n",
    "* s.split() 함수는 문자열s 를 공백 문자를 기준으로 잘라 그 결과를 리스트로 반환한다.\n",
    "* s.replace(현재문자열, 대체문자열) 함수는 문자열 s에 있는 '현재문자열'을 '대체문자열'로 바꾼다."
   ]
  },
  {
   "cell_type": "code",
   "execution_count": 16,
   "metadata": {
    "slideshow": {
     "slide_type": "-"
    }
   },
   "outputs": [
    {
     "data": {
      "text/plain": [
       "['화학', '출판', '전기제품', '제약', '은행']"
      ]
     },
     "execution_count": 16,
     "metadata": {},
     "output_type": "execute_result"
    }
   ],
   "source": [
    "# 문자열 분리(split)\n",
    "s = \"화학,출판,전기제품,제약,은행\"\n",
    "s.split(',')"
   ]
  },
  {
   "cell_type": "code",
   "execution_count": 17,
   "metadata": {
    "slideshow": {
     "slide_type": "-"
    }
   },
   "outputs": [
    {
     "data": {
      "text/plain": [
       "'화학|출판|전기제품|제약|은행'"
      ]
     },
     "execution_count": 17,
     "metadata": {},
     "output_type": "execute_result"
    }
   ],
   "source": [
    "sectors = ['화학', '출판', '전기제품', '제약', '은행']\n",
    "\"|\".join(sectors)"
   ]
  },
  {
   "cell_type": "code",
   "execution_count": 18,
   "metadata": {
    "slideshow": {
     "slide_type": "slide"
    }
   },
   "outputs": [
    {
     "data": {
      "text/plain": [
       "'Hello, World!'"
      ]
     },
     "execution_count": 18,
     "metadata": {},
     "output_type": "execute_result"
    }
   ],
   "source": [
    "# 문자열 대체 (replace)\n",
    "s = \"Hello, Python!\"\n",
    "w = s.replace('Python', 'World')\n",
    "w"
   ]
  },
  {
   "cell_type": "code",
   "execution_count": 19,
   "metadata": {
    "slideshow": {
     "slide_type": "slide"
    }
   },
   "outputs": [
    {
     "name": "stdout",
     "output_type": "stream",
     "text": [
      "<img width=\"300\" src=\"http://i.imgur.com/tHmNhjm.png\">\n"
     ]
    }
   ],
   "source": [
    "s = '&lt;img width=&quot;300&quot; src=&quot;http://i.imgur.com/tHmNhjm.png&quot;&gt;'\n",
    "print( s.replace('&lt;', '<').replace('&gt;', '>').replace('&quot;', '\"') )"
   ]
  },
  {
   "cell_type": "markdown",
   "metadata": {
    "slideshow": {
     "slide_type": "slide"
    }
   },
   "source": [
    "# if, elif, else\n",
    "\n",
    "조건에 따라 실행을 달리하기 위한 문으로 if, elif, else 가 있다"
   ]
  },
  {
   "cell_type": "code",
   "execution_count": 20,
   "metadata": {
    "slideshow": {
     "slide_type": "-"
    }
   },
   "outputs": [
    {
     "name": "stdout",
     "output_type": "stream",
     "text": [
      "상승\n",
      "같은 레벨의 들여쓰기로로 블럭을 구분합니다\n"
     ]
    }
   ],
   "source": [
    "ret = 0.1\n",
    "\n",
    "if ret > 0.0:\n",
    "    print(\"상승\")\n",
    "    print('같은 레벨의 들여쓰기로로 블럭을 구분합니다')\n",
    "else:\n",
    "    print(\"하락\")"
   ]
  },
  {
   "cell_type": "code",
   "execution_count": 21,
   "metadata": {
    "slideshow": {
     "slide_type": "slide"
    }
   },
   "outputs": [
    {
     "name": "stdout",
     "output_type": "stream",
     "text": [
      "stock02 상승\n"
     ]
    }
   ],
   "source": [
    "# True/False를 상승 여부로 가정\n",
    "# stock01, stock02 True 혹은 False 할당을 바꾸어가면서 실행해보자\n",
    "\n",
    "stock01 = False \n",
    "stock02 = True  \n",
    "\n",
    "if stock01:\n",
    "    print(\"stock01 상승\")\n",
    "elif stock02:\n",
    "    print(\"stock02 상승\")\n",
    "else:\n",
    "    print(\"stock01 하락, stock02 하락\")"
   ]
  },
  {
   "cell_type": "code",
   "execution_count": 22,
   "metadata": {
    "slideshow": {
     "slide_type": "-"
    }
   },
   "outputs": [
    {
     "name": "stdout",
     "output_type": "stream",
     "text": [
      "stock01 상승, stock02 상승\n"
     ]
    }
   ],
   "source": [
    "stock01 = True \n",
    "stock02 = True  \n",
    "\n",
    "if stock01:\n",
    "    if stock02:\n",
    "        print(\"stock01 상승, stock02 상승\")"
   ]
  },
  {
   "cell_type": "markdown",
   "metadata": {
    "slideshow": {
     "slide_type": "slide"
    }
   },
   "source": [
    "# 들여쓰기\n",
    "* 파이썬에서 들여쓰기는 매우 중요하다.\n",
    "* 같은 칸을 들여쓴 연속된 문장들을 들여쓰기 블럭이라고 한다.\n",
    "* 블럭 중간에 공백 라인도 가능하다. 하지만, 들여쓰기 레벨이 달라지면 달라지면 다른 블럭으로 인식된다."
   ]
  },
  {
   "cell_type": "code",
   "execution_count": 23,
   "metadata": {
    "slideshow": {
     "slide_type": "-"
    }
   },
   "outputs": [
    {
     "name": "stdout",
     "output_type": "stream",
     "text": [
      "문장03\n"
     ]
    }
   ],
   "source": [
    "if False:\n",
    "    print(\"문장01\")\n",
    "    print(\"문장02\")\n",
    "print(\"문장03\")"
   ]
  },
  {
   "cell_type": "code",
   "execution_count": 24,
   "metadata": {
    "slideshow": {
     "slide_type": "-"
    }
   },
   "outputs": [
    {
     "name": "stdout",
     "output_type": "stream",
     "text": [
      "문장01\n",
      "문장02\n"
     ]
    }
   ],
   "source": [
    "if True:\n",
    "    print(\"문장01\")\n",
    "    \n",
    "    print(\"문장02\")"
   ]
  },
  {
   "cell_type": "code",
   "execution_count": 25,
   "metadata": {
    "slideshow": {
     "slide_type": "-"
    }
   },
   "outputs": [
    {
     "name": "stdout",
     "output_type": "stream",
     "text": [
      "문장01\n",
      "문장02\n"
     ]
    }
   ],
   "source": [
    "if True:\n",
    "    print(\"문장01\")\n",
    "print(\"문장02\")"
   ]
  },
  {
   "cell_type": "markdown",
   "metadata": {
    "slideshow": {
     "slide_type": "slide"
    }
   },
   "source": [
    "# 반복문\n",
    "\n",
    "* 주로 while과 for가 있는데 절대적으로 for를 많이 사용한다.\n",
    "* for 문은 주로 순회 가능한 객체(iterable object)와 함께 사용한다. list, range 등을 for 문과 함께 자주 사용한다."
   ]
  },
  {
   "cell_type": "code",
   "execution_count": 26,
   "metadata": {
    "slideshow": {
     "slide_type": "-"
    }
   },
   "outputs": [
    {
     "name": "stdout",
     "output_type": "stream",
     "text": [
      "1\n",
      "2\n",
      "3\n"
     ]
    }
   ],
   "source": [
    "values = [1,2,3]\n",
    "\n",
    "for x in values:\n",
    "    print(x)"
   ]
  },
  {
   "cell_type": "markdown",
   "metadata": {
    "slideshow": {
     "slide_type": "slide"
    }
   },
   "source": [
    "파이썬의 range는 지정한 범위의 정수를 발생시키는데 for 문과 함께 많이 사용한다. \n",
    "\n",
    "보통 range(시작,끝) 형식으로 사용하는 정수 범위를 만들어낸다. '끝'은 포함되지 않는다. "
   ]
  },
  {
   "cell_type": "code",
   "execution_count": 27,
   "metadata": {
    "slideshow": {
     "slide_type": "-"
    }
   },
   "outputs": [
    {
     "data": {
      "text/plain": [
       "range(10, 20, 2)"
      ]
     },
     "execution_count": 27,
     "metadata": {},
     "output_type": "execute_result"
    }
   ],
   "source": [
    "range(10) # 0~9 (0에서 시작, 10은 미포함)\n",
    "range(1, 10) # 1~9\n",
    "range(10, 20, 2) # 10~19, 2씩 건너뛰어서"
   ]
  },
  {
   "cell_type": "markdown",
   "metadata": {
    "slideshow": {
     "slide_type": "slide"
    }
   },
   "source": [
    "list()를 사용하여 리스트로 변환할 수 있다."
   ]
  },
  {
   "cell_type": "code",
   "execution_count": 28,
   "metadata": {
    "slideshow": {
     "slide_type": "-"
    }
   },
   "outputs": [
    {
     "name": "stdout",
     "output_type": "stream",
     "text": [
      "[0, 1, 2, 3, 4, 5, 6, 7, 8, 9]\n",
      "[1, 2, 3, 4, 5, 6, 7, 8, 9]\n",
      "[10, 12, 14, 16, 18]\n"
     ]
    }
   ],
   "source": [
    "print(list(range(10)))\n",
    "print(list(range(1, 10)))\n",
    "print(list(range(10, 20, 2)))"
   ]
  },
  {
   "cell_type": "code",
   "execution_count": 29,
   "metadata": {
    "slideshow": {
     "slide_type": "slide"
    }
   },
   "outputs": [
    {
     "name": "stdout",
     "output_type": "stream",
     "text": [
      "0, 1, 2, 3, "
     ]
    }
   ],
   "source": [
    "for x in range(4):\n",
    "    print(x, end=', ' )"
   ]
  },
  {
   "cell_type": "code",
   "execution_count": 30,
   "metadata": {
    "slideshow": {
     "slide_type": "-"
    }
   },
   "outputs": [
    {
     "name": "stdout",
     "output_type": "stream",
     "text": [
      "-2, -1, 0, 1, "
     ]
    }
   ],
   "source": [
    "for x in range(-2,2):\n",
    "    print(x, end=', ' )"
   ]
  },
  {
   "cell_type": "code",
   "execution_count": 31,
   "metadata": {
    "slideshow": {
     "slide_type": "slide"
    }
   },
   "outputs": [
    {
     "name": "stdout",
     "output_type": "stream",
     "text": [
      "0 -3\n",
      "1 -2\n",
      "2 -1\n",
      "3 0\n",
      "4 1\n",
      "5 2\n"
     ]
    }
   ],
   "source": [
    "for idx, x in enumerate(range(-3,3)):\n",
    "    print(idx, x)"
   ]
  },
  {
   "cell_type": "markdown",
   "metadata": {
    "slideshow": {
     "slide_type": "slide"
    }
   },
   "source": [
    "# 목록 조건제시법\n",
    "목록 조건제시법 (list comprehension)을 사용하면 축약된 형식으로 리스트를 생성할 수 있다.\n",
    "\n",
    "* `[for ... in ... ]` 형식으로 새로운 리스트를 생성하는데 주로 사용한다.\n",
    "* 간편하고 축약된 방식으로 표현할 수 있다"
   ]
  },
  {
   "cell_type": "code",
   "execution_count": 32,
   "metadata": {
    "slideshow": {
     "slide_type": "-"
    }
   },
   "outputs": [
    {
     "data": {
      "text/plain": [
       "[1, 2, 3, 4, 5, 6, 7, 8, 9, 10, 11, 12, 13, 14, 15, 16, 17, 18]"
      ]
     },
     "execution_count": 32,
     "metadata": {},
     "output_type": "execute_result"
    }
   ],
   "source": [
    "#  1~9까지 각 수의 제곱\n",
    "lst = list(range(1, 19))\n",
    "lst"
   ]
  },
  {
   "cell_type": "code",
   "execution_count": 33,
   "metadata": {
    "slideshow": {
     "slide_type": "-"
    }
   },
   "outputs": [
    {
     "data": {
      "text/plain": [
       "[1, 4, 9, 16, 25, 36, 49, 64, 81, 100, 121, 144, 169, 196, 225, 256, 289, 324]"
      ]
     },
     "execution_count": 33,
     "metadata": {},
     "output_type": "execute_result"
    }
   ],
   "source": [
    "[x ** 2 for x in lst]"
   ]
  },
  {
   "cell_type": "code",
   "execution_count": 37,
   "metadata": {
    "slideshow": {
     "slide_type": "-"
    }
   },
   "outputs": [
    {
     "data": {
      "text/plain": [
       "[4, 16, 36, 64, 100]"
      ]
     },
     "execution_count": 37,
     "metadata": {},
     "output_type": "execute_result"
    }
   ],
   "source": [
    "even_squares = [x ** 2 for x in range(1, 11) if x % 2 == 0]\n",
    "even_squares"
   ]
  },
  {
   "cell_type": "markdown",
   "metadata": {
    "slideshow": {
     "slide_type": "slide"
    }
   },
   "source": [
    "## while 문 \n",
    "while에 주어진 조건이 True 인 동안 while의 몸체 부분을 실행\n",
    "\n",
    "```python\n",
    "while 조건:\n",
    "  조건이 True인 동안 실행할 내용\n",
    "```"
   ]
  },
  {
   "cell_type": "code",
   "execution_count": 34,
   "metadata": {
    "slideshow": {
     "slide_type": "-"
    }
   },
   "outputs": [
    {
     "name": "stdout",
     "output_type": "stream",
     "text": [
      "count:  0\n",
      "count:  1\n",
      "count:  2\n",
      "count:  3\n",
      "count:  4\n"
     ]
    }
   ],
   "source": [
    "count = 0\n",
    "\n",
    "while count < 5:\n",
    "    print (\"count: \", count)\n",
    "    count += 1    "
   ]
  },
  {
   "cell_type": "markdown",
   "metadata": {
    "slideshow": {
     "slide_type": "slide"
    }
   },
   "source": [
    "# for 문\n",
    "주로 목록 형태의 자료구조를 순회하면서 for의 몸체 부분을 실행\n",
    "\n",
    "\n",
    "```python\n",
    "for 항목 in 목록:\n",
    "    개별 항목을 가지고 실행\n",
    "```"
   ]
  },
  {
   "cell_type": "code",
   "execution_count": 35,
   "metadata": {
    "slideshow": {
     "slide_type": "-"
    }
   },
   "outputs": [
    {
     "name": "stdout",
     "output_type": "stream",
     "text": [
      "AAPL\n",
      "GOOGL\n",
      "AMZN\n",
      "FB\n"
     ]
    }
   ],
   "source": [
    "tech_stocks = ['AAPL', 'GOOGL', 'AMZN', 'FB']\n",
    "\n",
    "for i in tech_stocks:\n",
    "    print(i)"
   ]
  },
  {
   "cell_type": "code",
   "execution_count": 36,
   "metadata": {
    "slideshow": {
     "slide_type": "-"
    }
   },
   "outputs": [
    {
     "name": "stdout",
     "output_type": "stream",
     "text": [
      "0\n",
      "20\n",
      "40\n",
      "60\n",
      "80\n"
     ]
    }
   ],
   "source": [
    "for i in range(0, 100, 20):\n",
    "    print(i)"
   ]
  },
  {
   "cell_type": "markdown",
   "metadata": {},
   "source": [
    "----\n",
    "#### 2017 FinanceData http://financedata.github.com , http://fb.com/financedata"
   ]
  }
 ],
 "metadata": {
  "celltoolbar": "Slideshow",
  "kernelspec": {
   "display_name": "Python 3",
   "language": "python",
   "name": "python3"
  },
  "language_info": {
   "codemirror_mode": {
    "name": "ipython",
    "version": 3
   },
   "file_extension": ".py",
   "mimetype": "text/x-python",
   "name": "python",
   "nbconvert_exporter": "python",
   "pygments_lexer": "ipython3",
   "version": "3.5.2"
  },
  "nikola": {
   "category": "dev",
   "date": "2017-06-15 05:45:10 UTC+09:00",
   "description": "연산자, 문자열, 흐름 제어(if, for, while)",
   "link": "",
   "slug": "python-basics-part-2",
   "tags": "python",
   "title": "Python Basics for Data Science - PART 2",
   "type": "text"
  }
 },
 "nbformat": 4,
 "nbformat_minor": 1
}
