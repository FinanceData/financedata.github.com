{
 "cells": [
  {
   "cell_type": "markdown",
   "metadata": {
    "slideshow": {
     "slide_type": "slide"
    }
   },
   "source": [
    "# Python Basics for Data Science - PART 5\n",
    "( 파이낸스 데이터 사이언스를 위한 파이썬 언어 기초 )\n",
    "### 날짜와 시간, 통계, 파일 입출력\n",
    "\n",
    "<img width=\"300\" src=\"http://i.imgur.com/tHmNhjm.png\" >\n",
    "\n",
    "\n",
    "#### 2017 FinanceData http://fb.com/financedata\n",
    "<!-- TEASER_END -->"
   ]
  },
  {
   "cell_type": "markdown",
   "metadata": {
    "slideshow": {
     "slide_type": "slide"
    }
   },
   "source": [
    "#  날짜와 시간\n",
    "\n",
    "현재 시간을 얻거나, 문자열을 datetime값으로, datetime값을  문자열로 바꾸기"
   ]
  },
  {
   "cell_type": "code",
   "execution_count": 6,
   "metadata": {
    "collapsed": true,
    "slideshow": {
     "slide_type": "-"
    }
   },
   "outputs": [],
   "source": [
    "# 도움말\n",
    "\n",
    "datetime.strptime?"
   ]
  },
  {
   "cell_type": "code",
   "execution_count": 15,
   "metadata": {
    "slideshow": {
     "slide_type": "-"
    }
   },
   "outputs": [
    {
     "name": "stdout",
     "output_type": "stream",
     "text": [
      "2017-06-17 00:44:41.634723\n"
     ]
    }
   ],
   "source": [
    "# 현재 시간\n",
    "from datetime import datetime\n",
    "now = datetime.now() \n",
    "\n",
    "print (now)"
   ]
  },
  {
   "cell_type": "code",
   "execution_count": 16,
   "metadata": {
    "slideshow": {
     "slide_type": "slide"
    }
   },
   "outputs": [
    {
     "name": "stdout",
     "output_type": "stream",
     "text": [
      "2017-06-17 00:45:07.870129\n",
      "2017 6 17 0 45\n",
      "2017-06-17\n",
      "2017-06-17\n"
     ]
    }
   ],
   "source": [
    "# 현재 시간과 날짜 포맷팅\n",
    "from datetime import datetime\n",
    "now = datetime.now()\n",
    "\n",
    "print (now)\n",
    "print (now.year, now.month, now.day, now.hour, now.minute)\n",
    "print (\"%d-%02d-%02d\" % (now.year, now.month, now.day))\n",
    "print (\"{:d}-{:02d}-{:02d}\".format(now.year, now.month, now.day))"
   ]
  },
  {
   "cell_type": "code",
   "execution_count": 18,
   "metadata": {
    "slideshow": {
     "slide_type": "slide"
    }
   },
   "outputs": [
    {
     "name": "stdout",
     "output_type": "stream",
     "text": [
      "2017-03-10 11:00:00\n",
      "2017-06-17\n",
      "2017-06-17 00:45:07\n"
     ]
    }
   ],
   "source": [
    "# 문자열을 시간으로 strptime()\n",
    "s = \"2017년 3월 10일 11:00\"\n",
    "dt = datetime.strptime(s, \"%Y년 %m월 %d일 %H:%M\")\n",
    "print(dt)\n",
    "\n",
    "# 시간을 문자열로  strftime()\n",
    "print( now.strftime(\"%Y-%m-%d\") )\n",
    "print( now.strftime(\"%Y-%m-%d %H:%M:%S\") )"
   ]
  },
  {
   "cell_type": "markdown",
   "metadata": {
    "slideshow": {
     "slide_type": "slide"
    }
   },
   "source": [
    "# 통계 (Statistics)\n",
    "리스트 데이터의 개수, 합계, 최대, 최소\n",
    "\n",
    "https://docs.python.org/3/library/functions.html     기본 내장 함수(Built-in Function)들"
   ]
  },
  {
   "cell_type": "code",
   "execution_count": 19,
   "metadata": {
    "slideshow": {
     "slide_type": "-"
    }
   },
   "outputs": [
    {
     "name": "stdout",
     "output_type": "stream",
     "text": [
      "count =  10\n",
      "sum =  0.73\n",
      "max =  0.28\n",
      "min =  -0.14\n"
     ]
    }
   ],
   "source": [
    "# 요약 통계량\n",
    "\n",
    "data = [0.13, -0.05, 0.15, 0.11, 0.15, -0.07, 0.25, 0.28, -0.14, -0.08 ]\n",
    "print( 'count = ', len(data) )\n",
    "print( 'sum = ', sum(data) )\n",
    "print( 'max = ', max(data) )\n",
    "print( 'min = ', min(data) )"
   ]
  },
  {
   "cell_type": "code",
   "execution_count": 20,
   "metadata": {
    "slideshow": {
     "slide_type": "slide"
    }
   },
   "outputs": [
    {
     "name": "stdout",
     "output_type": "stream",
     "text": [
      "평균 수익률 = 7.3\n"
     ]
    }
   ],
   "source": [
    "data = [0.13, -0.05, 0.15, 0.11, 0.15, -0.07, 0.25, 0.28, -0.14, -0.08 ]\n",
    "\n",
    "avg = sum(data) / len(data)\n",
    "\n",
    "print( \"평균 수익률 = {:.1f}\".format(avg * 100) )"
   ]
  },
  {
   "cell_type": "code",
   "execution_count": 21,
   "metadata": {
    "slideshow": {
     "slide_type": "slide"
    }
   },
   "outputs": [
    {
     "name": "stdout",
     "output_type": "stream",
     "text": [
      "분산(variance) = 0.02\n",
      "표준편차(standard deviation) = 0.14\n"
     ]
    }
   ],
   "source": [
    "# 분산과 표준편차\n",
    "data = [0.13, -0.05, 0.15, 0.11, 0.15, -0.07, 0.25, 0.28, -0.14, -0.08 ]\n",
    "\n",
    "def ret_variance(data):\n",
    "    avg = sum(data) / len(data)\n",
    "    var_sum = 0\n",
    "    for val in data:\n",
    "        var_sum += (val - avg) ** 2\n",
    "    return var_sum / len(data)\n",
    "\n",
    "def red_std_dev(variance):\n",
    "    return variance ** 0.5\n",
    "\n",
    "# 분산(variance)은 편차 제곱의 평균\n",
    "var = ret_variance(data)\n",
    "print (\"분산(variance) = {:.2f}\".format(var))\n",
    "\n",
    "# 표준편차(SD, standard deviation): 분산(variance)의 제곱근\n",
    "sd = red_std_dev(var)\n",
    "print (\"표준편차(standard deviation) = {:.2f}\".format(sd))"
   ]
  },
  {
   "cell_type": "markdown",
   "metadata": {
    "slideshow": {
     "slide_type": "slide"
    }
   },
   "source": [
    "# 파일 입출력"
   ]
  },
  {
   "cell_type": "code",
   "execution_count": 23,
   "metadata": {
    "collapsed": true,
    "slideshow": {
     "slide_type": "-"
    }
   },
   "outputs": [],
   "source": [
    "# 쓰기\n",
    "my_list = [i**2 for i in range(1,11)]\n",
    "\n",
    "fn = \"output.txt\"\n",
    "with open(fn, \"w\") as f:\n",
    "    f.write(str(my_list))"
   ]
  },
  {
   "cell_type": "code",
   "execution_count": 24,
   "metadata": {
    "slideshow": {
     "slide_type": "-"
    }
   },
   "outputs": [
    {
     "name": "stdout",
     "output_type": "stream",
     "text": [
      "[1, 4, 9, 16, 25, 36, 49, 64, 81, 100]\n"
     ]
    }
   ],
   "source": [
    "# 읽기\n",
    "fn = \"output.txt\"\n",
    "with open(fn, \"r\") as f:\n",
    "    contents = f.read()\n",
    "    \n",
    "print(contents)"
   ]
  },
  {
   "cell_type": "markdown",
   "metadata": {},
   "source": [
    "----\n",
    "#### 2017 FinanceData http://financedata.github.com , http://fb.com/financedata"
   ]
  }
 ],
 "metadata": {
  "celltoolbar": "Slideshow",
  "kernelspec": {
   "display_name": "Python 3",
   "language": "python",
   "name": "python3"
  },
  "language_info": {
   "codemirror_mode": {
    "name": "ipython",
    "version": 3
   },
   "file_extension": ".py",
   "mimetype": "text/x-python",
   "name": "python",
   "nbconvert_exporter": "python",
   "pygments_lexer": "ipython3",
   "version": "3.5.2"
  },
  "nikola": {
   "category": "dev",
   "date": "2016-06-17 08:45:10 UTC+09:00",
   "description": "날짜와 시간, 통계, 파일 입출력",
   "link": "",
   "slug": "python-basics-part-5",
   "tags": "python",
   "title": "Python Basics for Data Science - PART 5",
   "type": "text"
  }
 },
 "nbformat": 4,
 "nbformat_minor": 1
}
