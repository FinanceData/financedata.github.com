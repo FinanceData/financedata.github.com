{
 "cells": [
  {
   "cell_type": "markdown",
   "metadata": {
    "deletable": true,
    "editable": true,
    "slideshow": {
     "slide_type": "slide"
    }
   },
   "source": [
    "# Python3 개발 환경 만들기 요약\n",
    "데이터 분석을 위한 Python3 개발 환경을 만드는 과정을 요약\n",
    "<img width=\"60%\" src=\"http://i.imgur.com/iMzS1Gr.png\" />\n",
    "<!-- TEASER_END -->"
   ]
  },
  {
   "cell_type": "markdown",
   "metadata": {
    "deletable": true,
    "editable": true,
    "slideshow": {
     "slide_type": "skip"
    }
   },
   "source": [
    "## [슬라이드로 보기](https://goo.gl/XwYSYj)"
   ]
  },
  {
   "cell_type": "markdown",
   "metadata": {
    "deletable": true,
    "editable": true,
    "slideshow": {
     "slide_type": "notes"
    }
   },
   "source": [
    "클라우드의 우분투 (14.04 기준)에 (특히 c9.io ) Python 3 개발환경을 만드는 과정을 요약하였다. (순서대로만 입력하면 되도록)"
   ]
  },
  {
   "cell_type": "markdown",
   "metadata": {
    "deletable": true,
    "editable": true,
    "slideshow": {
     "slide_type": "slide"
    }
   },
   "source": [
    "# Python3 기본으로 설정\n",
    "```bash\n",
    "$ sudo update-alternatives --install /usr/bin/python python /usr/bin/python2.7 1 \n",
    "$ sudo update-alternatives --install /usr/bin/python python /usr/bin/python3.4 2\n",
    "```\n",
    "\n"
   ]
  },
  {
   "cell_type": "markdown",
   "metadata": {
    "deletable": true,
    "editable": true,
    "slideshow": {
     "slide_type": "notes"
    }
   },
   "source": [
    "우분투 시스템 전체에 거쳐 python2 대신 python3가 기본이 되게 설정 한다."
   ]
  },
  {
   "cell_type": "markdown",
   "metadata": {
    "deletable": true,
    "editable": true,
    "slideshow": {
     "slide_type": "slide"
    }
   },
   "source": [
    "# apt-get  업데이트 \n",
    "\n",
    "```bash\n",
    "$ sudo apt-get update\n",
    "```"
   ]
  },
  {
   "cell_type": "markdown",
   "metadata": {
    "deletable": true,
    "editable": true,
    "slideshow": {
     "slide_type": "notes"
    }
   },
   "source": [
    "apt-get는 우분투의 설치관리자이다."
   ]
  },
  {
   "cell_type": "markdown",
   "metadata": {
    "deletable": true,
    "editable": true,
    "slideshow": {
     "slide_type": "slide"
    }
   },
   "source": [
    "# pip3 설치 \n",
    "pip (파이썬 패키지 설치 관리자) 설치\n",
    "\n",
    "```bash\n",
    "$ sudo apt-get install python3-pip\n",
    "$ sudo apt-get install python3-setuptools\n",
    "```"
   ]
  },
  {
   "cell_type": "markdown",
   "metadata": {
    "deletable": true,
    "editable": true,
    "slideshow": {
     "slide_type": "slide"
    }
   },
   "source": [
    "# 데이터 분석 패키지 설치\n",
    "\n",
    "```bash\n",
    "# numpy, pandas 설치\n",
    "$ sudo pip3 install numpy\n",
    "$ sudo pip3 install pandas \n",
    "\n",
    "# ipython, jupyter, matplotlib 설치\n",
    "$ sudo pip3 install ipython pyzmq tornado jinja2 pygments\n",
    "$ sudo pip3 install jupyter \n",
    "$ sudo pip3 install matplotlib \n",
    "\n",
    "# requests,  beautifulsoup4 설치\n",
    "$ sudo pip3 install requests\n",
    "$ sudo pip3 install beautifulsoup4\n",
    "$ sudo pip3 install lxml\n",
    "```"
   ]
  },
  {
   "cell_type": "markdown",
   "metadata": {
    "deletable": true,
    "editable": true,
    "slideshow": {
     "slide_type": "slide"
    }
   },
   "source": [
    "# 설치 확인\n",
    "\n",
    "```bash\n",
    "$ sudo pip3 list\n",
    "```"
   ]
  },
  {
   "cell_type": "markdown",
   "metadata": {
    "deletable": true,
    "editable": true,
    "slideshow": {
     "slide_type": "slide"
    }
   },
   "source": [
    "# Jupyter Notebook 서버 실행 \n",
    "\n",
    "명령라인에서 다음과 같이 입력하여 Jupyter Notebook을 서버로 실행한다.\n",
    "\n",
    "```bash\n",
    "$ jupyter notebook --ip=0.0.0.0 --port=8080 --no-browser\n",
    "```"
   ]
  },
  {
   "cell_type": "markdown",
   "metadata": {
    "deletable": true,
    "editable": true,
    "slideshow": {
     "slide_type": "notes"
    }
   },
   "source": [
    "브라우저를 열고 서버의 8080 포트에 접속한다. <br>\n",
    "Jupyter 초기화면에서 [New] / Python3  선택하여 노트를 추가하고, 코드를 작성 한다. "
   ]
  },
  {
   "cell_type": "markdown",
   "metadata": {
    "deletable": true,
    "editable": true
   },
   "source": [
    "#### 2016, 2017 [facebook.com/financedata](https://facebook.com/financedata)"
   ]
  }
 ],
 "metadata": {
  "celltoolbar": "Slideshow",
  "kernelspec": {
   "display_name": "Python 3",
   "language": "python",
   "name": "python3"
  },
  "language_info": {
   "codemirror_mode": {
    "name": "ipython",
    "version": 3
   },
   "file_extension": ".py",
   "mimetype": "text/x-python",
   "name": "python",
   "nbconvert_exporter": "python",
   "pygments_lexer": "ipython3",
   "version": "3.5.2"
  },
  "nikola": {
   "category": "dev",
   "date": "2016-11-07 19:22:10 UTC+09:00",
   "description": "Ubuntu 환경(특히, c9.io와 같은 클라우드 IDE)에 Python3 데이터 분석 환경 만들기 요약",
   "link": "",
   "slug": "building_ubuntu_python_data_analysis_environment_summary",
   "tags": "ubuntu, python, python3, dev",
   "title": "Python3 데이터 환경 만들기 요약",
   "type": "text"
  }
 },
 "nbformat": 4,
 "nbformat_minor": 2
}
