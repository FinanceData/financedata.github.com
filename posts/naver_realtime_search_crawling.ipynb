{
 "cells": [
  {
   "cell_type": "markdown",
   "metadata": {
    "collapsed": true
   },
   "source": [
    "# 네이버 실시간 급상승 크롤링\n",
    "\n",
    "http://naver.com\n",
    "<img src=\"http://i.imgur.com/AJH8h1d.png\" >\n",
    "\n",
    "짧으면서 최대한 많은 의미를 담기 위한 Python 크롤링 코드. import 문을 제외하면 딱 1줄 !\n",
    "\n",
    "#### 2017 https://fb.com/financedata\n",
    "\n",
    "<!-- TEASER_END -->"
   ]
  },
  {
   "cell_type": "markdown",
   "metadata": {},
   "source": [
    "# 딱 한줄"
   ]
  },
  {
   "cell_type": "code",
   "execution_count": 1,
   "metadata": {},
   "outputs": [
    {
     "data": {
      "text/plain": [
       "['사전투표소',\n",
       " '사전투표 시간',\n",
       " '사전투표 장소',\n",
       " '함소원',\n",
       " '중앙선거관리위원회',\n",
       " '이태곤',\n",
       " '사전투표',\n",
       " '2017년 대통령선거 사전투표',\n",
       " '사전투표 방법',\n",
       " '한끼줍쇼',\n",
       " '연금복권',\n",
       " '이수경',\n",
       " '가족관계증명서 인터넷발급',\n",
       " '공유',\n",
       " '유담',\n",
       " '챔피언스리그',\n",
       " '백상예술대상',\n",
       " '추리의 여왕',\n",
       " '날씨예보',\n",
       " 'sbs']"
      ]
     },
     "execution_count": 1,
     "metadata": {},
     "output_type": "execute_result"
    }
   ],
   "source": [
    "import re\n",
    "import requests\n",
    "\n",
    "re.findall('<span class=\"ah_k\">(.*?)</span>', requests.get('http://naver.com').text)[:20]"
   ]
  },
  {
   "cell_type": "markdown",
   "metadata": {},
   "source": [
    "#### 2017 https://financedata.github.io\n"
   ]
  }
 ],
 "metadata": {
  "kernelspec": {
   "display_name": "Python 3",
   "language": "python",
   "name": "python3"
  },
  "language_info": {
   "codemirror_mode": {
    "name": "ipython",
    "version": 3
   },
   "file_extension": ".py",
   "mimetype": "text/x-python",
   "name": "python",
   "nbconvert_exporter": "python",
   "pygments_lexer": "ipython3",
   "version": "3.5.2"
  },
  "nikola": {
   "category": "dev",
   "date": "2017-05-03 01:58:00 UTC+09:00",
   "description": "네이버 실시간 검색어 크롤링",
   "link": "",
   "slug": "naver_realtime_search_crawling",
   "tags": "crawling, regex, re, requests, naver",
   "title": "네이버 실시간 검색어 크롤링 (1줄)",
   "type": "text"
  }
 },
 "nbformat": 4,
 "nbformat_minor": 2
}
