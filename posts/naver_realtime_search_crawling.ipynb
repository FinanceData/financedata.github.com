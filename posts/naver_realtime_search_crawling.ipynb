{
 "cells": [
  {
   "cell_type": "markdown",
   "metadata": {
    "collapsed": true
   },
   "source": [
    "# 네이버 실시간 급상승 크롤링\n",
    "\n",
    "<img src=\"http://i.imgur.com/6U6miC9.png\" >\n",
    "\n",
    "짧으면서 최대한 많은 의미를 담기 위한 Python 크롤링 코드. import 문을 제외하면 딱 1줄 !\n",
    "<!-- TEASER_END -->"
   ]
  },
  {
   "cell_type": "code",
   "execution_count": 1,
   "metadata": {},
   "outputs": [
    {
     "data": {
      "text/plain": [
       "['조윤희',\n",
       " '라이언 방',\n",
       " '문재인 세월호',\n",
       " '가디언즈 오브 더 갤럭시2',\n",
       " '역적 결방',\n",
       " '레알마드리드 아틀레티코마드리드',\n",
       " '석가탄신일',\n",
       " '장제원',\n",
       " '챔피언스리그',\n",
       " '바른정당',\n",
       " '역적',\n",
       " '복학왕',\n",
       " '유승민',\n",
       " '국민의당',\n",
       " '완벽한 아내',\n",
       " '지지율',\n",
       " '대선후보 지지율',\n",
       " '어버이날',\n",
       " '귓속말',\n",
       " '유담']"
      ]
     },
     "execution_count": 1,
     "metadata": {},
     "output_type": "execute_result"
    }
   ],
   "source": [
    "import re\n",
    "import requests\n",
    "\n",
    "re.findall('<span class=\"ah_k\">(.*)</span>', requests.get('http://naver.com').text)[:20]"
   ]
  },
  {
   "cell_type": "markdown",
   "metadata": {},
   "source": [
    "#### 2017 https://fb.com/financedata"
   ]
  }
 ],
 "metadata": {
  "kernelspec": {
   "display_name": "Python 3",
   "language": "python",
   "name": "python3"
  },
  "language_info": {
   "codemirror_mode": {
    "name": "ipython",
    "version": 3
   },
   "file_extension": ".py",
   "mimetype": "text/x-python",
   "name": "python",
   "nbconvert_exporter": "python",
   "pygments_lexer": "ipython3",
   "version": "3.5.2"
  },
  "nikola": {
   "category": "dev",
   "date": "2017-05-03 01:58:00 UTC+09:00",
   "description": "네이버 실시간 검색어 크롤링",
   "link": "",
   "slug": "naver_realtime_search_crawling",
   "tags": "crawling, regex, re, requests, naver",
   "title": "네이버 실시간 검색어 크롤링 (1줄)",
   "type": "text"
  }
 },
 "nbformat": 4,
 "nbformat_minor": 2
}
