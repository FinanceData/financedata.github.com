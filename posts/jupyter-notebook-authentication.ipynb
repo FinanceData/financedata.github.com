{
 "cells": [
  {
   "cell_type": "markdown",
   "metadata": {
    "deletable": true,
    "editable": true
   },
   "source": [
    "# [FAQ] Jupyter Notebook 실행시 토큰을 입력하라고 나옵니다\n",
    "\n",
    "* Q: Jupyter Notebook 실행시 토큰 혹은 패스워드를 입력하라고 나옵니다.\n",
    "* A: \"jupyter notebook list\" 명령하여 표시되는 토큰을 입력하거나 프로파일을 생성하여 패스워드를 설정합니다. \n",
    "\n",
    "<img width=\"320\" src=\"http://i.imgur.com/1M0SKt3.png\" >\n",
    "\n",
    "<!-- TEASER_END -->"
   ]
  },
  {
   "cell_type": "markdown",
   "metadata": {
    "deletable": true,
    "editable": true
   },
   "source": [
    "# Jupyter Notebook 인증\n",
    "\n",
    "다음과 같이 jupyter notebook 서버로 실행 (로컬에서 jupyter notebook을 실행하는 것이 아니라 서버로 실행하고 브라우저로 접속)하고,\n",
    "\n",
    "```bash\n",
    "$ jupyter notebook --ip=0.0.0.0 --port=8080 --no-browser\n",
    "```\n",
    "\n",
    "jupyter notebook 서버에 접속할 때, 아래와 같이 token 혹은 패스워드를 입력하라고 표시된다. 보안성을 높이기 위한 기능으로jupyter 4.3 (2016년 12월)에 토큰 인증(token authentication)은 이 추가되었다. 화면에 표시되는 내용을 살펴보면 토큰(token)을 입력하거나 패스워드 설정하라는 메시지를 볼 수 있다.\n",
    "\n",
    "<img src=\"http://i.imgur.com/gSzITRs.png\" >\n"
   ]
  },
  {
   "cell_type": "markdown",
   "metadata": {
    "deletable": true,
    "editable": true
   },
   "source": [
    "# 토큰 인증\n",
    "다음과 같이 명령을 입력하여 표시되는 토큰(token)을 입력해 주면 된다.\n",
    "\n",
    "```bash\n",
    "$ jupyter notebook list\n",
    "Currently running servers:\n",
    "http://0.0.0.0:8080/?token=8bb77bd37304a54f770cb9f8b8374bdcd6a552284bd9b7ba :: /home/ubuntu/workspace\n",
    "```\n",
    "\n",
    "아래와 같은 URL을 사용할 수 도 있다.\n",
    "\n",
    "```bash\n",
    "http://your-server:8080/?token=8bb77bd37304a54f770cb9f8b8374bdcd6a552284bd9b7ba\n",
    "```\n",
    "\n",
    "1회만 입력하면 토큰이 만료되기 전까지 다시 물어보지 않는다."
   ]
  },
  {
   "cell_type": "markdown",
   "metadata": {
    "deletable": true,
    "editable": true
   },
   "source": [
    "# 패스워드 설정과 프로파일\n",
    "\n",
    "또 다른 방법으로 jupyter Notebook 서버에 프로파일을 생성하고 자신이 원하는 패스워드를 설정하는 방법이 있다.\n",
    "\n",
    "### 1. 프로파일 생성\n",
    "\n",
    "```bash\n",
    "$ jupyter notebook --generate-config\n",
    "```\n",
    "\n",
    "~/.jupyter 디렉토리가 생기고, 하위에 jupyter_notebook_config.py 파일이 생성된다.\n",
    "\n",
    "### 2. 패스워드 생성\n",
    "아래와 같이 ipython 실행하고, 패스워드 해시(hash) 생성한다.\n",
    "\n",
    "```bash\n",
    "\n",
    "$ ipython                                                                                                                                   \n",
    "Python 3.4.3 (default, Sep 14 2016, 12:36:27) \n",
    "Type \"copyright\", \"credits\" or \"license\" for more information.\n",
    "\n",
    "IPython 5.2.2 -- An enhanced Interactive Python.\n",
    "?         -> Introduction and overview of IPython's features.\n",
    "%quickref -> Quick reference.\n",
    "help      -> Python's own help system.\n",
    "object?   -> Details about 'object', use 'object??' for extra details.\n",
    "\n",
    "In [1]: from IPython.lib import passwd\n",
    "\n",
    "In [2]: passwd()\n",
    "Enter password: \n",
    "Verify password: \n",
    "Out[2]: 'sha1:f0bf7a023f60:25920410f68d70c03175e3fec4619c497b84193f'\n",
    "\n",
    "In [3]: ^D  #(^D를 입력하여 종료)                                                                                                              \n",
    "Do you really want to exit ([y]/n)? y  \n",
    "```\n",
    "\n",
    "### 3. jupyter_notebook_config.py 파일 수정\n",
    "~/.jupyter/jupyter_notebook_config.py 파일에 아래 내용을 추가 한다.\n",
    "\n",
    "```python\n",
    "c = get_config()\n",
    "c.NotebookApp.ip = '0.0.0.0'\n",
    "c.NotebookApp.open_browser = False\n",
    "c.NotebookApp.port = 8080\n",
    "c.NotebookApp.password = 'sha1:f0bf7a023f60:25920410f68d70c03175e3fec4619c497b84193'\n",
    "\n",
    "```\n",
    "\n",
    "### 4. jupyter notebook 실행\n",
    "다음과 같이 jupyter notebook 을 실행한다. \n",
    "\n",
    "```bash\n",
    "$ jupyter notebook\n",
    "```\n",
    "\n",
    "jupyter_notebook_config.py 설정에 ip, port 등의 옵션을 설정하였으므로 \"--ip=0.0.0.0 --port=8080 --no-browser\" 옵션을 따로 지정하지 않아도 된다.\n",
    "\n",
    "\n",
    "<img src=\"http://i.imgur.com/ZxTpBRq.png\" >\n"
   ]
  },
  {
   "cell_type": "markdown",
   "metadata": {
    "deletable": true,
    "editable": true
   },
   "source": [
    "# 참고자료 \n",
    "* http://jupyter-notebook.readthedocs.io/en/latest/security.html Security in the Jupyter notebook server"
   ]
  },
  {
   "cell_type": "markdown",
   "metadata": {
    "deletable": true,
    "editable": true
   },
   "source": [
    "#### 2017 [facebook.com/financedata](https://facebook.com/financedata)"
   ]
  }
 ],
 "metadata": {
  "kernelspec": {
   "display_name": "Python 3",
   "language": "python",
   "name": "python3"
  },
  "language_info": {
   "codemirror_mode": {
    "name": "ipython",
    "version": 3
   },
   "file_extension": ".py",
   "mimetype": "text/x-python",
   "name": "python",
   "nbconvert_exporter": "python",
   "pygments_lexer": "ipython3",
   "version": "3.5.2"
  },
  "nikola": {
   "category": "dev",
   "date": "2017-02-13 09:10:26 UTC+09:00",
   "description": "Jupyter Notebook 의 토큰 인증과 패스워드 설정 방법",
   "link": "",
   "slug": "jupyter-notebook-authentication",
   "tags": "python, jupyter, notebookm, authentication",
   "title": "[FAQ] Jupyter Notebook 실행시 토큰을 입력하라고 나옵니다",
   "type": "text"
  }
 },
 "nbformat": 4,
 "nbformat_minor": 2
}
