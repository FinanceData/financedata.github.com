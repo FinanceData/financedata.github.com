{
 "cells": [
  {
   "cell_type": "markdown",
   "metadata": {},
   "source": [
    "<img src=\"http://i.imgur.com/0dywhdR.png\" >\n",
    "# [FAQ] matplotlib: 차트의 기본 크기 설정 하려면?\n",
    "* Q: 차트의 기본 크기를 지정하고 싶습니다.\n",
    "* A: matplotlib.pylab의 rcParams을 이용하여 차트 그림(figure)의 기본 설정을 지정할 수 있습니다\n",
    "\n",
    "<!-- TEASER_END -->"
   ]
  },
  {
   "cell_type": "markdown",
   "metadata": {},
   "source": [
    "다음과 같이 plot()에서 figsize를 기본 크기를 지정할 수 도 있지만, 매번 그릴 때 마다 크기를 지정해야 하는 불편함이 있다. 특히, 시계열 차트를 많이 그리는 경우 시간에 따른 변화를 보기 위해 가로로 긴 차트를 그리는 경우가 더 많다. \n",
    "\n",
    "```python\n",
    "plt.figure(figsize=(12, 3))\n",
    "plt.plot(data)\n",
    "```\n",
    "\n",
    "matplotlib.pylab의 rcParams 설정을 활용하면, 차트의 크기와 선의 색, 두께등의 기본 값을 설정할 수 있다. "
   ]
  },
  {
   "cell_type": "code",
   "execution_count": 1,
   "metadata": {},
   "outputs": [],
   "source": [
    "%matplotlib inline\n",
    "import matplotlib.pylab as plt\n",
    "\n",
    "plt.rcParams[\"figure.figsize\"] = (14,4)\n",
    "plt.rcParams['lines.linewidth'] = 2\n",
    "plt.rcParams['lines.color'] = 'r'\n",
    "plt.rcParams['axes.grid'] = True "
   ]
  },
  {
   "cell_type": "markdown",
   "metadata": {},
   "source": [
    "설정에 자주 사용하는 값들은 아래와 같다.\n",
    "\n",
    "항목 | 설명\n",
    "-- | --\n",
    "\"figure.figsize\" | 그림(figure)의 크기. (가로,세로) 인치 단위\n",
    "'lines.linewidth' | 선의 두께\n",
    "'lines.color' | 선의 색깔\n",
    "'axes.grid' | 차트내 격자선(grid) 표시 여부"
   ]
  },
  {
   "cell_type": "code",
   "execution_count": 3,
   "metadata": {},
   "outputs": [
    {
     "data": {
      "image/png": "[encoded data removed]",
      "text/plain": [
       "<matplotlib.figure.Figure at 0x7fb014862dd8>"
      ]
     },
     "metadata": {},
     "output_type": "display_data"
    }
   ],
   "source": [
    "plt.rcParams[\"figure.figsize\"] = (10,4)\n",
    "plt.rcParams['lines.linewidth'] = 4\n",
    "plt.rcParams['lines.color'] = 'r'\n",
    "plt.rcParams['axes.grid'] = True\n",
    "\n",
    "data = [10, 24, 30, 50, 40]\n",
    "plt.plot(data)\n",
    "plt.show()"
   ]
  },
  {
   "cell_type": "markdown",
   "metadata": {},
   "source": [
    "# 참고 자료\n",
    "추가적인 보다 상세한 내용은 아래 내용을 참고 하자.\n",
    "* http://matplotlib.org/users/customizing.html Customizing matplotlib"
   ]
  },
  {
   "cell_type": "markdown",
   "metadata": {},
   "source": [
    "#### 2016, 2017 [facebook.com/financedata](https://facebook.com/financedata)"
   ]
  }
 ],
 "metadata": {
  "kernelspec": {
   "display_name": "Python 3",
   "language": "python",
   "name": "python3"
  },
  "language_info": {
   "codemirror_mode": {
    "name": "ipython",
    "version": 3
   },
   "file_extension": ".py",
   "mimetype": "text/x-python",
   "name": "python",
   "nbconvert_exporter": "python",
   "pygments_lexer": "ipython3",
   "version": "3.5.2"
  },
  "nikola": {
   "category": "faq",
   "date": "2017-01-28 09:00:00 UTC+09:00",
   "description": "",
   "link": "",
   "slug": "faq_matplotlib_default_chart_size",
   "tags": "faq, matplotlib, default, size",
   "title": "[FAQ] matplotlib 차트의 기본 크기 설정",
   "type": "text"
  }
 },
 "nbformat": 4,
 "nbformat_minor": 1
}
