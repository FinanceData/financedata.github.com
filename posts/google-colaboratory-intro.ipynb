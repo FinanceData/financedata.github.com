{
 "cells": [
  {
   "cell_type": "markdown",
   "metadata": {
    "colab_type": "text",
    "id": "sbTOLTwnDyBu"
   },
   "source": [
    "# 구글 콜래보래토리 소개\n",
    "\n",
    "\"Google Colaboratory = Google Drive + Juputer Noteook\"\n",
    "\n",
    "![Google Colaboratory](https://i.imgur.com/4ERt0Sm.png =320x)\n",
    "\n",
    "<!-- TEASER_END -->\n",
    "### 2017 http://financedata.kr\n"
   ]
  },
  {
   "cell_type": "markdown",
   "metadata": {
    "colab_type": "text",
    "id": "UQaAURR8EnQT"
   },
   "source": [
    "# Google Colaboratory\n",
    "구글이 내부에서 사용하던 주피터 노트북 구글 커스텀 버전 (2017년 10월 공개)\n",
    "\n",
    "한줄로 요약하자면, \n",
    "\n",
    "**\"Google Colaboratory = Google Drive + Juputer Noteook\"**\n",
    "\n"
   ]
  },
  {
   "cell_type": "markdown",
   "metadata": {
    "colab_type": "text",
    "id": "HhHqW3StKn0j"
   },
   "source": [
    "# 간단한 소개\n",
    "https://colab.research.google.com (접속하면 바로 소개문서 노트북)\n",
    "\n",
    "1. Jupyter Notebook 기능 포함 (파이썬 실행, 마크다운, 수식, 차트 표현 등)\n",
    "1. 구글 드라이브의 문서 생성과 공유 기능 (닥스 문서와 동일한 방법으로 생성, 공유)\n",
    "\n",
    "(코드 실행에 필요한 커널이 연결이 안되지만, 사용 요청하면 하루 정도후에 승인)"
   ]
  },
  {
   "cell_type": "markdown",
   "metadata": {
    "colab_type": "text",
    "id": "1RqXgtgGOkhx"
   },
   "source": [
    "# 실행 환경"
   ]
  },
  {
   "cell_type": "code",
   "execution_count": 1,
   "metadata": {
    "colab": {
     "autoexec": {
      "startup": false,
      "wait_interval": 0
     },
     "base_uri": "https://localhost:8080/",
     "height": 34,
     "output_extras": [
      {
       "item_id": 1
      }
     ]
    },
    "colab_type": "code",
    "executionInfo": {
     "elapsed": 570,
     "status": "ok",
     "timestamp": 1509269157020,
     "user": {
      "displayName": "Sean-June Lee",
      "photoUrl": "//lh3.googleusercontent.com/-j96Pvw9LbEw/AAAAAAAAAAI/AAAAAAAAhqE/pPM6FuP1OtM/s50-c-k-no/photo.jpg",
      "userId": "115680831308925661023"
     },
     "user_tz": -540
    },
    "id": "G1w__WlvEEsC",
    "outputId": "44d05bec-16ab-4db1-84d1-f27948c5347b"
   },
   "outputs": [
    {
     "data": {
      "text/plain": [
       "sys.version_info(major=2, minor=7, micro=12, releaselevel='final', serial=0)"
      ]
     },
     "execution_count": 1,
     "metadata": {
      "tags": []
     },
     "output_type": "execute_result"
    }
   ],
   "source": [
    "# 파이썬 버전\n",
    "\n",
    "import sys\n",
    "sys.version_info  "
   ]
  },
  {
   "cell_type": "markdown",
   "metadata": {
    "colab_type": "text",
    "id": "hlT_ITBYNuNh"
   },
   "source": [
    "파이썬 버전 2.7이며 아직 파이썬3 이나 R, Julia등 다른 커널은 제공하지 않는다"
   ]
  },
  {
   "cell_type": "code",
   "execution_count": 2,
   "metadata": {
    "colab": {
     "autoexec": {
      "startup": false,
      "wait_interval": 0
     },
     "base_uri": "https://localhost:8080/",
     "height": 34,
     "output_extras": [
      {
       "item_id": 1
      }
     ]
    },
    "colab_type": "code",
    "executionInfo": {
     "elapsed": 837,
     "status": "ok",
     "timestamp": 1509269158144,
     "user": {
      "displayName": "Sean-June Lee",
      "photoUrl": "//lh3.googleusercontent.com/-j96Pvw9LbEw/AAAAAAAAAAI/AAAAAAAAhqE/pPM6FuP1OtM/s50-c-k-no/photo.jpg",
      "userId": "115680831308925661023"
     },
     "user_tz": -540
    },
    "id": "pg4UIc3PPsEV",
    "outputId": "c21612e3-f166-472a-d483-27797542923d"
   },
   "outputs": [
    {
     "data": {
      "text/plain": [
       "'Linux-4.4.70+-x86_64-with-Ubuntu-16.04-xenial'"
      ]
     },
     "execution_count": 2,
     "metadata": {
      "tags": []
     },
     "output_type": "execute_result"
    }
   ],
   "source": [
    "# OS 플랫폼\n",
    "\n",
    "import platform\n",
    "platform.platform()"
   ]
  },
  {
   "cell_type": "markdown",
   "metadata": {
    "colab_type": "text",
    "id": "JCkU6g-6PvXq"
   },
   "source": [
    "64비트 우분투 16.04 버전"
   ]
  },
  {
   "cell_type": "code",
   "execution_count": 3,
   "metadata": {
    "colab": {
     "autoexec": {
      "startup": false,
      "wait_interval": 0
     },
     "base_uri": "https://localhost:8080/",
     "height": 1768,
     "output_extras": [
      {
       "item_id": 1
      }
     ]
    },
    "colab_type": "code",
    "executionInfo": {
     "elapsed": 682,
     "status": "ok",
     "timestamp": 1509269159040,
     "user": {
      "displayName": "Sean-June Lee",
      "photoUrl": "//lh3.googleusercontent.com/-j96Pvw9LbEw/AAAAAAAAAAI/AAAAAAAAhqE/pPM6FuP1OtM/s50-c-k-no/photo.jpg",
      "userId": "115680831308925661023"
     },
     "user_tz": -540
    },
    "id": "PYUoUDZlPvsN",
    "outputId": "4bac6b58-83f9-41b5-9bc1-93db192c57e1"
   },
   "outputs": [
    {
     "data": {
      "text/plain": [
       "[wheel 0.30.0 (/usr/local/lib/python2.7/dist-packages),\n",
       " webencodings 0.5.1 (/usr/local/lib/python2.7/dist-packages),\n",
       " wcwidth 0.1.7 (/usr/local/lib/python2.7/dist-packages),\n",
       " urllib3 1.22 (/usr/local/lib/python2.7/dist-packages),\n",
       " uritemplate 3.0.0 (/usr/local/lib/python2.7/dist-packages),\n",
       " traitlets 4.3.2 (/usr/local/lib/python2.7/dist-packages),\n",
       " tornado 4.4.2 (/usr/local/lib/python2.7/dist-packages),\n",
       " testpath 0.3.1 (/usr/local/lib/python2.7/dist-packages),\n",
       " terminado 0.6 (/usr/local/lib/python2.7/dist-packages),\n",
       " tensorflow 1.0.1 (/usr/local/lib/python2.7/dist-packages),\n",
       " sympy 1.1.1 (/usr/local/lib/python2.7/dist-packages),\n",
       " subprocess32 3.5.0 (/usr/local/lib/python2.7/dist-packages),\n",
       " statsmodels 0.8.0 (/usr/local/lib/python2.7/dist-packages),\n",
       " six 1.10.0 (/usr/local/lib/python2.7/dist-packages),\n",
       " singledispatch 3.4.0.3 (/usr/local/lib/python2.7/dist-packages),\n",
       " simplegeneric 0.8.1 (/usr/local/lib/python2.7/dist-packages),\n",
       " setuptools 36.6.0 (/usr/local/lib/python2.7/dist-packages),\n",
       " seaborn 0.7.1 (/usr/local/lib/python2.7/dist-packages),\n",
       " scipy 0.19.1 (/usr/local/lib/python2.7/dist-packages),\n",
       " scikit-learn 0.18.2 (/usr/local/lib/python2.7/dist-packages),\n",
       " scikit-image 0.13.0 (/usr/local/lib/python2.7/dist-packages),\n",
       " scandir 1.6 (/usr/local/lib/python2.7/dist-packages),\n",
       " rsa 3.4.2 (/usr/local/lib/python2.7/dist-packages),\n",
       " requests 2.18.4 (/usr/local/lib/python2.7/dist-packages),\n",
       " requests-oauthlib 0.8.0 (/usr/local/lib/python2.7/dist-packages),\n",
       " requests-ftp 0.3.1 (/usr/local/lib/python2.7/dist-packages),\n",
       " requests-file 1.4.2 (/usr/local/lib/python2.7/dist-packages),\n",
       " pyzmq 16.0.2 (/usr/local/lib/python2.7/dist-packages),\n",
       " PyYAML 3.11 (/usr/local/lib/python2.7/dist-packages),\n",
       " PyWavelets 0.5.2 (/usr/local/lib/python2.7/dist-packages),\n",
       " pytz 2016.7 (/usr/local/lib/python2.7/dist-packages),\n",
       " python-dateutil 2.5.0 (/usr/local/lib/python2.7/dist-packages),\n",
       " pyparsing 2.2.0 (/usr/local/lib/python2.7/dist-packages),\n",
       " Pygments 2.1.3 (/usr/local/lib/python2.7/dist-packages),\n",
       " pyasn1 0.3.7 (/usr/local/lib/python2.7/dist-packages),\n",
       " pyasn1-modules 0.1.5 (/usr/local/lib/python2.7/dist-packages),\n",
       " ptyprocess 0.5.2 (/usr/local/lib/python2.7/dist-packages),\n",
       " psutil 4.3.0 (/usr/local/lib/python2.7/dist-packages),\n",
       " protobuf 3.4.0 (/usr/local/lib/python2.7/dist-packages),\n",
       " prompt-toolkit 1.0.15 (/usr/local/lib/python2.7/dist-packages),\n",
       " plotly 1.12.5 (/usr/local/lib/python2.7/dist-packages),\n",
       " pip 9.0.1 (/usr/local/lib/python2.7/dist-packages),\n",
       " Pillow 3.4.1 (/usr/local/lib/python2.7/dist-packages),\n",
       " pickleshare 0.7.4 (/usr/local/lib/python2.7/dist-packages),\n",
       " pexpect 4.2.1 (/usr/local/lib/python2.7/dist-packages),\n",
       " pbr 3.1.1 (/usr/local/lib/python2.7/dist-packages),\n",
       " patsy 0.4.1 (/usr/local/lib/python2.7/dist-packages),\n",
       " pathlib2 2.3.0 (/usr/local/lib/python2.7/dist-packages),\n",
       " pandocfilters 1.3.0 (/usr/local/lib/python2.7/dist-packages),\n",
       " pandas 0.20.3 (/usr/local/lib/python2.7/dist-packages),\n",
       " pandas-gbq 0.2.0 (/usr/local/lib/python2.7/dist-packages),\n",
       " oauthlib 2.0.6 (/usr/local/lib/python2.7/dist-packages),\n",
       " oauth2client 4.1.2 (/usr/local/lib/python2.7/dist-packages),\n",
       " numpy 1.13.3 (/usr/local/lib/python2.7/dist-packages),\n",
       " notebook 5.2.0 (/usr/local/lib/python2.7/dist-packages),\n",
       " nltk 3.2.1 (/usr/local/lib/python2.7/dist-packages),\n",
       " networkx 2.0 (/usr/local/lib/python2.7/dist-packages),\n",
       " nbformat 4.4.0 (/usr/local/lib/python2.7/dist-packages),\n",
       " nbconvert 5.3.1 (/usr/local/lib/python2.7/dist-packages),\n",
       " mpmath 1.0.0 (/usr/local/lib/python2.7/dist-packages),\n",
       " mock 2.0.0 (/usr/local/lib/python2.7/dist-packages),\n",
       " mistune 0.7.4 (/usr/local/lib/python2.7/dist-packages),\n",
       " matplotlib 2.1.0 (/usr/local/lib/python2.7/dist-packages),\n",
       " MarkupSafe 1.0 (/usr/local/lib/python2.7/dist-packages),\n",
       " jupyter-core 4.3.0 (/usr/local/lib/python2.7/dist-packages),\n",
       " jupyter-client 5.1.0 (/usr/local/lib/python2.7/dist-packages),\n",
       " jsonschema 2.5.1 (/usr/local/lib/python2.7/dist-packages),\n",
       " Jinja2 2.8 (/usr/local/lib/python2.7/dist-packages),\n",
       " ipython 5.5.0 (/usr/local/lib/python2.7/dist-packages),\n",
       " ipython-genutils 0.2.0 (/usr/local/lib/python2.7/dist-packages),\n",
       " ipykernel 4.6.1 (/usr/local/lib/python2.7/dist-packages),\n",
       " idna 2.6 (/usr/local/lib/python2.7/dist-packages),\n",
       " httplib2 0.10.3 (/usr/local/lib/python2.7/dist-packages),\n",
       " html5lib 1.0b10 (/usr/local/lib/python2.7/dist-packages),\n",
       " googleapis-common-protos 1.5.3 (/usr/local/lib/python2.7/dist-packages),\n",
       " google-resumable-media 0.3.1 (/usr/local/lib/python2.7/dist-packages),\n",
       " google-colab 0.0.1a1 (/usr/local/lib/python2.7/dist-packages),\n",
       " google-cloud-core 0.27.1 (/usr/local/lib/python2.7/dist-packages),\n",
       " google-cloud-bigquery 0.27.0 (/usr/local/lib/python2.7/dist-packages),\n",
       " google-auth 1.1.1 (/usr/local/lib/python2.7/dist-packages),\n",
       " google-auth-oauthlib 0.1.1 (/usr/local/lib/python2.7/dist-packages),\n",
       " google-auth-httplib2 0.0.2 (/usr/local/lib/python2.7/dist-packages),\n",
       " google-api-python-client 1.6.4 (/usr/local/lib/python2.7/dist-packages),\n",
       " ggplot 0.6.8 (/usr/local/lib/python2.7/dist-packages),\n",
       " futures 3.0.5 (/usr/local/lib/python2.7/dist-packages),\n",
       " future 0.15.2 (/usr/local/lib/python2.7/dist-packages),\n",
       " functools32 3.2.3.post2 (/usr/local/lib/python2.7/dist-packages),\n",
       " funcsigs 1.0.2 (/usr/local/lib/python2.7/dist-packages),\n",
       " enum34 1.1.6 (/usr/local/lib/python2.7/dist-packages),\n",
       " entrypoints 0.2.3 (/usr/local/lib/python2.7/dist-packages),\n",
       " decorator 4.1.2 (/usr/local/lib/python2.7/dist-packages),\n",
       " cycler 0.10.0 (/usr/local/lib/python2.7/dist-packages),\n",
       " crcmod 1.7 (/usr/local/lib/python2.7/dist-packages),\n",
       " configparser 3.5.0 (/usr/local/lib/python2.7/dist-packages),\n",
       " chardet 3.0.4 (/usr/local/lib/python2.7/dist-packages),\n",
       " certifi 2017.7.27.1 (/usr/local/lib/python2.7/dist-packages),\n",
       " cachetools 2.0.1 (/usr/local/lib/python2.7/dist-packages),\n",
       " brewer2mpl 1.4.1 (/usr/local/lib/python2.7/dist-packages),\n",
       " bleach 2.1.1 (/usr/local/lib/python2.7/dist-packages),\n",
       " beautifulsoup4 4.6.0 (/usr/local/lib/python2.7/dist-packages),\n",
       " backports.shutil-get-terminal-size 1.0.0 (/usr/local/lib/python2.7/dist-packages),\n",
       " backports.functools-lru-cache 1.4 (/usr/local/lib/python2.7/dist-packages),\n",
       " backports-abc 0.5 (/usr/local/lib/python2.7/dist-packages)]"
      ]
     },
     "execution_count": 3,
     "metadata": {
      "tags": []
     },
     "output_type": "execute_result"
    }
   ],
   "source": [
    "# 설치된 파이썬 패키지\n",
    "\n",
    "import pip\n",
    "pip.get_installed_distributions()"
   ]
  },
  {
   "cell_type": "markdown",
   "metadata": {
    "colab_type": "text",
    "id": "ySBnOy50P635"
   },
   "source": [
    "scipy, numpy, pandas 등 대부분의 파이썬 패키지들이 설치되어 있으며, scikit-learn, tensorflow 등 머신러닝라이브러리도 설치되어 있다.\n",
    "\n"
   ]
  },
  {
   "cell_type": "markdown",
   "metadata": {
    "colab_type": "text",
    "id": "KS7l7YD_XJrz"
   },
   "source": [
    "# 간단한 차트"
   ]
  },
  {
   "cell_type": "code",
   "execution_count": 4,
   "metadata": {
    "colab": {
     "autoexec": {
      "startup": false,
      "wait_interval": 0
     },
     "base_uri": "https://localhost:8080/",
     "height": 85,
     "output_extras": [
      {
       "item_id": 1
      }
     ]
    },
    "colab_type": "code",
    "executionInfo": {
     "elapsed": 463,
     "status": "ok",
     "timestamp": 1509269159686,
     "user": {
      "displayName": "Sean-June Lee",
      "photoUrl": "//lh3.googleusercontent.com/-j96Pvw9LbEw/AAAAAAAAAAI/AAAAAAAAhqE/pPM6FuP1OtM/s50-c-k-no/photo.jpg",
      "userId": "115680831308925661023"
     },
     "user_tz": -540
    },
    "id": "S53ooIfhW-mJ",
    "outputId": "8b297cf1-ca49-4346-ebd7-293b12020eb1"
   },
   "outputs": [
    {
     "data": {
      "text/plain": [
       "array([-91, -70, -40,  -1,  80, -76,  24,  45,  42,  83,  67, -15,  38,\n",
       "        30,  85,  23,  -6,  30, -62, -21, -83,  61,  36, -26, -32,  99,\n",
       "        78,  66,  78,  -4, -39,  11, -84,  63, -20, -17,  94,  88, -66,\n",
       "       -62,  58,   6,  72, -86, -35, -46, -80, -19,  84,  37])"
      ]
     },
     "execution_count": 4,
     "metadata": {
      "tags": []
     },
     "output_type": "execute_result"
    }
   ],
   "source": [
    "import numpy as np\n",
    "\n",
    "data = np.random.randint(-100, 100, 50)\n",
    "data"
   ]
  },
  {
   "cell_type": "code",
   "execution_count": 5,
   "metadata": {
    "colab": {
     "autoexec": {
      "startup": false,
      "wait_interval": 0
     },
     "base_uri": "https://localhost:8080/",
     "height": 347,
     "output_extras": [
      {
       "item_id": 1
      }
     ]
    },
    "colab_type": "code",
    "executionInfo": {
     "elapsed": 486,
     "status": "ok",
     "timestamp": 1509269160335,
     "user": {
      "displayName": "Sean-June Lee",
      "photoUrl": "//lh3.googleusercontent.com/-j96Pvw9LbEw/AAAAAAAAAAI/AAAAAAAAhqE/pPM6FuP1OtM/s50-c-k-no/photo.jpg",
      "userId": "115680831308925661023"
     },
     "user_tz": -540
    },
    "id": "3qgokxalXUmM",
    "outputId": "d008c96b-78d5-4d77-930c-e2dca553b694"
   },
   "outputs": [
    {
     "data": {
      "image/png": "[encoded data removed]",
      "text/plain": [
       "<matplotlib.figure.Figure at 0x7efed8a0e510>"
      ]
     },
     "metadata": {
      "tags": []
     },
     "output_type": "display_data"
    }
   ],
   "source": [
    "import matplotlib.pyplot as plt\n",
    "\n",
    "plt.plot(data.cumsum())\n",
    "plt.show()"
   ]
  },
  {
   "cell_type": "markdown",
   "metadata": {
    "colab_type": "text",
    "id": "7YlBphxVXyff"
   },
   "source": [
    "# 추가 패키지 설치\n",
    "\n",
    "필요한 패키지가 설치되어 있지 않다면 pip 외부 명령으로 추가 설치할 수 있다.\n"
   ]
  },
  {
   "cell_type": "code",
   "execution_count": 6,
   "metadata": {
    "colab": {
     "autoexec": {
      "startup": false,
      "wait_interval": 0
     },
     "base_uri": "https://localhost:8080/",
     "height": 289,
     "output_extras": [
      {
       "item_id": 3
      }
     ]
    },
    "colab_type": "code",
    "executionInfo": {
     "elapsed": 1309,
     "status": "ok",
     "timestamp": 1509269161788,
     "user": {
      "displayName": "Sean-June Lee",
      "photoUrl": "//lh3.googleusercontent.com/-j96Pvw9LbEw/AAAAAAAAAAI/AAAAAAAAhqE/pPM6FuP1OtM/s50-c-k-no/photo.jpg",
      "userId": "115680831308925661023"
     },
     "user_tz": -540
    },
    "id": "gWB5GpVmXyqq",
    "outputId": "a00e0e48-153f-4ad7-f734-c8399d4f1430"
   },
   "outputs": [
    {
     "name": "stdout",
     "output_type": "stream",
     "text": [
      "Collecting pandas_datareader\n",
      "  Using cached pandas_datareader-0.5.0-py2.py3-none-any.whl\n",
      "Requirement already satisfied: pandas>=0.17.0 in /usr/local/lib/python2.7/dist-packages (from pandas_datareader)\n",
      "Requirement already satisfied: requests>=2.3.0 in /usr/local/lib/python2.7/dist-packages (from pandas_datareader)\n",
      "Requirement already satisfied: requests-file in /usr/local/lib/python2.7/dist-packages (from pandas_datareader)\n",
      "Requirement already satisfied: requests-ftp in /usr/local/lib/python2.7/dist-packages (from pandas_datareader)\n",
      "Requirement already satisfied: pytz>=2011k in /usr/local/lib/python2.7/dist-packages (from pandas>=0.17.0->pandas_datareader)\n",
      "Requirement already satisfied: python-dateutil in /usr/local/lib/python2.7/dist-packages (from pandas>=0.17.0->pandas_datareader)\n",
      "Requirement already satisfied: numpy>=1.7.0 in /usr/local/lib/python2.7/dist-packages (from pandas>=0.17.0->pandas_datareader)\n",
      "Requirement already satisfied: urllib3<1.23,>=1.21.1 in /usr/local/lib/python2.7/dist-packages (from requests>=2.3.0->pandas_datareader)\n",
      "Requirement already satisfied: idna<2.7,>=2.5 in /usr/local/lib/python2.7/dist-packages (from requests>=2.3.0->pandas_datareader)\n",
      "Requirement already satisfied: chardet<3.1.0,>=3.0.2 in /usr/local/lib/python2.7/dist-packages (from requests>=2.3.0->pandas_datareader)\n",
      "Requirement already satisfied: certifi>=2017.4.17 in /usr/local/lib/python2.7/dist-packages (from requests>=2.3.0->pandas_datareader)\n",
      "Requirement already satisfied: six in /usr/local/lib/python2.7/dist-packages (from requests-file->pandas_datareader)\n",
      "Installing collected packages: pandas-datareader\n",
      "Successfully installed pandas-datareader-0.5.0\n"
     ]
    }
   ],
   "source": [
    "! pip install pandas_datareader"
   ]
  },
  {
   "cell_type": "markdown",
   "metadata": {
    "colab_type": "text",
    "id": "jwvfTycRaogs"
   },
   "source": [
    "# 주가 데이터\n",
    "pandas_datareader 와 pandas.DataFrame() 사용 예"
   ]
  },
  {
   "cell_type": "code",
   "execution_count": 7,
   "metadata": {
    "colab": {
     "autoexec": {
      "startup": false,
      "wait_interval": 0
     },
     "base_uri": "https://localhost:8080/",
     "height": 407,
     "output_extras": [
      {
       "item_id": 1
      },
      {
       "item_id": 2
      }
     ]
    },
    "colab_type": "code",
    "executionInfo": {
     "elapsed": 1505,
     "status": "ok",
     "timestamp": 1509269163328,
     "user": {
      "displayName": "Sean-June Lee",
      "photoUrl": "//lh3.googleusercontent.com/-j96Pvw9LbEw/AAAAAAAAAAI/AAAAAAAAhqE/pPM6FuP1OtM/s50-c-k-no/photo.jpg",
      "userId": "115680831308925661023"
     },
     "user_tz": -540
    },
    "id": "6prvGaHqYCpe",
    "outputId": "cd6f5f00-5ad0-47aa-eca4-b34466da5a2d"
   },
   "outputs": [
    {
     "name": "stdout",
     "output_type": "stream",
     "text": [
      "('row count:', 185)\n"
     ]
    },
    {
     "data": {
      "text/html": [
       "<div>\n",
       "<style>\n",
       "    .dataframe thead tr:only-child th {\n",
       "        text-align: right;\n",
       "    }\n",
       "\n",
       "    .dataframe thead th {\n",
       "        text-align: left;\n",
       "    }\n",
       "\n",
       "    .dataframe tbody tr th {\n",
       "        vertical-align: top;\n",
       "    }\n",
       "</style>\n",
       "<table border=\"1\" class=\"dataframe\">\n",
       "  <thead>\n",
       "    <tr style=\"text-align: right;\">\n",
       "      <th></th>\n",
       "      <th>Open</th>\n",
       "      <th>High</th>\n",
       "      <th>Low</th>\n",
       "      <th>Close</th>\n",
       "      <th>Adj Close</th>\n",
       "      <th>Volume</th>\n",
       "    </tr>\n",
       "    <tr>\n",
       "      <th>Date</th>\n",
       "      <th></th>\n",
       "      <th></th>\n",
       "      <th></th>\n",
       "      <th></th>\n",
       "      <th></th>\n",
       "      <th></th>\n",
       "    </tr>\n",
       "  </thead>\n",
       "  <tbody>\n",
       "    <tr>\n",
       "      <th>2017-09-15</th>\n",
       "      <td>2515000.0</td>\n",
       "      <td>2528000.0</td>\n",
       "      <td>2493000.0</td>\n",
       "      <td>2520000.0</td>\n",
       "      <td>2520000.0</td>\n",
       "      <td>215146</td>\n",
       "    </tr>\n",
       "    <tr>\n",
       "      <th>2017-09-18</th>\n",
       "      <td>2527000.0</td>\n",
       "      <td>2624000.0</td>\n",
       "      <td>2526000.0</td>\n",
       "      <td>2624000.0</td>\n",
       "      <td>2624000.0</td>\n",
       "      <td>230499</td>\n",
       "    </tr>\n",
       "    <tr>\n",
       "      <th>2017-09-19</th>\n",
       "      <td>2625000.0</td>\n",
       "      <td>2632000.0</td>\n",
       "      <td>2589000.0</td>\n",
       "      <td>2606000.0</td>\n",
       "      <td>2606000.0</td>\n",
       "      <td>197008</td>\n",
       "    </tr>\n",
       "    <tr>\n",
       "      <th>2017-09-20</th>\n",
       "      <td>2606000.0</td>\n",
       "      <td>2625000.0</td>\n",
       "      <td>2592000.0</td>\n",
       "      <td>2611000.0</td>\n",
       "      <td>2611000.0</td>\n",
       "      <td>185855</td>\n",
       "    </tr>\n",
       "    <tr>\n",
       "      <th>2017-09-21</th>\n",
       "      <td>2611000.0</td>\n",
       "      <td>2648000.0</td>\n",
       "      <td>2611000.0</td>\n",
       "      <td>2640000.0</td>\n",
       "      <td>2640000.0</td>\n",
       "      <td>176796</td>\n",
       "    </tr>\n",
       "    <tr>\n",
       "      <th>2017-09-25</th>\n",
       "      <td>2648000.0</td>\n",
       "      <td>2684000.0</td>\n",
       "      <td>2623000.0</td>\n",
       "      <td>2681000.0</td>\n",
       "      <td>2681000.0</td>\n",
       "      <td>464510</td>\n",
       "    </tr>\n",
       "    <tr>\n",
       "      <th>2017-09-26</th>\n",
       "      <td>2681000.0</td>\n",
       "      <td>2681000.0</td>\n",
       "      <td>2681000.0</td>\n",
       "      <td>2681000.0</td>\n",
       "      <td>2681000.0</td>\n",
       "      <td>0</td>\n",
       "    </tr>\n",
       "    <tr>\n",
       "      <th>2017-09-27</th>\n",
       "      <td>2600000.0</td>\n",
       "      <td>2610000.0</td>\n",
       "      <td>2575000.0</td>\n",
       "      <td>2584000.0</td>\n",
       "      <td>2584000.0</td>\n",
       "      <td>215940</td>\n",
       "    </tr>\n",
       "    <tr>\n",
       "      <th>2017-09-28</th>\n",
       "      <td>2613000.0</td>\n",
       "      <td>2623000.0</td>\n",
       "      <td>2563000.0</td>\n",
       "      <td>2563000.0</td>\n",
       "      <td>2563000.0</td>\n",
       "      <td>240509</td>\n",
       "    </tr>\n",
       "    <tr>\n",
       "      <th>2017-09-29</th>\n",
       "      <td>2559000.0</td>\n",
       "      <td>2581000.0</td>\n",
       "      <td>2542000.0</td>\n",
       "      <td>2564000.0</td>\n",
       "      <td>2564000.0</td>\n",
       "      <td>258188</td>\n",
       "    </tr>\n",
       "  </tbody>\n",
       "</table>\n",
       "</div>"
      ],
      "text/plain": [
       "                 Open       High        Low      Close  Adj Close  Volume\n",
       "Date                                                                     \n",
       "2017-09-15  2515000.0  2528000.0  2493000.0  2520000.0  2520000.0  215146\n",
       "2017-09-18  2527000.0  2624000.0  2526000.0  2624000.0  2624000.0  230499\n",
       "2017-09-19  2625000.0  2632000.0  2589000.0  2606000.0  2606000.0  197008\n",
       "2017-09-20  2606000.0  2625000.0  2592000.0  2611000.0  2611000.0  185855\n",
       "2017-09-21  2611000.0  2648000.0  2611000.0  2640000.0  2640000.0  176796\n",
       "2017-09-25  2648000.0  2684000.0  2623000.0  2681000.0  2681000.0  464510\n",
       "2017-09-26  2681000.0  2681000.0  2681000.0  2681000.0  2681000.0       0\n",
       "2017-09-27  2600000.0  2610000.0  2575000.0  2584000.0  2584000.0  215940\n",
       "2017-09-28  2613000.0  2623000.0  2563000.0  2563000.0  2563000.0  240509\n",
       "2017-09-29  2559000.0  2581000.0  2542000.0  2564000.0  2564000.0  258188"
      ]
     },
     "execution_count": 7,
     "metadata": {
      "tags": []
     },
     "output_type": "execute_result"
    }
   ],
   "source": [
    "import pandas_datareader as pdr\n",
    "\n",
    "# 삼성전자 1~3분기 가격 데이터\n",
    "df = pdr.get_data_yahoo('005930.KS', '2017-01-01', '2017-09-30')\n",
    "\n",
    "print('row count:', len(df))\n",
    "df.tail(10)"
   ]
  },
  {
   "cell_type": "code",
   "execution_count": 8,
   "metadata": {
    "colab": {
     "autoexec": {
      "startup": false,
      "wait_interval": 0
     },
     "base_uri": "https://localhost:8080/",
     "height": 365,
     "output_extras": [
      {
       "item_id": 1
      },
      {
       "item_id": 2
      }
     ]
    },
    "colab_type": "code",
    "executionInfo": {
     "elapsed": 722,
     "status": "ok",
     "timestamp": 1509269164088,
     "user": {
      "displayName": "Sean-June Lee",
      "photoUrl": "//lh3.googleusercontent.com/-j96Pvw9LbEw/AAAAAAAAAAI/AAAAAAAAhqE/pPM6FuP1OtM/s50-c-k-no/photo.jpg",
      "userId": "115680831308925661023"
     },
     "user_tz": -540
    },
    "id": "ypz_T9pFX2hE",
    "outputId": "81932e4e-f78b-4f30-b832-8f5cd376b3aa"
   },
   "outputs": [
    {
     "data": {
      "text/plain": [
       "<matplotlib.axes._subplots.AxesSubplot at 0x7efed8172210>"
      ]
     },
     "execution_count": 8,
     "metadata": {
      "tags": []
     },
     "output_type": "execute_result"
    },
    {
     "data": {
      "image/png": "[encoded data removed]",
      "text/plain": [
       "<matplotlib.figure.Figure at 0x7efed89c2cd0>"
      ]
     },
     "metadata": {
      "tags": []
     },
     "output_type": "display_data"
    }
   ],
   "source": [
    "# 삼성전자 2017년 1~3분기 수정종가 차트\n",
    "\n",
    "df['Adj Close'].plot()"
   ]
  },
  {
   "cell_type": "markdown",
   "metadata": {
    "colab_type": "text",
    "id": "tXhGQFI-NuPn"
   },
   "source": [
    "# 결론\n",
    "(다른 구글닥스의 문서와 마찬가지로) 주피터 노트북 문서를 여러 사람이 동시에 열어서 함께 편집하는 것이 가능하다.\n",
    "\n",
    "따로 설치한 주피터 노트북보다 더 많은 기능이 있다고할 수 없으나 \n",
    "Google Drive의 공유와 동시 편집기능은 협업에 매우 유용하다.\n",
    "\n",
    "\n",
    "\n",
    "※ 본 문서 자체가 구글 드라이브에서 생성하고 작성한 문서입니다. 고유링크: https://colab.research.google.com/notebook#fileId=0B2Op0f7i-jUEem1NUWVaRDlwVVE"
   ]
  },
  {
   "cell_type": "markdown",
   "metadata": {
    "colab_type": "text",
    "id": "B-vGPr5kNuR6"
   },
   "source": [
    "\n",
    "\n",
    "---\n",
    "\n",
    "\n",
    "### 2017 http://financedata.kr"
   ]
  }
 ],
 "metadata": {
  "colab": {
   "collapsed_sections": [],
   "default_view": {},
   "name": "Google Colaboratory.ipynb",
   "provenance": [],
   "version": "0.3.2",
   "views": {}
  },
  "kernelspec": {
   "display_name": "Python 3",
   "language": "python",
   "name": "python3"
  },
  "language_info": {
   "codemirror_mode": {
    "name": "ipython",
    "version": 3
   },
   "file_extension": ".py",
   "mimetype": "text/x-python",
   "name": "python",
   "nbconvert_exporter": "python",
   "pygments_lexer": "ipython3",
   "version": "3.5.2"
  },
  "nikola": {
   "category": "dev",
   "date": "2017-10-29 15:45:16 UTC+09:00",
   "description": "구글 콜래보래토리 소개",
   "link": "",
   "slug": "google-colaboratory-intro",
   "tags": "google, jupyter, colaboratory",
   "title": "구글 콜래보래토리 소개",
   "type": "text"
  }
 },
 "nbformat": 4,
 "nbformat_minor": 1
}
