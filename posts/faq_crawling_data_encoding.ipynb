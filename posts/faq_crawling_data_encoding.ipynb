{
 "cells": [
  {
   "cell_type": "markdown",
   "metadata": {
    "deletable": true,
    "editable": true,
    "slideshow": {
     "slide_type": "slide"
    }
   },
   "source": [
    "<img src=\"http://i.imgur.com/BsJa7RR.png\" >\n",
    "\n",
    "# [FAQ] - 크롤링 데이터의 한글이 깨져요\n",
    "\n",
    "* Q: 데이터를 크롤링하는데 한글이 외계어로 표시 됩니다\n",
    "* A: 대부분의 경우 한글 인코딩의 문제 입니다. decode('euc-kr') 시도해 보세요.\n",
    "\n",
    "<!-- TEASER_END -->"
   ]
  },
  {
   "cell_type": "markdown",
   "metadata": {
    "deletable": true,
    "editable": true,
    "slideshow": {
     "slide_type": "slide"
    }
   },
   "source": [
    "데이터를 크롤링할 때 한글 데이터가 깨지는 경우가 있다. 다양한 경우가 있지만, 가장 많은 경우가 euc-kr 인코딩된 한글 바이트 문자열 데이터를 그대로 사용하려는 경우이다. 이 경우로 euc-kr 인코딩을 utf-8 인코딩으로 바꾸어 주면 해결 된다.\n",
    "\n",
    "예를 들어, 데이터를 수집했는데 아래와 같이 데이터가 표시 되는 경우이다.\n",
    "\n",
    "```python\n",
    "b'\\xc4\\xda\\xbd\\xba\\xc7\\xc7\\xc1\\xf6\\xbc\\xf6'\n",
    "```\n",
    "\n",
    "b로 시작되는 것으로 바이트 나열(byte sequence)라는 의미이며, \\x00 모양의 데이터는 1바이트의 16진수 값을 표시한다. 이 데이터가 euc-kr 로 인코딩된 한글이라면 다음과 같이 decode('euc-kr') 함수를 사용해서 유니코드 문자열로 바꿀 수 있다."
   ]
  },
  {
   "cell_type": "code",
   "execution_count": 1,
   "metadata": {
    "collapsed": false,
    "deletable": true,
    "editable": true,
    "slideshow": {
     "slide_type": "slide"
    }
   },
   "outputs": [
    {
     "data": {
      "text/plain": [
       "(bytes, b'\\xc4\\xda\\xbd\\xba\\xc7\\xc7\\xc1\\xf6\\xbc\\xf6')"
      ]
     },
     "execution_count": 1,
     "metadata": {},
     "output_type": "execute_result"
    }
   ],
   "source": [
    "s = b'\\xc4\\xda\\xbd\\xba\\xc7\\xc7\\xc1\\xf6\\xbc\\xf6'\n",
    "type(s), s "
   ]
  },
  {
   "cell_type": "code",
   "execution_count": 2,
   "metadata": {
    "collapsed": false,
    "deletable": true,
    "editable": true,
    "slideshow": {
     "slide_type": "-"
    }
   },
   "outputs": [
    {
     "data": {
      "text/plain": [
       "(str, '코스피지수')"
      ]
     },
     "execution_count": 2,
     "metadata": {},
     "output_type": "execute_result"
    }
   ],
   "source": [
    "u = s.decode('euc-kr')\n",
    "type(u), u"
   ]
  },
  {
   "cell_type": "markdown",
   "metadata": {
    "deletable": true,
    "editable": true,
    "slideshow": {
     "slide_type": "slide"
    }
   },
   "source": [
    "다량의 데이터라면 아래와 같이 변환한다."
   ]
  },
  {
   "cell_type": "code",
   "execution_count": 3,
   "metadata": {
    "collapsed": false,
    "deletable": true,
    "editable": true,
    "slideshow": {
     "slide_type": "-"
    }
   },
   "outputs": [
    {
     "name": "stdout",
     "output_type": "stream",
     "text": [
      "K200인덱스\n",
      "일반주식\n",
      "배당주식\n",
      "중소형주식\n"
     ]
    }
   ],
   "source": [
    "arr = [\n",
    "    b'K200\\xc0\\xce\\xb5\\xa6\\xbd\\xba',\n",
    "    b'\\xc0\\xcf\\xb9\\xdd\\xc1\\xd6\\xbd\\xc4',\n",
    "    b'\\xb9\\xe8\\xb4\\xe7\\xc1\\xd6\\xbd\\xc4',\n",
    "    b'\\xc1\\xdf\\xbc\\xd2\\xc7\\xfc\\xc1\\xd6\\xbd\\xc4',\n",
    "]\n",
    "\n",
    "for i in arr:\n",
    "    print(i.decode('euc-kr'))"
   ]
  },
  {
   "cell_type": "markdown",
   "metadata": {
    "deletable": true,
    "editable": true,
    "slideshow": {
     "slide_type": "slide"
    }
   },
   "source": [
    "# Python2 와 Python3 에서 유니코드\n",
    "\n",
    "Python 2.x 에서 str과 unicode는 서로 다르다. 이 때문에 str의 인코딩 처리와 unicode 변환이 상당히 번거롭다.\n",
    "\n",
    "```python\n",
    ">>> s = \"한글ABC\"\n",
    ">>> u = u\"한글ABC\"\n",
    ">>> type(s), len(s)\n",
    "(<type 'str'>, 9)\n",
    ">>> type(u), len(u)\n",
    "(<type 'unicode'>, 5)\n",
    ">>> s == u\n",
    "False\n",
    "```\n",
    "\n",
    "Python3는 모든 문자열을 유니코드(unicode)로 처리하기 때문에 str과 unicode가 완전히 동일하다.\n",
    "위와 동일한 코드를 Python3에서 실행한 결과이다.\n",
    "\n",
    "```python\n",
    ">>> s = \"한글ABC\"\n",
    ">>> u = u\"한글ABC\"\n",
    ">>> type(s), len(s)\n",
    "(<class 'str'>, 5)\n",
    ">>> type(u), len(u)\n",
    "(<class 'str'>, 5)\n",
    ">>> s == u\n",
    "True\n",
    "```\n",
    "\n",
    "반드시 Python2를 써야만 하는 상황이 아니라면 가급적 Python3를 쓰는 것이 좋다."
   ]
  },
  {
   "cell_type": "markdown",
   "metadata": {
    "deletable": true,
    "editable": true,
    "slideshow": {
     "slide_type": "slide"
    }
   },
   "source": [
    "# EUC-KR 그리고 UTF-8\n",
    "한글 인코딩과 관련해서 알아 둘만한 인코딩은 크게 4가지 정도(EUC-KR, CP949, UTF-8, UTF-16) 이다.\n",
    "\n",
    "\n",
    "인코딩 | 주요핵심 | 상세설명(위키피디어)\n",
    "-- | -- | --\n",
    "EUC-KR | 한글 완성형 | https://ko.wikipedia.org/wiki/EUC-KR\n",
    "CP949  | 한글 완성형 (마이크로소프트사) | https://ko.wikipedia.org/wiki/CP949\n",
    "UTF-8    | 유니코드 8비트 (한글 1글자에 3바이트) | https://ko.wikipedia.org/wiki/UTF-8\n",
    "UTF-16  | 유니코드 16비트 (한글 1글자에 2바이트) |  https://ko.wikipedia.org/wiki/UTF-16\n",
    "\n",
    "동일한 문자열도 다른 값으로 인코딩에 따라 다른 값을 갖는다.\n",
    "\n",
    "```python\n",
    ">>> '아름다운'.encode('euc-kr')\n",
    "b'\\xbe\\xc6\\xb8\\xa7\\xb4\\xd9\\xbf\\xee'\n",
    ">>> '아름다운'.encode('cp949')\n",
    "b'\\xbe\\xc6\\xb8\\xa7\\xb4\\xd9\\xbf\\xee'\n",
    ">>> '아름다운'.encode('utf-8')\n",
    "b'\\xec\\x95\\x84\\xeb\\xa6\\x84\\xeb\\x8b\\xa4\\xec\\x9a\\xb4'\n",
    ">>> '아름다운'.encode('utf-16')\n",
    "b'\\xff\\xfeD\\xc5\\x84\\xb9\\xe4\\xb2\\xb4\\xc6'\n",
    "\n",
    "# 참고: utf-16의 시작 2바이트(0xFF 0xFE)는 BOM (Byte Order Mark)  https://ko.wikipedia.org/wiki/바이트_순서_표식\n",
    "```\n",
    "\n",
    "각 인코딩의 주요한 핵심을 간단히 설명하면 아래와 같다.\n",
    "* EUC-KR은 한글 완성형 인코딩으로 국내 사이트의 상당수가 EUC-KR 인코딩을 사용하고 있다.\n",
    "* CP949는 EUC-KR와 동일한 한글 완성형 인코딩이지만, EUC-KR 보다 확장된 문자 집합을 가지고 있다. 마이크로소프트가 제정하였으며, 주로 윈도우에서 사용한다.\n",
    "* UTF-8과 UTF-16은 둘 다 유니코드 인코딩이다. 각각 UTF-8는 8비트 단위로 인코딩하며 한글 1자는 3바이트, 영문자 1자는 1바이트로 표현한다. 자리수는 많이 차지하지만 영문자와 섞어 쓸 때 혹은 특수 문자 사용이 제한적인 인터넷 환경(예: URL)에서 가장 문제가 적다.\n",
    "\n",
    "#### 가급적 UTF-8 인코딩을 사용하도록 권한다. (데이터 파일, 데이터 송수신, 파이썬 소스 프로그램 등 모두)"
   ]
  },
  {
   "cell_type": "markdown",
   "metadata": {
    "deletable": true,
    "editable": true,
    "slideshow": {
     "slide_type": "slide"
    }
   },
   "source": [
    "# 인코딩 알아내기\n",
    "여러 데이터 소스로 부터 데이터를 가져오는 경우 (혹은 텍스트 인코딩이 한가지로 지정되지 않는 데이터인 경우) 인코딩을 추정하는 방법이 있다.\n",
    "\n",
    "chardet.detect (data) 를 함수를 사용하면 data의 인코딩을 추정해 준다.  "
   ]
  },
  {
   "cell_type": "code",
   "execution_count": 4,
   "metadata": {
    "collapsed": false,
    "deletable": true,
    "editable": true,
    "slideshow": {
     "slide_type": "-"
    }
   },
   "outputs": [
    {
     "name": "stdout",
     "output_type": "stream",
     "text": [
      "b'\\xbe\\xc6\\xb8\\xa7\\xb4\\xd9\\xbf\\xee \\xc7\\xd1\\xb1\\xdb'\n",
      "{'confidence': 0.99, 'encoding': 'EUC-KR'}\n"
     ]
    }
   ],
   "source": [
    "import chardet\n",
    "\n",
    "euc_data = '아름다운 한글'.encode('euc-kr')\n",
    "print( euc_data )\n",
    "\n",
    "# 인코딩 알아내기\n",
    "print (chardet.detect (euc_data))"
   ]
  },
  {
   "cell_type": "code",
   "execution_count": 5,
   "metadata": {
    "collapsed": false,
    "deletable": true,
    "editable": true,
    "slideshow": {
     "slide_type": "-"
    }
   },
   "outputs": [
    {
     "name": "stdout",
     "output_type": "stream",
     "text": [
      "b'\\xec\\x95\\x84\\xeb\\xa6\\x84\\xeb\\x8b\\xa4\\xec\\x9a\\xb4 \\xed\\x95\\x9c\\xea\\xb8\\x80'\n",
      "{'confidence': 0.99, 'encoding': 'utf-8'}\n"
     ]
    }
   ],
   "source": [
    "euc_data = '아름다운 한글'.encode('utf-8')\n",
    "print( euc_data )\n",
    "\n",
    "# 인코딩 알아내기\n",
    "print (chardet.detect (euc_data))"
   ]
  },
  {
   "cell_type": "markdown",
   "metadata": {
    "deletable": true,
    "editable": true,
    "slideshow": {
     "slide_type": "-"
    }
   },
   "source": [
    "```python\n",
    "{'encoding': 'EUC-KR', 'confidence': 0.99}\n",
    "```\n",
    "\n",
    "결과에서 인코딩('encoding')은 EUC-KR로 추정하였으며 신뢰도(confidence)는 0.99 (99%)라는 의미이다."
   ]
  },
  {
   "cell_type": "markdown",
   "metadata": {
    "deletable": true,
    "editable": true,
    "slideshow": {
     "slide_type": "slide"
    }
   },
   "source": [
    "# 결론\n",
    "1. 파이썬2 보다 Python3 추천 (Python3는 자체가 유니코드 시스템)\n",
    "1. urllib2 보다 requests 추천 (더 적절하게 동작하며 사용도 편리)\n",
    "1. 데이터의 인코딩이 EUC-KR 이면, decode('euc-kr') 하여 유니코드로 디코딩 \n",
    "1. 데이터 저장, 송수신, 프로그램 소스 파일 모두 가능한 UTF-8로 통일"
   ]
  },
  {
   "cell_type": "markdown",
   "metadata": {
    "deletable": true,
    "editable": true,
    "slideshow": {
     "slide_type": "skip"
    }
   },
   "source": [
    "#### 2016, 2017 [facebook.com/financedata](https://facebook.com/financedata)"
   ]
  }
 ],
 "metadata": {
  "celltoolbar": "Slideshow",
  "kernelspec": {
   "display_name": "Python 3",
   "language": "python",
   "name": "python3"
  },
  "language_info": {
   "codemirror_mode": {
    "name": "ipython",
    "version": 3
   },
   "file_extension": ".py",
   "mimetype": "text/x-python",
   "name": "python",
   "nbconvert_exporter": "python",
   "pygments_lexer": "ipython3",
   "version": "3.5.2"
  },
  "nikola": {
   "category": "faq",
   "date": "2017-01-26 09:00:00 UTC+09:00",
   "description": "파이썬의 인코딩",
   "link": "",
   "slug": "faq_crawling_data_encoding",
   "tags": "faq, crawling, data, hangul, encoding",
   "title": "[FAQ] 크롤링 데이터의 한글이 깨져요",
   "type": "text"
  }
 },
 "nbformat": 4,
 "nbformat_minor": 2
}
