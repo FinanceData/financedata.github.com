{
 "cells": [
  {
   "cell_type": "markdown",
   "metadata": {
    "slideshow": {
     "slide_type": "slide"
    }
   },
   "source": [
    "# Matplotlib 한글 (Windows 아나콘다)\n",
    "\n",
    "<img src=\"http://i.imgur.com/Kvx2GHB.png\">\n",
    "\n",
    "* 사용가능한 폰트 확인, TTF 폰트 설치 방법\n",
    "* matplotlib 텍스트 출력시 폰트 특성을 지정 (FontProperties)\n",
    "* matplotlib 전역으로 한글 글꼴 지정(rcParams)\n",
    "\n",
    "### 2018 FinanceData.KR [http://facebook.com/financedata]()\n",
    "<!-- TEASER_END -->"
   ]
  },
  {
   "cell_type": "markdown",
   "metadata": {
    "slideshow": {
     "slide_type": "skip"
    }
   },
   "source": [
    "# 기본정보 확인\n",
    "* 운영체제 버전\n",
    "* 파이썬 버전\n",
    "* matplotlib 주요 설치 정보"
   ]
  },
  {
   "cell_type": "code",
   "execution_count": 1,
   "metadata": {
    "slideshow": {
     "slide_type": "slide"
    }
   },
   "outputs": [
    {
     "data": {
      "text/plain": [
       "'Windows-8.1-6.3.9600-SP0'"
      ]
     },
     "execution_count": 1,
     "metadata": {},
     "output_type": "execute_result"
    }
   ],
   "source": [
    "# 실행중인 운영체제 확인\n",
    "\n",
    "import platform\n",
    "platform.platform()"
   ]
  },
  {
   "cell_type": "code",
   "execution_count": 2,
   "metadata": {
    "slideshow": {
     "slide_type": "skip"
    }
   },
   "outputs": [
    {
     "data": {
      "text/plain": [
       "sys.version_info(major=3, minor=6, micro=3, releaselevel='final', serial=0)"
      ]
     },
     "execution_count": 2,
     "metadata": {},
     "output_type": "execute_result"
    }
   ],
   "source": [
    "# 파이썬 버전\n",
    "\n",
    "import sys\n",
    "sys.version_info"
   ]
  },
  {
   "cell_type": "code",
   "execution_count": 3,
   "metadata": {
    "slideshow": {
     "slide_type": "skip"
    }
   },
   "outputs": [
    {
     "name": "stdout",
     "output_type": "stream",
     "text": [
      "버전:  2.1.0\n",
      "설치위치:  C:\\Users\\Seung-June\\Anaconda3\\lib\\site-packages\\matplotlib\\__init__.py\n",
      "설정:  C:\\Users\\Seung-June\\.matplotlib\n",
      "캐시:  C:\\Users\\Seung-June\\.matplotlib\n"
     ]
    }
   ],
   "source": [
    "# matplotlib 주요 설치 정보\n",
    "\n",
    "import matplotlib\n",
    "\n",
    "print ('버전: ', matplotlib.__version__)\n",
    "print ('설치위치: ', matplotlib.__file__)\n",
    "print ('설정: ', matplotlib.get_configdir())\n",
    "print ('캐시: ', matplotlib.get_cachedir())"
   ]
  },
  {
   "cell_type": "markdown",
   "metadata": {
    "slideshow": {
     "slide_type": "slide"
    }
   },
   "source": [
    "# matplotlib 기본 설정"
   ]
  },
  {
   "cell_type": "code",
   "execution_count": 4,
   "metadata": {
    "slideshow": {
     "slide_type": "-"
    }
   },
   "outputs": [],
   "source": [
    "%matplotlib inline\n",
    "import matplotlib.pyplot as plt\n",
    "\n",
    "plt.rcParams[\"axes.grid\"] = True\n",
    "plt.rcParams[\"figure.figsize\"] = (14,4)"
   ]
  },
  {
   "cell_type": "markdown",
   "metadata": {
    "slideshow": {
     "slide_type": "slide"
    }
   },
   "source": [
    "# 한글이 포함된 간단한 차트"
   ]
  },
  {
   "cell_type": "code",
   "execution_count": 5,
   "metadata": {
    "slideshow": {
     "slide_type": "-"
    }
   },
   "outputs": [
    {
     "data": {
      "text/plain": [
       "array([   8,  -54, -109, -173, -101, -140, -103, -127, -122,  -64, -111,\n",
       "        -70,  -54,  -18,  -12,   63,  154,   60,  102,   37,   51,  100,\n",
       "        168,  178,  137,  189,  218,  140,  123,   50,    5,   26,  -21,\n",
       "       -108, -146, -153, -210, -218, -228, -295, -352, -284, -264, -273,\n",
       "       -223, -198, -135, -199, -256, -220], dtype=int32)"
      ]
     },
     "execution_count": 5,
     "metadata": {},
     "output_type": "execute_result"
    }
   ],
   "source": [
    "import numpy as np\n",
    "data = np.random.randint(-100, 100, 50).cumsum()\n",
    "data"
   ]
  },
  {
   "cell_type": "code",
   "execution_count": 6,
   "metadata": {
    "slideshow": {
     "slide_type": "subslide"
    }
   },
   "outputs": [
    {
     "data": {
      "text/plain": [
       "Text(0,0.5,'가격')"
      ]
     },
     "execution_count": 6,
     "metadata": {},
     "output_type": "execute_result"
    },
    {
     "data": {
      "image/png": "[encoded data removed]",
      "text/plain": [
       "<matplotlib.figure.Figure at 0x706c470>"
      ]
     },
     "metadata": {},
     "output_type": "display_data"
    }
   ],
   "source": [
    "plt.plot(range(50), data, 'r')\n",
    "plt.title('가격변동 추이')\n",
    "plt.ylabel('가격')"
   ]
  },
  {
   "cell_type": "markdown",
   "metadata": {
    "slideshow": {
     "slide_type": "-"
    }
   },
   "source": [
    "한글이 제대로 출력되지 않는 것을 확인할 수 있다"
   ]
  },
  {
   "cell_type": "markdown",
   "metadata": {
    "slideshow": {
     "slide_type": "slide"
    }
   },
   "source": [
    "# 폰트를 지정하는 두가지 방법"
   ]
  },
  {
   "cell_type": "markdown",
   "metadata": {
    "slideshow": {
     "slide_type": "-"
    }
   },
   "source": [
    "matplotlib에서 폰트를 지정하여 출력하는 하는 대표적인 방법은 크기 두 가지\n",
    "\n",
    "1. 텍스트 출력시 폰트 특성을 지정: FontProperties 속성으로 폰트 속성을 지정\n",
    "1. 전역으로 지정: rcParams 을 사용하여 전역으로 설정값을 지정"
   ]
  },
  {
   "cell_type": "markdown",
   "metadata": {
    "slideshow": {
     "slide_type": "subslide"
    }
   },
   "source": [
    "# 텍스트 출력시 폰트 특성을 지정\n",
    "\n",
    "텍스트를 출력하는 다음 함수들을 사용할 때, fontproperties 인자에 폰트를 지정할 수 있다.\n",
    "\n",
    "matplotlib.pyplot\n",
    "* title()\n",
    "* xlabel()\n",
    "* ylabel()\n",
    "* legend()\n",
    "* text()\n",
    "\n",
    "matplotlib.axes \n",
    "* set_title()\n",
    "\n",
    "예를 들어, 다음과 같이 텍스트와 폰트를 지정하여 출력할 수 있다.\n",
    "* plt.text(0, 0, \"Sample Text\", fontproperties=fontprop)"
   ]
  },
  {
   "cell_type": "markdown",
   "metadata": {
    "slideshow": {
     "slide_type": "subslide"
    }
   },
   "source": [
    "# 무료 한글폰트\n",
    "* https://brunch.co.kr/@jade/203 저작권 걱정없는 무료 한글폰트"
   ]
  },
  {
   "cell_type": "markdown",
   "metadata": {
    "slideshow": {
     "slide_type": "slide"
    }
   },
   "source": [
    "# 폰트 프로퍼티를 지정하여 사용"
   ]
  },
  {
   "cell_type": "code",
   "execution_count": 7,
   "metadata": {
    "slideshow": {
     "slide_type": "-"
    }
   },
   "outputs": [
    {
     "data": {
      "image/png": "[encoded data removed]",
      "text/plain": [
       "<matplotlib.figure.Figure at 0x70d1a70>"
      ]
     },
     "metadata": {},
     "output_type": "display_data"
    }
   ],
   "source": [
    "import matplotlib.pyplot as plt\n",
    "import matplotlib.font_manager as fm\n",
    "\n",
    "font_path = 'C:/Windows/Fonts/EBS훈민정음R.ttf'\n",
    "fontprop = fm.FontProperties(fname=font_path, size=18)\n",
    "\n",
    "plt.ylabel('가격', fontproperties=fontprop)\n",
    "plt.title('가격변동 추이', fontproperties=fontprop)\n",
    "plt.plot(range(50), data, 'r')\n",
    "plt.show()"
   ]
  },
  {
   "cell_type": "markdown",
   "metadata": {
    "slideshow": {
     "slide_type": "slide"
    }
   },
   "source": [
    "# 폰트를 각기 지정해서 사용하기"
   ]
  },
  {
   "cell_type": "code",
   "execution_count": 8,
   "metadata": {
    "slideshow": {
     "slide_type": "-"
    }
   },
   "outputs": [
    {
     "data": {
      "image/png": "[encoded data removed]",
      "text/plain": [
       "<matplotlib.figure.Figure at 0x71692f0>"
      ]
     },
     "metadata": {},
     "output_type": "display_data"
    }
   ],
   "source": [
    "# TTF폰트 파일을 직접 지정하는 방법 (나눔 펜 글씨)\n",
    "\n",
    "import matplotlib.pyplot as plt\n",
    "import matplotlib.font_manager as fm\n",
    "\n",
    "path_gothic = 'C:/Windows/Fonts/NanumMyeongjoExtraBold.ttf'\n",
    "fontprop1 = fm.FontProperties(fname=path_gothic, size=20)\n",
    "\n",
    "path_pen = 'C:/Windows/Fonts/NanumPen.ttf'\n",
    "fontprop2 = fm.FontProperties(fname=path_pen, size=34)\n",
    "\n",
    "plt.plot(range(50), data, 'r')\n",
    "plt.ylabel('가격', fontproperties=fontprop1)\n",
    "plt.title('가격변동 추이', fontproperties=fontprop2)\n",
    "plt.show()"
   ]
  },
  {
   "cell_type": "markdown",
   "metadata": {
    "slideshow": {
     "slide_type": "-"
    }
   },
   "source": [
    "폰트가 항상 'C:/Windows/Fonts'에 있어야만 하는 것은 아니다.\n",
    "\n",
    "ttf 폰트 파일을 복사해서 바로 사용할 수 도 있다. 현재 디렉토리에 malgun.ttf 파일을 복사하여 다음과 같이 ttf 파일을 지정하여 사용할  수 있다."
   ]
  },
  {
   "cell_type": "code",
   "execution_count": 9,
   "metadata": {
    "slideshow": {
     "slide_type": "subslide"
    }
   },
   "outputs": [
    {
     "data": {
      "image/png": "[encoded data removed]",
      "text/plain": [
       "<matplotlib.figure.Figure at 0x62d4990>"
      ]
     },
     "metadata": {},
     "output_type": "display_data"
    }
   ],
   "source": [
    "import matplotlib.font_manager as fm\n",
    "\n",
    "fontprop = fm.FontProperties(fname=\"malgun.ttf\", size=24)\n",
    "\n",
    "plt.title('맑은고딕 제목', fontproperties=fontprop)\n",
    "plt.plot(data)\n",
    "plt.show()"
   ]
  },
  {
   "cell_type": "markdown",
   "metadata": {
    "slideshow": {
     "slide_type": "slide"
    }
   },
   "source": [
    "# 전역 글꼴 설정: matplotlib.rcParams[]\n",
    "\n",
    "matplotlib.rcParams을 통해 matplotlib의 다양한 설정값을 읽거나 지정할 수 있다.\n",
    "\n",
    "https://matplotlib.org/users/customizing.html"
   ]
  },
  {
   "cell_type": "code",
   "execution_count": 10,
   "metadata": {
    "slideshow": {
     "slide_type": "skip"
    }
   },
   "outputs": [
    {
     "name": "stdout",
     "output_type": "stream",
     "text": [
      "10.0\n",
      "['sans-serif']\n"
     ]
    }
   ],
   "source": [
    "# 기본 설정 읽기\n",
    "import matplotlib.pyplot as plt\n",
    "\n",
    "# size, family\n",
    "print (plt.rcParams['font.size'] ) \n",
    "print (plt.rcParams['font.family'] )"
   ]
  },
  {
   "cell_type": "code",
   "execution_count": 11,
   "metadata": {
    "slideshow": {
     "slide_type": "-"
    }
   },
   "outputs": [
    {
     "name": "stdout",
     "output_type": "stream",
     "text": [
      "['DejaVu Serif', 'Bitstream Vera Serif', 'Computer Modern Roman', 'New Century Schoolbook', 'Century Schoolbook L', 'Utopia', 'ITC Bookman', 'Bookman', 'Nimbus Roman No9 L', 'Times New Roman', 'Times', 'Palatino', 'Charter', 'serif']\n",
      "['DejaVu Sans', 'Bitstream Vera Sans', 'Computer Modern Sans Serif', 'Lucida Grande', 'Verdana', 'Geneva', 'Lucid', 'Arial', 'Helvetica', 'Avant Garde', 'sans-serif']\n",
      "['DejaVu Sans Mono', 'Bitstream Vera Sans Mono', 'Computer Modern Typewriter', 'Andale Mono', 'Nimbus Mono L', 'Courier New', 'Courier', 'Fixed', 'Terminal', 'monospace']\n"
     ]
    }
   ],
   "source": [
    "# serif, sans-serif, monospace\n",
    "print (plt.rcParams['font.serif']) \n",
    "print (plt.rcParams['font.sans-serif']) \n",
    "print (plt.rcParams['font.monospace']) "
   ]
  },
  {
   "cell_type": "markdown",
   "metadata": {
    "slideshow": {
     "slide_type": "subslide"
    }
   },
   "source": [
    "폰트의 기본값들을 다음과 같이 설정할 수 있다"
   ]
  },
  {
   "cell_type": "code",
   "execution_count": 12,
   "metadata": {
    "slideshow": {
     "slide_type": "-"
    }
   },
   "outputs": [
    {
     "data": {
      "image/png": "[encoded data removed]",
      "text/plain": [
       "<matplotlib.figure.Figure at 0x73463d0>"
      ]
     },
     "metadata": {},
     "output_type": "display_data"
    }
   ],
   "source": [
    "import matplotlib.pyplot as plt\n",
    "\n",
    "plt.rcParams[\"font.family\"] = 'nanummyeongjo'\n",
    "plt.rcParams['axes.unicode_minus'] = False\n",
    "plt.rcParams['font.size'] = 24.\n",
    "plt.rcParams['xtick.labelsize'] = 12.\n",
    "plt.rcParams['ytick.labelsize'] = 12.\n",
    "plt.rcParams['axes.labelsize'] = 20.\n",
    "\n",
    "plt.title('가격의 변화')\n",
    "plt.plot(range(50), data, 'r')\n",
    "plt.show()"
   ]
  },
  {
   "cell_type": "markdown",
   "metadata": {
    "slideshow": {
     "slide_type": "-"
    }
   },
   "source": [
    "레이블에 '-'가 있는 경우 유니코드의 '-'문자를 그대로 출력하면 '-' 부호만 깨져 보인다. 이를 방지하기 위해 'axes.unicode_minus' 옵션을 False로 지정한다."
   ]
  },
  {
   "cell_type": "markdown",
   "metadata": {
    "slideshow": {
     "slide_type": "subslide"
    }
   },
   "source": [
    "# TTF 파일에서 font.family 이름 얻어 전역 설정\n",
    "\"font.family\"에 지정할 이름을 .ttf 파일로 부터 얻을 수 있다"
   ]
  },
  {
   "cell_type": "code",
   "execution_count": 13,
   "metadata": {
    "slideshow": {
     "slide_type": "-"
    }
   },
   "outputs": [
    {
     "name": "stdout",
     "output_type": "stream",
     "text": [
      "NanumGothic\n"
     ]
    }
   ],
   "source": [
    "from matplotlib import font_manager\n",
    "\n",
    "font_fname = 'C:/Windows/Fonts/NanumGothic.ttf'\n",
    "font_family = font_manager.FontProperties(fname=font_fname).get_name()\n",
    "\n",
    "print(font_family)"
   ]
  },
  {
   "cell_type": "code",
   "execution_count": 14,
   "metadata": {
    "collapsed": true,
    "slideshow": {
     "slide_type": "subslide"
    }
   },
   "outputs": [],
   "source": [
    "import matplotlib.pyplot as plt\n",
    "from matplotlib import font_manager\n",
    "\n",
    "font_fname = 'C:/Windows/Fonts/NanumGothic.ttf'\n",
    "font_family = font_manager.FontProperties(fname=font_fname).get_name()\n",
    "\n",
    "plt.rcParams[\"font.family\"] = font_family"
   ]
  },
  {
   "cell_type": "markdown",
   "metadata": {
    "slideshow": {
     "slide_type": "slide"
    }
   },
   "source": [
    "# matplotlib에 새로운 폰트를 추가하기\n",
    "\n",
    "1. .ttf 폰트를 matplotlib으로 복사한다 <br>(아나콘다를 사용하는 경우 보통 아래 디렉토리이다. Seung-June는 사용자 이름)\n",
    "```bash\n",
    "C:\\Users\\Seung-June\\Anaconda3\\Lib\\site-packages\\matplotlib\\mpl-data\\fonts\\ttffonts\\ttf\n",
    "```\n",
    "1. matplotlib cache 폴더의 내용 삭제한다\n",
    "1. 커널 재시작(주피터 노트북 재시작)"
   ]
  },
  {
   "cell_type": "markdown",
   "metadata": {
    "slideshow": {
     "slide_type": "slide"
    }
   },
   "source": [
    "# (참고) 시스템에 설치된 글꼴 확인"
   ]
  },
  {
   "cell_type": "code",
   "execution_count": 15,
   "metadata": {
    "slideshow": {
     "slide_type": "-"
    }
   },
   "outputs": [
    {
     "name": "stdout",
     "output_type": "stream",
     "text": [
      "사용가능한 TTF 폰트 개수: 889\n"
     ]
    },
    {
     "data": {
      "text/plain": [
       "['C:\\\\Windows\\\\Fonts\\\\tradbdo.ttf',\n",
       " 'c:\\\\windows\\\\fonts\\\\tunga.ttf',\n",
       " 'C:\\\\Windows\\\\Fonts\\\\upcfb.ttf',\n",
       " 'C:\\\\Windows\\\\Fonts\\\\BOOKOS.TTF',\n",
       " 'C:\\\\Windows\\\\Fonts\\\\ENPKAV.TTF',\n",
       " 'C:\\\\Windows\\\\Fonts\\\\HMKMS.TTF',\n",
       " 'C:\\\\Windows\\\\Fonts\\\\msyi.ttf',\n",
       " 'c:\\\\windows\\\\fonts\\\\ebs훈민정음r.ttf',\n",
       " 'c:\\\\windows\\\\fonts\\\\ens721li.ttf',\n",
       " 'C:\\\\Windows\\\\Fonts\\\\vrinda.ttf']"
      ]
     },
     "execution_count": 15,
     "metadata": {},
     "output_type": "execute_result"
    }
   ],
   "source": [
    "# 사용가능한 시스템의 TTF 폰트 목록\n",
    "import matplotlib.font_manager as font_manager\n",
    "\n",
    "font_list = font_manager.findSystemFonts(fontpaths=None, fontext='ttf')\n",
    "\n",
    "print('사용가능한 TTF 폰트 개수:', len(font_list))\n",
    "font_list[:10] # 목록에서 처음 10 개만 보기"
   ]
  },
  {
   "cell_type": "code",
   "execution_count": 16,
   "metadata": {
    "slideshow": {
     "slide_type": "subslide"
    }
   },
   "outputs": [
    {
     "data": {
      "text/plain": [
       "'C:\\\\Users\\\\Seung-June\\\\.matplotlib'"
      ]
     },
     "execution_count": 16,
     "metadata": {},
     "output_type": "execute_result"
    }
   ],
   "source": [
    "# 참고) matplotlib cache 위치를  확인하는 방법\n",
    "\n",
    "matplotlib.get_cachedir()"
   ]
  },
  {
   "cell_type": "code",
   "execution_count": 17,
   "metadata": {
    "slideshow": {
     "slide_type": "-"
    }
   },
   "outputs": [
    {
     "data": {
      "text/plain": [
       "'C:\\\\Users\\\\Seung-June\\\\Anaconda3\\\\lib\\\\site-packages\\\\matplotlib\\\\mpl-data\\\\matplotlibrc'"
      ]
     },
     "execution_count": 17,
     "metadata": {},
     "output_type": "execute_result"
    }
   ],
   "source": [
    "# matplotlib 설정 파일의 위치\n",
    "\n",
    "matplotlib.matplotlib_fname()"
   ]
  },
  {
   "cell_type": "markdown",
   "metadata": {
    "slideshow": {
     "slide_type": "notes"
    }
   },
   "source": [
    "----\n",
    "### 2018 FinanceData.KR [http://financedata.github.com]() , [http://fb.com/financedata]()"
   ]
  }
 ],
 "metadata": {
  "kernelspec": {
   "display_name": "Python 3",
   "language": "python",
   "name": "python3"
  },
  "language_info": {
   "codemirror_mode": {
    "name": "ipython",
    "version": 3
   },
   "file_extension": ".py",
   "mimetype": "text/x-python",
   "name": "python",
   "nbconvert_exporter": "python",
   "pygments_lexer": "ipython3",
   "version": "3.5.2"
  },
  "nikola": {
   "category": "dev",
   "date": "2018-04-20 02:45:10 UTC+09:00",
   "description": "Matplotlib 에서 한글 (Windows 아나콘다)",
   "link": "",
   "slug": "matplotlib-hangul-for-windows-anaconda",
   "tags": "matplotlib,한글,Windows,아나콘다",
   "title": "matplotlib + (Windows 아나콘다)",
   "type": "text"
  }
 },
 "nbformat": 4,
 "nbformat_minor": 2
}
