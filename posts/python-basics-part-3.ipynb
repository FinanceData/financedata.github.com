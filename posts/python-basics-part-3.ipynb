{
 "cells": [
  {
   "cell_type": "markdown",
   "metadata": {
    "slideshow": {
     "slide_type": "slide"
    }
   },
   "source": [
    "# Python Basics for Data Science - PART 3\n",
    "( 파이낸스 데이터 사이언스를 위한 파이썬 언어 기초 )\n",
    "\n",
    "### 자료구조: 리스트, 튜플, 딕셔너리\n",
    "\n",
    "\n",
    "<img width=\"300\" src=\"http://i.imgur.com/tHmNhjm.png\" >\n",
    "\n",
    "\n",
    "#### 2017 FinanceData http://fb.com/financedata\n",
    "<!-- TEASER_END -->"
   ]
  },
  {
   "cell_type": "markdown",
   "metadata": {
    "slideshow": {
     "slide_type": "subslide"
    }
   },
   "source": [
    "## 자료구조 \n",
    "\n",
    "* 리스트 (list)\n",
    "* 튜플 (tuple)\n",
    "* 딕셔너리 (dict)"
   ]
  },
  {
   "cell_type": "markdown",
   "metadata": {
    "slideshow": {
     "slide_type": "slide"
    }
   },
   "source": [
    "## 리스트 (list)\n",
    "\n",
    "[] 대괄호로 표현한다 (bracket 브라켓이라고 읽는다) \n",
    "\n",
    "리스트는 문자열과 매우 유사하다. 각 요소는 어떤 객체여도 상관없다. 심지어 리스트로 하나의 요소가 될 수 있다.\n",
    "예를 들어, \n",
    "\n",
    "```python\n",
    "ls = ['hello', 10, 20, [1, 2, 3]]\n",
    "```"
   ]
  },
  {
   "cell_type": "code",
   "execution_count": 1,
   "metadata": {
    "slideshow": {
     "slide_type": "-"
    }
   },
   "outputs": [
    {
     "data": {
      "text/plain": [
       "list"
      ]
     },
     "execution_count": 1,
     "metadata": {},
     "output_type": "execute_result"
    }
   ],
   "source": [
    "type([])"
   ]
  },
  {
   "cell_type": "code",
   "execution_count": 2,
   "metadata": {
    "slideshow": {
     "slide_type": "slide"
    }
   },
   "outputs": [
    {
     "name": "stdout",
     "output_type": "stream",
     "text": [
      "<class 'list'>\n",
      "삼성전자\n"
     ]
    }
   ],
   "source": [
    "# 리스트\n",
    "stocks = ['삼성전자', '현대차', '네이버' ]\n",
    "\n",
    "print(type(stocks))\n",
    "print(stocks[0])"
   ]
  },
  {
   "cell_type": "code",
   "execution_count": 3,
   "metadata": {
    "slideshow": {
     "slide_type": "-"
    }
   },
   "outputs": [
    {
     "name": "stdout",
     "output_type": "stream",
     "text": [
      "['삼성전자', '현대차', 'NAVER']\n"
     ]
    }
   ],
   "source": [
    "# 요소 값 변경\n",
    "\n",
    "stocks[2] = 'NAVER'\n",
    "print(stocks)"
   ]
  },
  {
   "cell_type": "code",
   "execution_count": 4,
   "metadata": {
    "slideshow": {
     "slide_type": "slide"
    }
   },
   "outputs": [
    {
     "name": "stdout",
     "output_type": "stream",
     "text": [
      "['삼성전자', '현대차', 'NAVER', '한국전력', '현대모비스']\n"
     ]
    }
   ],
   "source": [
    "# 리스트에 추가\n",
    "\n",
    "stocks = ['삼성전자', '현대차', 'NAVER' ]\n",
    "stocks.append('한국전력')\n",
    "stocks.append('현대모비스')\n",
    "\n",
    "print(stocks)"
   ]
  },
  {
   "cell_type": "code",
   "execution_count": 5,
   "metadata": {
    "slideshow": {
     "slide_type": "slide"
    }
   },
   "outputs": [
    {
     "name": "stdout",
     "output_type": "stream",
     "text": [
      "['삼성전자', '현대차', 'NAVER']\n",
      "['NAVER']\n",
      "['현대모비스']\n",
      "현대모비스\n"
     ]
    }
   ],
   "source": [
    "# 리스트 슬라이싱 (0부터 시작,  n-1)\n",
    "stocks = ['삼성전자', '현대차', 'NAVER', '한국전력', '현대모비스']\n",
    "\n",
    "print(stocks[0:3])\n",
    "print(stocks[2:3])\n",
    "print(stocks[4:])\n",
    "print(stocks[-1])"
   ]
  },
  {
   "cell_type": "code",
   "execution_count": 6,
   "metadata": {
    "slideshow": {
     "slide_type": "slide"
    }
   },
   "outputs": [
    {
     "name": "stdout",
     "output_type": "stream",
     "text": [
      "['삼성전자', '현대차', 'NAVER', '한국전력', '현대모비스']\n",
      "1\n",
      "['삼성전자', 'SK하이닉스', '현대차', 'NAVER', '한국전력', '현대모비스']\n",
      "['삼성전자', 'SK하이닉스', '현대차', 'NAVER', '한국전력']\n"
     ]
    }
   ],
   "source": [
    "관심종목 =  ['삼성전자', '현대차', 'NAVER', '한국전력', '현대모비스']\n",
    "print(관심종목)\n",
    "\n",
    "# 요소 위치(index) 얻기\n",
    "print(관심종목.index('현대차'))\n",
    "\n",
    "# 요소 삽입(insert)\n",
    "관심종목.insert(1, 'SK하이닉스')\n",
    "print(관심종목)\n",
    "\n",
    "# 요소 삭제(remove)\n",
    "관심종목.remove('현대모비스')\n",
    "print(관심종목)"
   ]
  },
  {
   "cell_type": "code",
   "execution_count": 7,
   "metadata": {
    "slideshow": {
     "slide_type": "slide"
    }
   },
   "outputs": [
    {
     "name": "stdout",
     "output_type": "stream",
     "text": [
      "삼성전자\n",
      "SK하이닉스\n",
      "현대차\n",
      "NAVER\n",
      "한국전력\n"
     ]
    }
   ],
   "source": [
    "for 종목 in 관심종목:\n",
    "    print(종목)"
   ]
  },
  {
   "cell_type": "markdown",
   "metadata": {
    "slideshow": {
     "slide_type": "slide"
    }
   },
   "source": [
    "리스트를 소트(sort) 할 수 있다. reverse 인자를 True로 주면 역순으로 소트한다."
   ]
  },
  {
   "cell_type": "code",
   "execution_count": 8,
   "metadata": {
    "slideshow": {
     "slide_type": "-"
    }
   },
   "outputs": [
    {
     "name": "stdout",
     "output_type": "stream",
     "text": [
      "['삼성전자', 'SK하이닉스', '현대차', 'NAVER', '한국전력']\n",
      "['현대차', '한국전력', '삼성전자', 'SK하이닉스', 'NAVER']\n"
     ]
    }
   ],
   "source": [
    "print(관심종목)\n",
    "\n",
    "관심종목.sort(reverse=True)\n",
    "print(관심종목)"
   ]
  },
  {
   "cell_type": "code",
   "execution_count": 9,
   "metadata": {
    "slideshow": {
     "slide_type": "slide"
    }
   },
   "outputs": [
    {
     "name": "stdout",
     "output_type": "stream",
     "text": [
      "[0, 1, 2, 3, 4]\n",
      "[2, 3]\n",
      "[2, 3, 4]\n",
      "[0, 1]\n",
      "[0, 1, 2, 3, 4]\n",
      "[0, 1, 2, 3]\n"
     ]
    }
   ],
   "source": [
    "nums = list(range(5) )\n",
    "print (nums)\n",
    "print (nums[2:4])\n",
    "print (nums[2:]) # 끝까지\n",
    "print (nums[:2])\n",
    "print (nums[:])\n",
    "print (nums[:-1]) # 마지막을 제외하고 전체 "
   ]
  },
  {
   "cell_type": "code",
   "execution_count": 10,
   "metadata": {
    "slideshow": {
     "slide_type": "slide"
    }
   },
   "outputs": [
    {
     "name": "stdout",
     "output_type": "stream",
     "text": [
      "0 A\n",
      "1 B\n",
      "2 C\n",
      "3 D\n",
      "4 E\n"
     ]
    }
   ],
   "source": [
    "#루프에 인덱스 숫자 매기기 (enumerate)\n",
    "\n",
    "lst = ['A', 'B', 'C', 'D', 'E']\n",
    "for i, item in enumerate(lst):\n",
    "    print (i, item)"
   ]
  },
  {
   "cell_type": "code",
   "execution_count": 11,
   "metadata": {
    "slideshow": {
     "slide_type": "slide"
    }
   },
   "outputs": [
    {
     "name": "stdout",
     "output_type": "stream",
     "text": [
      "['삼성전자', 'SK하이닉스', '현대차', 'NAVER', '한국전력']\n",
      "['삼성전자', 'SK하이닉스', '현대차', 'NAVER', '한국전력', '아모레퍼시픽']\n"
     ]
    }
   ],
   "source": [
    "# 리스트는 덧셈으로 간단하게 병합(merge)할 수 있다.\n",
    "\n",
    "관심종목01 = ['삼성전자', 'SK하이닉스']\n",
    "관심종목02 = ['현대차', 'NAVER', '한국전력']\n",
    "관심종목 = 관심종목01 + 관심종목02\n",
    "print(관심종목)\n",
    "\n",
    "관심종목 += ['아모레퍼시픽']\n",
    "print(관심종목)"
   ]
  },
  {
   "cell_type": "markdown",
   "metadata": {
    "slideshow": {
     "slide_type": "slide"
    }
   },
   "source": [
    "# 튜플 (tuple)\n",
    "\n",
    "튜플: 요소의 값을 변경할 수 없다(immutable)는 점만 제외하고 리스트와 완전히 동일하다.\n",
    "\n",
    "마치 괄호로 만들어지는 것 처럼 보이지만 ',' 로 만들어진다 "
   ]
  },
  {
   "cell_type": "code",
   "execution_count": 12,
   "metadata": {
    "slideshow": {
     "slide_type": "-"
    }
   },
   "outputs": [
    {
     "name": "stdout",
     "output_type": "stream",
     "text": [
      "(1, 2, 3, 4)\n",
      "<class 'tuple'>\n",
      "2\n"
     ]
    }
   ],
   "source": [
    "t = 1, 2, 3, 4\n",
    "\n",
    "print(t)\n",
    "print(type(t))\n",
    "print(t[1])"
   ]
  },
  {
   "cell_type": "markdown",
   "metadata": {
    "slideshow": {
     "slide_type": "slide"
    }
   },
   "source": [
    "튜플은 리스트와 사용법은 같다. 단, 튜플이 한번 만들어지면 요소의 값을 바꾸거나 추가  혹은 삭제할 수 없다.\n",
    "\n",
    "```python\n",
    "t = (1, 2, 3, 4)\n",
    "\n",
    "t[0] = 10 # 에러 발생\n",
    "del t[0]  # 에러 발생\n",
    "```"
   ]
  },
  {
   "cell_type": "markdown",
   "metadata": {
    "slideshow": {
     "slide_type": "slide"
    }
   },
   "source": [
    "# 딕셔너리 (dict)\n",
    "\n",
    "{} 중괄호 (brace, 브레이스라고 읽는다)로 표현한다.\n",
    "하나의 요소는 '키:값' 으로 표현한다."
   ]
  },
  {
   "cell_type": "code",
   "execution_count": 13,
   "metadata": {
    "slideshow": {
     "slide_type": "-"
    }
   },
   "outputs": [
    {
     "data": {
      "text/plain": [
       "dict"
      ]
     },
     "execution_count": 13,
     "metadata": {},
     "output_type": "execute_result"
    }
   ],
   "source": [
    "type({})"
   ]
  },
  {
   "cell_type": "code",
   "execution_count": 14,
   "metadata": {
    "slideshow": {
     "slide_type": "-"
    }
   },
   "outputs": [
    {
     "name": "stdout",
     "output_type": "stream",
     "text": [
      "{'NAVER': '035420', '현대차': '005380', 'SK하이닉스': '000660', '삼성전자': '005930'}\n",
      "{'NAVER': '035420', 'SK하이닉스': '000660', '삼성전자': '005930'}\n"
     ]
    }
   ],
   "source": [
    "stocks = {'삼성전자' : '005930', 'SK하이닉스' : '000660', '현대차' : '005380'}\n",
    "\n",
    "# 추가\n",
    "stocks['NAVER'] = '035420' \n",
    "print(stocks)\n",
    "\n",
    "# 삭제\n",
    "del stocks['현대차']\n",
    "print(stocks)"
   ]
  },
  {
   "cell_type": "markdown",
   "metadata": {
    "slideshow": {
     "slide_type": "slide"
    }
   },
   "source": [
    "키(key)와 값(value)는 무엇이든 될 수 있다."
   ]
  },
  {
   "cell_type": "code",
   "execution_count": 15,
   "metadata": {
    "slideshow": {
     "slide_type": "-"
    }
   },
   "outputs": [
    {
     "data": {
      "text/plain": [
       "{(1, 0, 4): 'AAPL'}"
      ]
     },
     "execution_count": 15,
     "metadata": {},
     "output_type": "execute_result"
    }
   ],
   "source": [
    "# 키는 (1,0,4) 튜플, 값은  'AAPL' 문자열\n",
    "dic = { (1,0,4) : 'AAPL' }\n",
    "dic"
   ]
  },
  {
   "cell_type": "code",
   "execution_count": 16,
   "metadata": {
    "slideshow": {
     "slide_type": "slide"
    }
   },
   "outputs": [
    {
     "name": "stdout",
     "output_type": "stream",
     "text": [
      "삼성전자 15.17\n",
      "시가총액 2919096 (억원)\n"
     ]
    }
   ],
   "source": [
    "stock = {\n",
    "    'name': '삼성전자',\n",
    "    'market': '코스피',\n",
    "    'close': [\n",
    "        ('2017-03-15', 2070000),\n",
    "        ('2017-03-14', 2068000),\n",
    "        ('2017-03-13', 2030000),\n",
    "    ],\n",
    "    'market-cap': 2919096,\n",
    "    'PER': 15.17,\n",
    "}\n",
    "\n",
    "print (stock['name'], stock['PER'])\n",
    "print (\"시가총액 %d (억원)\" % stock['market-cap'])"
   ]
  },
  {
   "cell_type": "code",
   "execution_count": 17,
   "metadata": {
    "slideshow": {
     "slide_type": "-"
    }
   },
   "outputs": [
    {
     "name": "stdout",
     "output_type": "stream",
     "text": [
      "날짜: 2017-03-15, 종가: 2070000\n",
      "날짜: 2017-03-14, 종가: 2068000\n",
      "날짜: 2017-03-13, 종가: 2030000\n"
     ]
    }
   ],
   "source": [
    "for p in stock['close']:\n",
    "    print( \"날짜: %s, 종가: %d\"% p)"
   ]
  },
  {
   "cell_type": "code",
   "execution_count": 18,
   "metadata": {
    "collapsed": true,
    "slideshow": {
     "slide_type": "slide"
    }
   },
   "outputs": [],
   "source": [
    "# 딕셔너리는 순서를 보장하지 않는다. (추가한 순서대로  보여지지 않는다)\n",
    "\n",
    "corps = {}\n",
    "corps['AAPL'] = 'AAPL Apple Inc.'\n",
    "corps['GOOGL'] = 'Alphabet Inc.'\n",
    "corps['GOOG'] = 'Alphabet Inc.'\n",
    "corps['MSFT'] = 'Microsoft Corporation'\n",
    "corps['AMZN'] = 'Amazon.com, Inc.'"
   ]
  },
  {
   "cell_type": "code",
   "execution_count": 19,
   "metadata": {
    "slideshow": {
     "slide_type": "-"
    }
   },
   "outputs": [
    {
     "data": {
      "text/plain": [
       "{'AAPL': 'AAPL Apple Inc.',\n",
       " 'AMZN': 'Amazon.com, Inc.',\n",
       " 'GOOG': 'Alphabet Inc.',\n",
       " 'GOOGL': 'Alphabet Inc.',\n",
       " 'MSFT': 'Microsoft Corporation'}"
      ]
     },
     "execution_count": 19,
     "metadata": {},
     "output_type": "execute_result"
    }
   ],
   "source": [
    "corps"
   ]
  },
  {
   "cell_type": "code",
   "execution_count": 20,
   "metadata": {
    "slideshow": {
     "slide_type": "slide"
    }
   },
   "outputs": [
    {
     "name": "stdout",
     "output_type": "stream",
     "text": [
      "AMZN : Amazon.com, Inc.\n",
      "AAPL : AAPL Apple Inc.\n",
      "MSFT : Microsoft Corporation\n",
      "GOOG : Alphabet Inc.\n",
      "GOOGL : Alphabet Inc.\n"
     ]
    }
   ],
   "source": [
    "# 딕셔너리를 for 루프로 순회\n",
    "\n",
    "for c in corps:\n",
    "    print(c, ':', corps[c])"
   ]
  },
  {
   "cell_type": "markdown",
   "metadata": {
    "slideshow": {
     "slide_type": "slide"
    }
   },
   "source": [
    "items()를 사용하여 순회하면서 key,value를 차례로 얻을 수 있다"
   ]
  },
  {
   "cell_type": "code",
   "execution_count": 21,
   "metadata": {
    "slideshow": {
     "slide_type": "-"
    }
   },
   "outputs": [
    {
     "name": "stdout",
     "output_type": "stream",
     "text": [
      "AMZN : Amazon.com, Inc.\n",
      "AAPL : AAPL Apple Inc.\n",
      "MSFT : Microsoft Corporation\n",
      "GOOG : Alphabet Inc.\n",
      "GOOGL : Alphabet Inc.\n"
     ]
    }
   ],
   "source": [
    "for key, val in corps.items():\n",
    "    print (key, ':', val)"
   ]
  },
  {
   "cell_type": "markdown",
   "metadata": {
    "slideshow": {
     "slide_type": "slide"
    }
   },
   "source": [
    "# zip\n",
    "리스트들(목록1, 목록2), 각 항목 짝을 지워 준다.\n",
    "\n",
    "```python\n",
    "zip(목록1, 목록2)\n",
    "```"
   ]
  },
  {
   "cell_type": "code",
   "execution_count": 22,
   "metadata": {
    "slideshow": {
     "slide_type": "-"
    }
   },
   "outputs": [
    {
     "data": {
      "text/plain": [
       "[('a', 'd'), ('b', 'e'), ('c', 'f')]"
      ]
     },
     "execution_count": 22,
     "metadata": {},
     "output_type": "execute_result"
    }
   ],
   "source": [
    "z = zip(['a', 'b', 'c'], ['d', 'e', 'f'])\n",
    "list(z)"
   ]
  },
  {
   "cell_type": "code",
   "execution_count": 23,
   "metadata": {
    "slideshow": {
     "slide_type": "slide"
    }
   },
   "outputs": [
    {
     "name": "stdout",
     "output_type": "stream",
     "text": [
      "AAPL 7541\n",
      "GOOGL 6556\n",
      "MSFT 5429\n",
      "AMZN 4607\n",
      "FB 4296\n"
     ]
    }
   ],
   "source": [
    "# 종목(stock_list)과 시가총액(marcap_list) 데이터를 짝을 지워준다\n",
    "stock_list = ['AAPL', 'GOOGL', 'MSFT', 'AMZN', 'FB']\n",
    "marcap_list = [7541, 6556, 5429, 4607, 4296]\n",
    "\n",
    "for stock, marcap in zip(stock_list, marcap_list):\n",
    "    print(stock, marcap)"
   ]
  },
  {
   "cell_type": "markdown",
   "metadata": {
    "collapsed": true,
    "slideshow": {
     "slide_type": "notes"
    }
   },
   "source": [
    "----\n",
    "#### 2017 FinanceData http://financedata.github.com , http://fb.com/financedata"
   ]
  }
 ],
 "metadata": {
  "celltoolbar": "Slideshow",
  "kernelspec": {
   "display_name": "Python 3",
   "language": "python",
   "name": "python3"
  },
  "language_info": {
   "codemirror_mode": {
    "name": "ipython",
    "version": 3
   },
   "file_extension": ".py",
   "mimetype": "text/x-python",
   "name": "python",
   "nbconvert_exporter": "python",
   "pygments_lexer": "ipython3",
   "version": "3.5.2"
  },
  "nikola": {
   "category": "dev",
   "date": "2017-06-16 06:45:10 UTC+09:00",
   "description": "자료구조: 리스트, 튜플, 딕셔너리",
   "link": "",
   "slug": "python-basics-part-3",
   "tags": "python,list,tuple,dictionary",
   "title": "Python Basics for Data Science - PART 3",
   "type": "text"
  }
 },
 "nbformat": 4,
 "nbformat_minor": 1
}
