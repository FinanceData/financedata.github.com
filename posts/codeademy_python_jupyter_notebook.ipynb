{
 "cells": [
  {
   "cell_type": "markdown",
   "metadata": {},
   "source": [
    "# 코드카데미 파이썬 주피터 노트북"
   ]
  },
  {
   "cell_type": "markdown",
   "metadata": {},
   "source": [
    "<img align=\"left\" src=\"http://i.imgur.com/WPFSTu7.png\" />"
   ]
  },
  {
   "cell_type": "markdown",
   "metadata": {},
   "source": [
    "본 문서는 코드카데미 파이썬(한국어) 강좌 https://codecademy.com/ko/tracks/python-ko 의 각 Chapter의 내용을 Jupyter Notebook 으로 정리한 문서입니다.  <br> 파이썬을 처음 접하시는 분에게 추천 합니다.\n",
    "<!-- TEASER_END -->"
   ]
  },
  {
   "cell_type": "markdown",
   "metadata": {},
   "source": [
    "* [Chapter 01 Python Syntax](http://nbviewer.ipython.org/88c612a0270f1681078656a1b915cfe3)\n",
    "* [Chapter 02 Tip Calculator](http://nbviewer.ipython.org/64e52e1238b5b3dfc53c6140cf771637)\n",
    "* [Chapter 03 Strings and Console Output](http://nbviewer.ipython.org/ba2c12c28ea180b0057b3e9b2d14741b)\n",
    "* [Chapter 04 Date and Time](http://nbviewer.ipython.org/46c463c22c4f9646c52b0d2ca17f82c8)\n",
    "* [Chapter 05 Conditionals and Control Flow ](http://nbviewer.ipython.org/d38168e1b53edb69b04a209b7f1155fe)\n",
    "* [Chapter 06 PygLatin](http://nbviewer.ipython.org/39c4c8864174f2eb7bd298b28e044e73)\n",
    "* [Chapter 07 Functions](http://nbviewer.ipython.org/d555b2cab123fcedf0df63b73e536d03)\n",
    "* [Chapter 08 Taking a Vacation](http://nbviewer.ipython.org/520a64a7bb0d96af6d12eb871bc4eb26)\n",
    "* [Chapter 09 Python Lists and Dictionaries](http://nbviewer.ipython.org/165c7de04fac698dacf461ceb0c984df)\n",
    "* [Chapter 10 A Day at the Supermarket](http://nbviewer.ipython.org/f0d3fe2874ec44398c34c4bf525c4e12)\n",
    "* [Chapter 11 Student Becomes the Teacher](http://nbviewer.ipython.org/f40a821ed59dbe6df5dfeb8c72d70885)\n",
    "* [Chapter 12 Lists and Functions](http://nbviewer.ipython.org/0dbd9d76592cf27a4c126b3ee6371e35)\n",
    "* [Chapter 13 Battleship](http://nbviewer.ipython.org/7e9962405bc5f67f3c841ce31512c36a)\n",
    "* [Chapter 14 Loops](http://nbviewer.ipython.org/d028fcbd5d40f838bff313e631891b4f)\n",
    "* [Chapter 15 Practice Makes Perfect](http://nbviewer.ipython.org/3074016ff1b9ccb71994188b321d01d5)\n",
    "* [Chapter 16 Exam Statistics](http://nbviewer.ipython.org/666c94733afdc38b9e6e3b5865564677)\n",
    "* [Chapter 17 Advanced Topics in Python](http://nbviewer.ipython.org/b6849c190f1cc130566948955ea5cbe7)\n",
    "* [Chapter 18 Introduction to Bitwise Operators](http://nbviewer.ipython.org/2ef97f9165a53ad6d6f67e5eb00fea22)\n",
    "* [Chapter 19 Introduction to Classes](http://nbviewer.ipython.org/c67f134a3542516ddc2a54a8b76b14a7)\n",
    "* [Chapter 20 Classes](http://nbviewer.ipython.org/e07e48ccac11daae054fece4f21ab0fa)\n",
    "* [Chapter 21 File Input and Output](http://nbviewer.ipython.org/da2d7daf856aa5c0662f963b035dd170)\n",
    "\n",
    "링크는 주피터 노트북(ipynb)를 http://nbviewer.ipython.org/ 를 통해 볼 수 있도록 연결되어 있습니다.<BR>\n",
    "노트북 우측 상단의 <img src=\"http://i.imgur.com/payALWU.png\" style=\"display: inline-block;\"> 버튼('View as Slides') 으로 슬라이드 형식으로도 볼 수 있습니다. \n"
   ]
  },
  {
   "cell_type": "markdown",
   "metadata": {},
   "source": [
    "#### 2016, 2017 [facebook.com/financedata](https://facebook.com/financedata)"
   ]
  }
 ],
 "metadata": {
  "kernelspec": {
   "display_name": "Python 3",
   "language": "python",
   "name": "python3"
  },
  "language_info": {
   "codemirror_mode": {
    "name": "ipython",
    "version": 3
   },
   "file_extension": ".py",
   "mimetype": "text/x-python",
   "name": "python",
   "nbconvert_exporter": "python",
   "pygments_lexer": "ipython3",
   "version": "3.5.2"
  },
  "nikola": {
   "category": "dev",
   "date": "2017-01-27 20:45:11 UTC+09:00",
   "description": "코드카데미 파이썬 주피터 노트북",
   "link": "",
   "slug": "codeademy_python_jupyter_notebook",
   "tags": "codeademy, jupyter notebook, python",
   "title": "코드카데미 파이썬 주피터 노트북",
   "type": "text"
  }
 },
 "nbformat": 4,
 "nbformat_minor": 0
}
