{
 "cells": [
  {
   "cell_type": "markdown",
   "metadata": {},
   "source": [
    "# 집에 서버가 필요한가?\n",
    "\n",
    "서버(server)란 서비스를 제공하는 컴퓨터 혹은 프로그램을 말하지만, 간단하게 한마디로 말하면 24시간 켜져 있는 컴퓨터를 말합니다.\n",
    "<!-- TEASER_END -->\n",
    "\n",
    "\"홈서버 이야기 – 집에 서버가 왜 필요하지?\" https://goo.gl/n2yV6p 를 한번 읽어보십시오.\n",
    "\n",
    "서버를 사용하기 위해, 아마존이나 구글에 제공하는 클라우드 서비스를 사용할 수 도 있고, cafe24.com 같은 호스팅 업체의 서비스를 이용할 수 도 있습니다.\n",
    "그래도 역시 가장 적은 비용으로 가장 높은 효용을 얻을 수 있는 것은 직접 서버를 만들어 운영하는 것입니다. 단지 비용의 문제가 아니라 직접 운영하면서 아주 많은 실용 지식을 얻게 됩니다.\n",
    "\n",
    "오래된 노트북 컴퓨터에 우분투를 설치해서 홈 서버로 구축하는 것을 권해 드립니다. (혹은 20만원 안밖의 저전력 PC를 추천드립니다). 구형 노트북에 윈도우를 쓰기는 어렵지만, 우분투는 쌩쌩 잘 돌아갑니다. (환경을 생각해서도...). 더욱이 노트북은 정전에도 대비하는 기능을 가지고 있습니다 <strike>배터리가 UPS 기능을 하지요 ^^</strike>\n",
    "\n",
    "\n",
    "# 우선 알아야 할 것은 딱 하나 - 포트 포워딩\n",
    "\n",
    "우분투 14.04를 USB로 설치 ( https://goo.gl/eizwIb \"우분투 설치하기\" ) 하시고, 공유기에 포트포워딩(Port Forwarding) 설정만 하셔도 ( https://goo.gl/R1ybzz \"포트포워딩하기\" ) 홈 서버를 구축할 수 있습니다.\n",
    "\n",
    "공유기에 포트포워딩에 대한 좀 더 쉬운 강좌 https://opentutorials.org/course/228/6040 도 있습니다.\n",
    "\n",
    "\n",
    "# 홈 서버에 데이터 분석 환경 구축\n",
    "\n",
    "이렇게 만든 서버에 아래 내용들을 설치해 두면 언제 어디서나 사용이 가능한 데이터 분석 환경이 됩니다. (“Ubuntu+Python3 데이터 분석 환경 만들기 요약”  https://goo.gl/pcN8ht 참고)\n",
    "\n",
    "* Python 데이터 분석 도구들\n",
    "* MySQL \n",
    "* Jupyter Notebook\n",
    "\n",
    "Jupyter Notebook은 서버로 켜둡니다.\n",
    "\n",
    "고성능 컴퓨터나 머신러닝을 위해 병렬 GPU가 정말 필요하시게 되면 그 때 구하셔도 늦지 않습니다.\n",
    "\n",
    "도메인을 설정한다거나 웹 서비스를 운영하는 것을 더 해보시고 싶으시면 https://goo.gl/zC1dPs \"우분투 14.04 LTS로 홈서버 만들기\"에 매우 상세한 내용들이 정리되어 있습니다."
   ]
  }
 ],
 "metadata": {
  "kernelspec": {
   "display_name": "Python 3",
   "language": "python",
   "name": "python3"
  },
  "language_info": {
   "codemirror_mode": {
    "name": "ipython",
    "version": 3
   },
   "file_extension": ".py",
   "mimetype": "text/x-python",
   "name": "python",
   "nbconvert_exporter": "python",
   "pygments_lexer": "ipython3",
   "version": "3.5.2"
  },
  "nikola": {
   "category": "dev",
   "date": "2016-11-07 20:30:10 UTC+09:00",
   "description": "홈 서버 만들기",
   "link": "",
   "slug": "building_home_server",
   "tags": "python, home, server",
   "title": "홈 서버 만들기",
   "type": "text"
  }
 },
 "nbformat": 4,
 "nbformat_minor": 2
}
