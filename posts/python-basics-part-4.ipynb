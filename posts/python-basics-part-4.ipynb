{
 "cells": [
  {
   "cell_type": "markdown",
   "metadata": {
    "slideshow": {
     "slide_type": "slide"
    }
   },
   "source": [
    "# Python Basics for Data Science - PART 4\n",
    "( 파이낸스 데이터 사이언스를 위한 파이썬 언어 기초 )\n",
    "### 함수, 모듈\n",
    "\n",
    "<img width=\"300\" src=\"http://i.imgur.com/tHmNhjm.png\" >\n",
    "\n",
    "\n",
    "#### 2017 FinanceData http://fb.com/financedata\n",
    "<!-- TEASER_END -->"
   ]
  },
  {
   "cell_type": "markdown",
   "metadata": {
    "slideshow": {
     "slide_type": "slide"
    }
   },
   "source": [
    "## 함수(function)\n",
    "\n",
    "파이썬에서 함수는 `def` 키워드와 `()`를 써서 표현한다.\n",
    "\n",
    "```python\n",
    "def 함수이름( 인자1, 인자2 ):\n",
    "    실행할 내용\n",
    "    return 반환값\n",
    "```"
   ]
  },
  {
   "cell_type": "code",
   "execution_count": 1,
   "metadata": {
    "slideshow": {
     "slide_type": "-"
    }
   },
   "outputs": [
    {
     "name": "stdout",
     "output_type": "stream",
     "text": [
      "간단한 함수 호출\n"
     ]
    }
   ],
   "source": [
    "def f():\n",
    "    print(\"간단한 함수 호출\")\n",
    "    \n",
    "f()"
   ]
  },
  {
   "cell_type": "code",
   "execution_count": 2,
   "metadata": {
    "collapsed": true,
    "slideshow": {
     "slide_type": "slide"
    }
   },
   "outputs": [],
   "source": [
    "def my_func(s):\n",
    "    \"\"\"\n",
    "    전달된 값을 출력하는 간단한 함수 입니다. (help)\n",
    "    \"\"\"\n",
    "    print(\"전달된 값은 '{}'이고, 길이는 {} 입니다.\".format(s, len(s)))"
   ]
  },
  {
   "cell_type": "code",
   "execution_count": 3,
   "metadata": {
    "slideshow": {
     "slide_type": "-"
    }
   },
   "outputs": [
    {
     "name": "stdout",
     "output_type": "stream",
     "text": [
      "Help on function my_func in module __main__:\n",
      "\n",
      "my_func(s)\n",
      "    전달된 값을 출력하는 간단한 함수 입니다. (help)\n",
      "\n"
     ]
    }
   ],
   "source": [
    "help(my_func)"
   ]
  },
  {
   "cell_type": "code",
   "execution_count": 4,
   "metadata": {
    "slideshow": {
     "slide_type": "-"
    }
   },
   "outputs": [
    {
     "name": "stdout",
     "output_type": "stream",
     "text": [
      "전달된 값은 '임의의 문자열'이고, 길이는 7 입니다.\n"
     ]
    }
   ],
   "source": [
    "my_func(\"임의의 문자열\")"
   ]
  },
  {
   "cell_type": "code",
   "execution_count": 5,
   "metadata": {
    "slideshow": {
     "slide_type": "slide"
    }
   },
   "outputs": [
    {
     "data": {
      "text/plain": [
       "(9, 27, 81)"
      ]
     },
     "execution_count": 5,
     "metadata": {},
     "output_type": "execute_result"
    }
   ],
   "source": [
    "# 튜플을 반환 (다수의 값을 반환)\n",
    "\n",
    "def func01(x):\n",
    "    return x **2, x ** 3, x ** 4\n",
    "\n",
    "func01(3)"
   ]
  },
  {
   "cell_type": "code",
   "execution_count": 6,
   "metadata": {
    "slideshow": {
     "slide_type": "-"
    }
   },
   "outputs": [
    {
     "name": "stdout",
     "output_type": "stream",
     "text": [
      "30\n"
     ]
    }
   ],
   "source": [
    "def my_sum(a, b):\n",
    "    s = a + b\n",
    "    return s\n",
    "\n",
    "s = my_sum( 10, 20 )\n",
    "print (s)"
   ]
  },
  {
   "cell_type": "code",
   "execution_count": 7,
   "metadata": {
    "slideshow": {
     "slide_type": "slide"
    }
   },
   "outputs": [
    {
     "data": {
      "text/plain": [
       "5.0"
      ]
     },
     "execution_count": 7,
     "metadata": {},
     "output_type": "execute_result"
    }
   ],
   "source": [
    "import math\n",
    "\n",
    "math.sqrt(25)"
   ]
  },
  {
   "cell_type": "code",
   "execution_count": 8,
   "metadata": {
    "slideshow": {
     "slide_type": "slide"
    }
   },
   "outputs": [
    {
     "name": "stdout",
     "output_type": "stream",
     "text": [
      "['__doc__', '__loader__', '__name__', '__package__', '__spec__', 'acos', 'acosh', 'asin', 'asinh', 'atan', 'atan2', 'atanh', 'ceil', 'copysign', 'cos', 'cosh', 'degrees', 'e', 'erf', 'erfc', 'exp', 'expm1', 'fabs', 'factorial', 'floor', 'fmod', 'frexp', 'fsum', 'gamma', 'gcd', 'hypot', 'inf', 'isclose', 'isfinite', 'isinf', 'isnan', 'ldexp', 'lgamma', 'log', 'log10', 'log1p', 'log2', 'modf', 'nan', 'pi', 'pow', 'radians', 'sin', 'sinh', 'sqrt', 'tan', 'tanh', 'trunc']\n"
     ]
    }
   ],
   "source": [
    "# math 안에 뭐가 들어 있나?\n",
    "\n",
    "print( dir(math) )"
   ]
  },
  {
   "cell_type": "code",
   "execution_count": 9,
   "metadata": {
    "slideshow": {
     "slide_type": "slide"
    }
   },
   "outputs": [
    {
     "name": "stdout",
     "output_type": "stream",
     "text": [
      "110\n",
      "2\n",
      "<class 'list'>\n"
     ]
    }
   ],
   "source": [
    "# 내장함수\n",
    "\n",
    "data = [10, 20, 30, 50, 110, 2, 90, 30, 5]\n",
    "print(max(data))\n",
    "print(min(data))\n",
    "print(type(data))"
   ]
  },
  {
   "cell_type": "code",
   "execution_count": 10,
   "metadata": {
    "slideshow": {
     "slide_type": "slide"
    }
   },
   "outputs": [
    {
     "name": "stdout",
     "output_type": "stream",
     "text": [
      "음수\n",
      "영\n",
      "양수\n"
     ]
    }
   ],
   "source": [
    "def get_sign(x): \n",
    "    if x > 0: \n",
    "        return '양수' \n",
    "    elif x < 0: \n",
    "        return '음수' \n",
    "    else: \n",
    "        return '영' \n",
    "\n",
    "for x in [-1, 0, 1]: \n",
    "    print (get_sign(x))"
   ]
  },
  {
   "cell_type": "markdown",
   "metadata": {
    "slideshow": {
     "slide_type": "slide"
    }
   },
   "source": [
    "# 디폴트 아규먼트\n",
    "함수의 뒤쪽 파라미터(tailing)에 기본값(fault value)을 부여할 수 있다.\n",
    "\n",
    "```python\n",
    "def f(인자1, 인자2, 인자3=기본값, 인자4=기본값):\n",
    "    함수의 몸체\n",
    "    \n",
    "f(값1, 값2)\n",
    "```    "
   ]
  },
  {
   "cell_type": "code",
   "execution_count": 11,
   "metadata": {
    "slideshow": {
     "slide_type": "-"
    }
   },
   "outputs": [
    {
     "name": "stdout",
     "output_type": "stream",
     "text": [
      "10 20 50\n",
      "10 20 0\n"
     ]
    }
   ],
   "source": [
    "def f(x, y, z = 0):\n",
    "    print (x, y, z)\n",
    "    \n",
    "f(10, 20, z=50)\n",
    "f(10, 20)"
   ]
  },
  {
   "cell_type": "markdown",
   "metadata": {
    "slideshow": {
     "slide_type": "slide"
    }
   },
   "source": [
    "# 모듈(module)\n",
    "\n",
    "파이썬의 기능은 모듈로 나눠져 있다. 다양하고 방대한 기능들을 제공하고 있으며 \n",
    "운영체제, 파일 입출력, 문자열 처리, 네트워크 프로그래밍 등 다양한 기능을 제공한다.\n",
    "\n",
    "* 파이썬 언어 레퍼런스 : https://docs.python.org/reference/\n",
    "* 파이썬 표준 라이브러리 : http://docs.python.org/library/\n",
    "\n",
    "특정한 기능을 제공하는 함수들을 묶어서 하나의 단위로 제공하는데 이를 모듈(module)이라고 한다. (실제로는 하나의 .py 파일이다)\n",
    "파이썬의 모듈을 사용하려면 `import` 문을 사용한다.\n",
    "\n",
    "예를 들어, math 모듈을 사용하려면"
   ]
  },
  {
   "cell_type": "code",
   "execution_count": 12,
   "metadata": {
    "collapsed": true,
    "slideshow": {
     "slide_type": "-"
    }
   },
   "outputs": [],
   "source": [
    "import math"
   ]
  },
  {
   "cell_type": "markdown",
   "metadata": {
    "slideshow": {
     "slide_type": "slide"
    }
   },
   "source": [
    "math 모듈을 가져와(import) math에 속한 함수(math.pow) 혹은 상수값(math.pi)등을 사용할 수 있다.\n",
    "\n",
    "반지름이 3이 인 원의 넓이는 $ 3.14 * 3^2 $ 이다. 이것을 파이썬 코드로 써보면,"
   ]
  },
  {
   "cell_type": "code",
   "execution_count": 19,
   "metadata": {
    "slideshow": {
     "slide_type": "-"
    }
   },
   "outputs": [
    {
     "data": {
      "text/plain": [
       "28.274333882308138"
      ]
     },
     "execution_count": 19,
     "metadata": {},
     "output_type": "execute_result"
    }
   ],
   "source": [
    "import math\n",
    "\n",
    "r = 3\n",
    "area = math.pi * math.pow(r, 2)\n",
    "area"
   ]
  },
  {
   "cell_type": "markdown",
   "metadata": {
    "slideshow": {
     "slide_type": "slide"
    }
   },
   "source": [
    "# 모듈 들여다 보기\n",
    "\n",
    "dir 함수로 모듈이 가지고 있는 이름들을 나열해 볼 수 있다. 즉, 어떤 함수와 상수들을 가지고 있는지 확인할 수 있다."
   ]
  },
  {
   "cell_type": "code",
   "execution_count": 14,
   "metadata": {
    "slideshow": {
     "slide_type": "-"
    }
   },
   "outputs": [
    {
     "name": "stdout",
     "output_type": "stream",
     "text": [
      "['__doc__', '__loader__', '__name__', '__package__', '__spec__', 'acos', 'acosh', 'asin', 'asinh', 'atan', 'atan2', 'atanh', 'ceil', 'copysign', 'cos', 'cosh', 'degrees', 'e', 'erf', 'erfc', 'exp', 'expm1', 'fabs', 'factorial', 'floor', 'fmod', 'frexp', 'fsum', 'gamma', 'gcd', 'hypot', 'inf', 'isclose', 'isfinite', 'isinf', 'isnan', 'ldexp', 'lgamma', 'log', 'log10', 'log1p', 'log2', 'modf', 'nan', 'pi', 'pow', 'radians', 'sin', 'sinh', 'sqrt', 'tan', 'tanh', 'trunc']\n"
     ]
    }
   ],
   "source": [
    "import math\n",
    "\n",
    "print(dir(math))"
   ]
  },
  {
   "cell_type": "markdown",
   "metadata": {
    "slideshow": {
     "slide_type": "slide"
    }
   },
   "source": [
    "각 이름에 대한 사용법을 다음과 같이 얻을 수 있다."
   ]
  },
  {
   "cell_type": "code",
   "execution_count": 16,
   "metadata": {
    "slideshow": {
     "slide_type": "-"
    }
   },
   "outputs": [
    {
     "name": "stdout",
     "output_type": "stream",
     "text": [
      "Help on built-in function pow in module math:\n",
      "\n",
      "pow(...)\n",
      "    pow(x, y)\n",
      "    \n",
      "    Return x**y (x to the power of y).\n",
      "\n"
     ]
    }
   ],
   "source": [
    "help(math.pow)"
   ]
  },
  {
   "cell_type": "markdown",
   "metadata": {
    "slideshow": {
     "slide_type": "-"
    }
   },
   "source": [
    "어떤 이름이던 help()로 사용법 혹은 설명을 얻을 수 있다.\n",
    "\n",
    "```python\n",
    "help(math)\n",
    "```"
   ]
  },
  {
   "cell_type": "markdown",
   "metadata": {
    "slideshow": {
     "slide_type": "slide"
    }
   },
   "source": [
    "'\\*'를 사용하여 math 모듈에 있는 모든 이름들을 가져오면(import)하면 직접 이름을 사용할 수 도 있다.\n",
    "\n",
    "```python\n",
    "# math에 속한 pi, pow를 가져온다\n",
    "from math import pi, pow \n",
    "\n",
    "# math에 속한 모든 이름을 가져온다\n",
    "from math import * \n",
    "```\n",
    "\n",
    "이 표현을 다음과 같이 쓸 수 도있다. (하지만 추천하지 않는다)"
   ]
  },
  {
   "cell_type": "code",
   "execution_count": 17,
   "metadata": {
    "slideshow": {
     "slide_type": "-"
    }
   },
   "outputs": [
    {
     "data": {
      "text/plain": [
       "28.274333882308138"
      ]
     },
     "execution_count": 17,
     "metadata": {},
     "output_type": "execute_result"
    }
   ],
   "source": [
    "from math import *\n",
    "\n",
    "r = 3\n",
    "area = pi * pow(r, 2)\n",
    "area"
   ]
  },
  {
   "cell_type": "markdown",
   "metadata": {
    "slideshow": {
     "slide_type": "slide"
    }
   },
   "source": [
    "pi 나 pow() 함수를 직접사용하기 때문에 코드가 간결해 보이지만, pi, pow 란 이름이 충돌하는 것을 예방하기 위해 함수가 속한 모듈을 명시적으로 지정해서 사용하는 것이 더 좋다.   \n",
    "\n",
    "가장 많이 사용하는 형태는 다음과 같다\n",
    "\n",
    "```python\n",
    "import 모듈이름\n",
    "import 모듈이름 as 새모듈이름\n",
    "from 패키지 import 모듈이름\n",
    "```"
   ]
  },
  {
   "cell_type": "markdown",
   "metadata": {
    "slideshow": {
     "slide_type": "-"
    }
   },
   "source": [
    "실제로 많이 사용하는 사례를 들면 다음과 같다 "
   ]
  },
  {
   "cell_type": "code",
   "execution_count": 18,
   "metadata": {
    "collapsed": true,
    "slideshow": {
     "slide_type": "-"
    }
   },
   "outputs": [],
   "source": [
    "# requests 모듈을 임포트\n",
    "import requests \n",
    "\n",
    "# numpy 모듈을 임포트하여 np로 새이름 부여\n",
    "import numpy as np \n",
    "\n",
    "# datetime 패키지에 있는 datetime 모듈을 임포트\n",
    "from datetime import datetime "
   ]
  },
  {
   "cell_type": "markdown",
   "metadata": {
    "slideshow": {
     "slide_type": "notes"
    }
   },
   "source": [
    "----\n",
    "#### 2017 FinanceData http://financedata.github.com , http://fb.com/financedata"
   ]
  }
 ],
 "metadata": {
  "celltoolbar": "Slideshow",
  "kernelspec": {
   "display_name": "Python 3",
   "language": "python",
   "name": "python3"
  },
  "language_info": {
   "codemirror_mode": {
    "name": "ipython",
    "version": 3
   },
   "file_extension": ".py",
   "mimetype": "text/x-python",
   "name": "python",
   "nbconvert_exporter": "python",
   "pygments_lexer": "ipython3",
   "version": "3.5.2"
  },
  "nikola": {
   "category": "dev",
   "date": "2017-06-16 07:45:30 UTC+09:00",
   "description": "함수, 모듈",
   "link": "",
   "slug": "python-basics-part-4",
   "tags": "python,function,module",
   "title": "Python Basics for Data Science - PART 4",
   "type": "text"
  }
 },
 "nbformat": 4,
 "nbformat_minor": 1
}
