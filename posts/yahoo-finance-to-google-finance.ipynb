{
 "cells": [
  {
   "cell_type": "markdown",
   "metadata": {},
   "source": [
    "# Yahoo Finance to Google Finance\n",
    "\n",
    "\n",
    "Yahoo의 서비스 구조 변경 (2017년 5월 15일 부터 아래 2개 URL 서비스 불가)\n",
    "* https://ichart.finance.yahoo.com/table.csv (pandas_datareader 에서 사용하는 URL)\n",
    "* http://real-chart.finance.yahoo.com/table.csv (URL을 통해 직접 가격 데이터 가져오는 URL)\n",
    "\n",
    "이 때문에, pandas_datareader 에서 yahoo로 지정했을 경우 동작하지 않음 (2017년 6월 현재)\n",
    "\n",
    "<img src=\"http://i.imgur.com/JGlGylO.png\" >\n",
    "\n",
    "이 부분들을 Google Finance 대체 할 수 있으며, <br>\n",
    "아래와 같이 코스피 지수, 개별종목, 가격을 URL에서 직접 가져오기 3가지로 부분을 정리하였습니다 <br>\n",
    "(다른 Yahoo finance API는 잘 동작합니다)\n",
    "\n",
    "#### 2017 FinanceData http://fb.com/financedata\n",
    "<!-- TEASER_END -->"
   ]
  },
  {
   "cell_type": "code",
   "execution_count": 1,
   "metadata": {
    "collapsed": true
   },
   "outputs": [],
   "source": [
    "import pandas as pd\n",
    "from datetime import datetime\n",
    "from pandas_datareader import data"
   ]
  },
  {
   "cell_type": "markdown",
   "metadata": {},
   "source": [
    "# 코스피 지수"
   ]
  },
  {
   "cell_type": "markdown",
   "metadata": {},
   "source": [
    "```python\n",
    "# yahoo\n",
    "start = datetime(2017, 1, 1)\n",
    "end = datetime(2017, 4, 30)\n",
    "\n",
    "df = data.get_data_yahoo(\"^KS11\", start, end)\n",
    "df = data.DataReader(\"^KS11\", \"yahoo\", start, end)\n",
    "```"
   ]
  },
  {
   "cell_type": "code",
   "execution_count": 2,
   "metadata": {},
   "outputs": [
    {
     "data": {
      "text/html": [
       "<div>\n",
       "<style>\n",
       "    .dataframe thead tr:only-child th {\n",
       "        text-align: right;\n",
       "    }\n",
       "\n",
       "    .dataframe thead th {\n",
       "        text-align: left;\n",
       "    }\n",
       "\n",
       "    .dataframe tbody tr th {\n",
       "        vertical-align: top;\n",
       "    }\n",
       "</style>\n",
       "<table border=\"1\" class=\"dataframe\">\n",
       "  <thead>\n",
       "    <tr style=\"text-align: right;\">\n",
       "      <th></th>\n",
       "      <th>Open</th>\n",
       "      <th>High</th>\n",
       "      <th>Low</th>\n",
       "      <th>Close</th>\n",
       "      <th>Volume</th>\n",
       "    </tr>\n",
       "    <tr>\n",
       "      <th>Date</th>\n",
       "      <th></th>\n",
       "      <th></th>\n",
       "      <th></th>\n",
       "      <th></th>\n",
       "      <th></th>\n",
       "    </tr>\n",
       "  </thead>\n",
       "  <tbody>\n",
       "    <tr>\n",
       "      <th>2017-01-02</th>\n",
       "      <td>2022.23</td>\n",
       "      <td>2031.79</td>\n",
       "      <td>2015.68</td>\n",
       "      <td>2026.16</td>\n",
       "      <td>229874000</td>\n",
       "    </tr>\n",
       "    <tr>\n",
       "      <th>2017-01-03</th>\n",
       "      <td>2034.31</td>\n",
       "      <td>2044.07</td>\n",
       "      <td>2028.47</td>\n",
       "      <td>2043.97</td>\n",
       "      <td>268127000</td>\n",
       "    </tr>\n",
       "    <tr>\n",
       "      <th>2017-01-04</th>\n",
       "      <td>2046.29</td>\n",
       "      <td>2046.29</td>\n",
       "      <td>2040.61</td>\n",
       "      <td>2045.64</td>\n",
       "      <td>371488000</td>\n",
       "    </tr>\n",
       "    <tr>\n",
       "      <th>2017-01-05</th>\n",
       "      <td>2045.52</td>\n",
       "      <td>2046.50</td>\n",
       "      <td>2039.49</td>\n",
       "      <td>2041.95</td>\n",
       "      <td>541343000</td>\n",
       "    </tr>\n",
       "    <tr>\n",
       "      <th>2017-01-06</th>\n",
       "      <td>2048.11</td>\n",
       "      <td>2051.84</td>\n",
       "      <td>2045.66</td>\n",
       "      <td>2049.12</td>\n",
       "      <td>455350000</td>\n",
       "    </tr>\n",
       "  </tbody>\n",
       "</table>\n",
       "</div>"
      ],
      "text/plain": [
       "               Open     High      Low    Close     Volume\n",
       "Date                                                     \n",
       "2017-01-02  2022.23  2031.79  2015.68  2026.16  229874000\n",
       "2017-01-03  2034.31  2044.07  2028.47  2043.97  268127000\n",
       "2017-01-04  2046.29  2046.29  2040.61  2045.64  371488000\n",
       "2017-01-05  2045.52  2046.50  2039.49  2041.95  541343000\n",
       "2017-01-06  2048.11  2051.84  2045.66  2049.12  455350000"
      ]
     },
     "execution_count": 2,
     "metadata": {},
     "output_type": "execute_result"
    }
   ],
   "source": [
    "start = datetime(2017, 1, 1)\n",
    "end = datetime(2017, 4, 30)\n",
    "\n",
    "# google\n",
    "df = data.get_data_google(\"KRX:KOSPI\", start, end)\n",
    "df.head()"
   ]
  },
  {
   "cell_type": "code",
   "execution_count": 3,
   "metadata": {},
   "outputs": [
    {
     "data": {
      "text/html": [
       "<div>\n",
       "<style>\n",
       "    .dataframe thead tr:only-child th {\n",
       "        text-align: right;\n",
       "    }\n",
       "\n",
       "    .dataframe thead th {\n",
       "        text-align: left;\n",
       "    }\n",
       "\n",
       "    .dataframe tbody tr th {\n",
       "        vertical-align: top;\n",
       "    }\n",
       "</style>\n",
       "<table border=\"1\" class=\"dataframe\">\n",
       "  <thead>\n",
       "    <tr style=\"text-align: right;\">\n",
       "      <th></th>\n",
       "      <th>Open</th>\n",
       "      <th>High</th>\n",
       "      <th>Low</th>\n",
       "      <th>Close</th>\n",
       "      <th>Volume</th>\n",
       "    </tr>\n",
       "    <tr>\n",
       "      <th>Date</th>\n",
       "      <th></th>\n",
       "      <th></th>\n",
       "      <th></th>\n",
       "      <th></th>\n",
       "      <th></th>\n",
       "    </tr>\n",
       "  </thead>\n",
       "  <tbody>\n",
       "    <tr>\n",
       "      <th>2017-01-02</th>\n",
       "      <td>2022.23</td>\n",
       "      <td>2031.79</td>\n",
       "      <td>2015.68</td>\n",
       "      <td>2026.16</td>\n",
       "      <td>229874000</td>\n",
       "    </tr>\n",
       "    <tr>\n",
       "      <th>2017-01-03</th>\n",
       "      <td>2034.31</td>\n",
       "      <td>2044.07</td>\n",
       "      <td>2028.47</td>\n",
       "      <td>2043.97</td>\n",
       "      <td>268127000</td>\n",
       "    </tr>\n",
       "    <tr>\n",
       "      <th>2017-01-04</th>\n",
       "      <td>2046.29</td>\n",
       "      <td>2046.29</td>\n",
       "      <td>2040.61</td>\n",
       "      <td>2045.64</td>\n",
       "      <td>371488000</td>\n",
       "    </tr>\n",
       "    <tr>\n",
       "      <th>2017-01-05</th>\n",
       "      <td>2045.52</td>\n",
       "      <td>2046.50</td>\n",
       "      <td>2039.49</td>\n",
       "      <td>2041.95</td>\n",
       "      <td>541343000</td>\n",
       "    </tr>\n",
       "    <tr>\n",
       "      <th>2017-01-06</th>\n",
       "      <td>2048.11</td>\n",
       "      <td>2051.84</td>\n",
       "      <td>2045.66</td>\n",
       "      <td>2049.12</td>\n",
       "      <td>455350000</td>\n",
       "    </tr>\n",
       "  </tbody>\n",
       "</table>\n",
       "</div>"
      ],
      "text/plain": [
       "               Open     High      Low    Close     Volume\n",
       "Date                                                     \n",
       "2017-01-02  2022.23  2031.79  2015.68  2026.16  229874000\n",
       "2017-01-03  2034.31  2044.07  2028.47  2043.97  268127000\n",
       "2017-01-04  2046.29  2046.29  2040.61  2045.64  371488000\n",
       "2017-01-05  2045.52  2046.50  2039.49  2041.95  541343000\n",
       "2017-01-06  2048.11  2051.84  2045.66  2049.12  455350000"
      ]
     },
     "execution_count": 3,
     "metadata": {},
     "output_type": "execute_result"
    }
   ],
   "source": [
    "# google\n",
    "df = data.DataReader(\"KRX:KOSPI\", \"google\", start, end)\n",
    "df.head()"
   ]
  },
  {
   "cell_type": "markdown",
   "metadata": {},
   "source": [
    "# 개별 종목"
   ]
  },
  {
   "cell_type": "code",
   "execution_count": null,
   "metadata": {},
   "outputs": [
    {
     "data": {
      "text/html": [
       "<div>\n",
       "<style>\n",
       "    .dataframe thead tr:only-child th {\n",
       "        text-align: right;\n",
       "    }\n",
       "\n",
       "    .dataframe thead th {\n",
       "        text-align: left;\n",
       "    }\n",
       "\n",
       "    .dataframe tbody tr th {\n",
       "        vertical-align: top;\n",
       "    }\n",
       "</style>\n",
       "<table border=\"1\" class=\"dataframe\">\n",
       "  <thead>\n",
       "    <tr style=\"text-align: right;\">\n",
       "      <th></th>\n",
       "      <th>Open</th>\n",
       "      <th>High</th>\n",
       "      <th>Low</th>\n",
       "      <th>Close</th>\n",
       "      <th>Volume</th>\n",
       "    </tr>\n",
       "    <tr>\n",
       "      <th>Date</th>\n",
       "      <th></th>\n",
       "      <th></th>\n",
       "      <th></th>\n",
       "      <th></th>\n",
       "      <th></th>\n",
       "    </tr>\n",
       "  </thead>\n",
       "  <tbody>\n",
       "    <tr>\n",
       "      <th>2017-01-02</th>\n",
       "      <td>1799000.0</td>\n",
       "      <td>1812000.0</td>\n",
       "      <td>1794000.0</td>\n",
       "      <td>1805000.0</td>\n",
       "      <td>92936</td>\n",
       "    </tr>\n",
       "    <tr>\n",
       "      <th>2017-01-03</th>\n",
       "      <td>1814000.0</td>\n",
       "      <td>1831000.0</td>\n",
       "      <td>1801000.0</td>\n",
       "      <td>1824000.0</td>\n",
       "      <td>146807</td>\n",
       "    </tr>\n",
       "    <tr>\n",
       "      <th>2017-01-04</th>\n",
       "      <td>1825000.0</td>\n",
       "      <td>1826000.0</td>\n",
       "      <td>1805000.0</td>\n",
       "      <td>1808000.0</td>\n",
       "      <td>145894</td>\n",
       "    </tr>\n",
       "    <tr>\n",
       "      <th>2017-01-05</th>\n",
       "      <td>1803000.0</td>\n",
       "      <td>1803000.0</td>\n",
       "      <td>1777000.0</td>\n",
       "      <td>1778000.0</td>\n",
       "      <td>209212</td>\n",
       "    </tr>\n",
       "    <tr>\n",
       "      <th>2017-01-06</th>\n",
       "      <td>1809000.0</td>\n",
       "      <td>1822000.0</td>\n",
       "      <td>1802000.0</td>\n",
       "      <td>1810000.0</td>\n",
       "      <td>167595</td>\n",
       "    </tr>\n",
       "  </tbody>\n",
       "</table>\n",
       "</div>"
      ],
      "text/plain": [
       "                 Open       High        Low      Close  Volume\n",
       "Date                                                          \n",
       "2017-01-02  1799000.0  1812000.0  1794000.0  1805000.0   92936\n",
       "2017-01-03  1814000.0  1831000.0  1801000.0  1824000.0  146807\n",
       "2017-01-04  1825000.0  1826000.0  1805000.0  1808000.0  145894\n",
       "2017-01-05  1803000.0  1803000.0  1777000.0  1778000.0  209212\n",
       "2017-01-06  1809000.0  1822000.0  1802000.0  1810000.0  167595"
      ]
     },
     "execution_count": 4,
     "metadata": {},
     "output_type": "execute_result"
    }
   ],
   "source": [
    "# yahoo\n",
    "# df = data.get_data_yahoo(\"005930.KS\", start, end)\n",
    "\n",
    "# google\n",
    "df = data.get_data_google(\"KRX:005930\", start, end)\n",
    "df.head()"
   ]
  },
  {
   "cell_type": "markdown",
   "metadata": {},
   "source": [
    "# URL에서 가져오기"
   ]
  },
  {
   "cell_type": "code",
   "execution_count": null,
   "metadata": {
    "collapsed": true
   },
   "outputs": [],
   "source": [
    "# yahoo\n",
    "url = \"http://real-chart.finance.yahoo.com/table.csv?s=%s&a=0&b=1&c=2017&d=3&e=30&f=2017&g=d&ignore=.csv\"\n",
    "\n",
    "# google\n",
    "url = \"http://www.google.com/finance/historical?q=KRX:KOSPI&startdate=2017-01-30&enddate=2017-04-30&output=csv\"\n",
    "\n",
    "df = pd.read_csv(url, index_col='Date', parse_dates=True)\n",
    "df.head(10)"
   ]
  },
  {
   "cell_type": "markdown",
   "metadata": {
    "slideshow": {
     "slide_type": "notes"
    }
   },
   "source": [
    "----\n",
    "#### 2017 FinanceData http://financedata.github.com , http://fb.com/financedata"
   ]
  }
 ],
 "metadata": {
  "kernelspec": {
   "display_name": "Python 3",
   "language": "python",
   "name": "python3"
  },
  "language_info": {
   "codemirror_mode": {
    "name": "ipython",
    "version": 3
   },
   "file_extension": ".py",
   "mimetype": "text/x-python",
   "name": "python",
   "nbconvert_exporter": "python",
   "pygments_lexer": "ipython3",
   "version": "3.5.2"
  },
  "nikola": {
   "category": "dev",
   "date": "2017-06-04 03:20:25 UTC+09:00",
   "description": "Yahoo Finance to Google Finance",
   "link": "",
   "slug": "yahoo-finance-to-google-finance",
   "tags": "yahoo,google,pandas_datareader",
   "title": "Yahoo Finance to Google Finance",
   "type": "text"
  }
 },
 "nbformat": 4,
 "nbformat_minor": 2
}
