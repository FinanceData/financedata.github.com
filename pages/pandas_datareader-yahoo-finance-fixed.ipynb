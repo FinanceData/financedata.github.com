{
 "cells": [
  {
   "cell_type": "markdown",
   "metadata": {},
   "source": [
    "여기에 페이지를 작성하세요."
   ]
  }
 ],
 "metadata": {
  "kernelspec": {
   "display_name": "Python 3",
   "env": {},
   "language": "python",
   "name": "python3"
  },
  "nikola": {
   "category": "",
   "date": "2017-08-15 00:16:18 UTC+09:00",
   "description": "",
   "link": "",
   "slug": "pandas_datareader-yahoo-finance-fixed",
   "tags": "",
   "title": "pandas_datareader yahoo finance fixed",
   "type": "text"
  }
 },
 "nbformat": 4,
 "nbformat_minor": 2
}
