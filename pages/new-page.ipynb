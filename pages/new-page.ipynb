{
 "cells": [
  {
   "cell_type": "markdown",
   "metadata": {},
   "source": [
    "여기에 페이지를 작성하세요."
   ]
  }
 ],
 "metadata": {
  "kernelspec": {
   "display_name": "Python 3",
   "env": {},
   "interrupt_mode": "signal",
   "language": "python",
   "metadata": {},
   "name": "python3"
  },
  "nikola": {
   "category": "",
   "date": "2018-10-20 16:11:44 UTC+09:00",
   "description": "",
   "link": "",
   "slug": "new-page",
   "tags": "",
   "title": "new page",
   "type": "text"
  }
 },
 "nbformat": 4,
 "nbformat_minor": 2
}
